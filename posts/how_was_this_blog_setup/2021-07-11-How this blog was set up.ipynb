{
 "cells": [
  {
   "cell_type": "raw",
   "metadata": {},
   "source": [
    "---\n",
    "aliases:\n",
    "- /fastpages/2021/07/11/How this blog was set up\n",
    "badges: true\n",
    "categories:\n",
    "- fastpages\n",
    "- quatro\n",
    "date: '2021-07-11'\n",
    "date-modified: '2023-04-12'\n",
    "\n",
    "image: /posts/logo.png\n",
    "output-file: 2021-07-11-how this blog was set up.html\n",
    "title: How was this blog set up?\n",
    "description: And then broken and then migrated to quarto.\n",
    "toc: true\n",
    "\n",
    "---"
   ]
  },
  {
   "cell_type": "markdown",
   "metadata": {},
   "source": [
    "# Why `fastpages`?\n",
    "\n",
    "## UPDATE: quatro\n",
    "This blog was setup in 2021 using `fastpages`. Two years later my site's layout broke and I couldn't fix it by reverting to previous commits. Then I went to check if I can update utils running under the hood and discovered that `fastpages` are [deprecated](https://github.com/fastai/fastpages) in favor on another notebook-based publishing tool `quarto`. After a deep sigh, I decided to migrate the blog to `quatro` instead of trying to fix the `fastpages` version. The majority of the work is taken care automatically, see this [this migration guide](https://nbdev.fast.ai/tutorials/blogging.html). I'm putting down a list of things that didn't work immediately, or that I had to spent some time looking for, just in case.\n",
    "\n",
    "1. It's really hard to type `quatro` instead of `quarto` or `quadro` when you are web searching.\n",
    "1. To have a custom icon on top of your blog's webpage include the following file in `_quarto.yml` \n",
    "    \n",
    "    ```\n",
    "    ---\n",
    "    website:\n",
    "      favicon: /path/to/image.png\n",
    "    ---\n",
    "    ```\n",
    "1. If paths to your images do not work, try `/path/image.png` instead of `path/image.png` or vice-versa. Or see here ?.\n",
    "1. You can specify the last time the post was modified by including `date-modified: 'xxxx-xx-xx'` in the metadata.\n",
    "1. Again, I had a problem with numbering and referencing equations. And again, I found a [github comment](https://github.com/quarto-dev/quarto-cli/issues/2870#issuecomment-1282979181) that solved the issue. Including \n",
    "    \n",
    "    ```\n",
    "    ---\n",
    "    format:\n",
    "      html:\n",
    "        html-math-method: mathjax\n",
    "        include-in-header:\n",
    "          - text: |\n",
    "              <script>\n",
    "              window.MathJax = {\n",
    "                tex: {\n",
    "                  tags: 'ams'\n",
    "                }\n",
    "              };\n",
    "              </script>\n",
    "     ---\n",
    "     ```\n",
    "in the blog's notebook header solves the issue without any need to modify the standard latex labeling conventions. However, apparently this solution might break in the future.\n",
    "1. To exclude posts from your 'about' page put `listing: false` in the `about.qmd`.\n",
    "\n",
    "\n",
    "Problems not solved.\n",
    "\n",
    "1. I could not figure out how to render preview images for blog posts properly. They typically have wrong size. It's possible to configure height of preview images in `_quarto.yml`\n",
    "    \n",
    "    ```\n",
    "    ---\n",
    "    listing:\n",
    "        image-height: 150px\n",
    "    ---\n",
    "    ```\n",
    "    However, this will *crop*, not *resize* the image. Heuristically I found that when the images have certain proportion (approximately the a4 paper size wide side down) they render well enough. So I had to went back and resize canvas of all my preview images. Hope there is a good solution that I've missed.\n",
    "\n",
    "1. `fastpages` provided a really nice automatic badge for opening the notebook in colab. I think there is no support for this yet in quatro, but you can generate the badge [yourself](https://openincolab.com/).\n",
    "\n",
    "\n",
    "I must say that so far I really like the preview tool of `quarto`. Just call \n",
    "```sh \n",
    "quarto preview\n",
    "```\n",
    "in the shell and you quickly get a local version of your blog that is instantly updated as you change something in the posts or settings, much better than the preview I had with `fastpages`. Apparently, you things can get even better than that by using a proper IDE to work with quarto, but here I can offer little advice.\n",
    "\n",
    "\n",
    "I also recommend checking out [this guide](https://albert-rapp.de/posts/13_quarto_blog_writing_guide/13_quarto_blog_writing_guide.html#three-reasons-for-starting-a-blog) on how to setup a tweak a `quatro` blog.\n",
    "\n",
    "## Fastpages\n",
    "After deciding to start a scientific blog I was looking for an appropriate technical solution. My main requirements were\n",
    "- Ease of set up.\n",
    "- Ease of writing posts.\n",
    "- Decent support of $\\LaTeX$.\n",
    "- Support of code snippets.\n",
    "\n",
    "After some search I decided to try out [fastpages](https://github.com/fastai/fastpages). I have a very limited understanding of the stack that `fastpages` use, so I treat it as a magic box. The magic box was easy for me to install while other bullet points are addressed all at once since `fastpages` allows to generate a post from a `jupyter notebook`. Although `jupyter notebook` is not exactly my favorite $\\LaTeX$ editor it still much better than many other options and a good overall compromise. So essentially with `fastpages` you can write your posts in `jupyter notebook`, then commit to your `github` repository and the content will automatically be hosted at your domain on [github pages](https://pages.github.com/).\n",
    "\n",
    "# Caveats\n",
    "Following [official installation](https://github.com/fastai/fastpages#setup-instructions) worked smoothly for me. While customizing the blog further for my purposes there were several things that did not work right of the box of took some time to find out how to change:\n",
    "\n",
    "## Solved\n",
    "1. I wanted to use numbered $\\LaTeX$ equations with hyperlinks, which are not easily supported. This [comment](https://forums.fast.ai/t/consider-setting-use-math-to-true-by-default/64276/6) solved my problem! \n",
    "1. You need to edit `_pages/about.md` to customize the way your \"about\" page is displayed.\n",
    "1. To customize the front page you need to edit `index.html`. This is literally written on the front page of your blog, but I have not noticed it for a while.\n",
    "1. Initially a lot of troubleshooting is needed to get the appearance of the blog I wanted. Commiting and waiting for the online web page to set up is super-slow. Here is an [official guide](https://github.com/fastai/fastpages/blob/master/_fastpages_docs/DEVELOPMENT.md#converting-the-pages-locally) on how to setup a live preview of your blog locally. One minor point that was a problem for me is that the default local server for blog preview  https://127.0.0.1:4000 was not correct. After running `sudo make server` one of the outputs that `jekyll` produces is `Server address:` http://0.0.0.0:4000/blog/ which was the correct address for the live preview of my blog.\n",
    "1. You need to do some work to make your site appear in google search results. [This](https://victor2code.github.io/blog/2019/07/04/jekyll-github-pages-appear-on-Google.html) manual is very helpful, but a bit outdated: some of the things like generating `sitemap.xml` are now automated and do not require additional work as described in that post.\n",
    "\n",
    "## Not solved\n",
    "1. On the web page the display equations of $\\LaTeX$ have fluctuations in size which does not look good."
   ]
  }
 ],
 "metadata": {
  "kernelspec": {
   "display_name": "Python 3",
   "language": "python",
   "name": "python3"
  },
  "language_info": {
   "codemirror_mode": {
    "name": "ipython",
    "version": 3
   },
   "file_extension": ".py",
   "mimetype": "text/x-python",
   "name": "python",
   "nbconvert_exporter": "python",
   "pygments_lexer": "ipython3",
   "version": "3.8.10"
  },
  "varInspector": {
   "cols": {
    "lenName": 16,
    "lenType": 16,
    "lenVar": 40
   },
   "kernels_config": {
    "python": {
     "delete_cmd_postfix": "",
     "delete_cmd_prefix": "del ",
     "library": "var_list.py",
     "varRefreshCmd": "print(var_dic_list())"
    },
    "r": {
     "delete_cmd_postfix": ") ",
     "delete_cmd_prefix": "rm(",
     "library": "var_list.r",
     "varRefreshCmd": "cat(var_dic_list()) "
    }
   },
   "types_to_exclude": [
    "module",
    "function",
    "builtin_function_or_method",
    "instance",
    "_Feature"
   ],
   "window_display": false
  }
 },
 "nbformat": 4,
 "nbformat_minor": 4
}
