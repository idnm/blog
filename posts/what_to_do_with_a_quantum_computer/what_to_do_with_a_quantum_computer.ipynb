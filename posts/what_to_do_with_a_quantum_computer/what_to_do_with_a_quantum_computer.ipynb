{
 "cells": [
  {
   "cell_type": "raw",
   "id": "ef150114",
   "metadata": {},
   "source": [
    "---\n",
    "title: \"What would I do with a quantum computer?\"\n",
    "description: \"Is quantum advantage looking under a lamppost?\"\n",
    "\n",
    "format:\n",
    "  html:\n",
    "    html-math-method: mathjax\n",
    "    include-in-header:\n",
    "      - text: |\n",
    "          <script>\n",
    "          window.MathJax = {\n",
    "            tex: {\n",
    "              tags: 'ams'\n",
    "            }\n",
    "          };\n",
    "          </script>\n",
    "---"
   ]
  },
  {
   "cell_type": "markdown",
   "id": "24fc34c8",
   "metadata": {},
   "source": [
    "**Random notes**\n",
    "\n",
    "- list\n",
    "-  Make a mind map?\n",
    "- Is looking for quantum advantage akin to searching under a lamppost?\n",
    "- Operating on classical vs quantum data. Comparison vs complex numbers.\n",
    "- Variational algorithms, no guarantees.\n",
    "- QPE may fail because of state preparation.\n",
    "- Are boson&other samplers useful?\n",
    "\n",
    "**Classes of algorithms**\n",
    "\n",
    "- Simulation\n",
    "- Quantum phase estimation\n",
    "- Unstructured search\n",
    "- Prime factoring and breaking crypto\n",
    "- Sampling\n",
    "- Solving linear systems\n",
    "\n",
    "**To read**\n",
    "\n",
    "- [Fedorov2022](#Fedorov2022)\n",
    "- [Bharti2022](#Bharti2022)\n",
    "- [Harrow2018](#Harrow2018)\n",
    "\n",
    "**To watch**\n",
    "\n",
    "- Matthias Troyer: \"High Performance Quantum Computing\" https://www.youtube.com/watch?v=Hkz_Sn5qYWg; \n",
    "    - analog simulators not pow.enough.\n",
    "    - Grover's search, rly?\n",
    "    - Factoring -- will be useless in the end, not a killer app.\n",
    "    - page rank -- apparently no advantage\n",
    "    - \"Which means we need to substantially improve these algorithms and we need to find better problems\" LOL\n",
    "- Towards Practical Quantum Advantage | Quantum Colloquium https://www.youtube.com/watch?v=WY3htdKUGsA\n",
    "- Mindscape 153 | John Preskill on Quantum Computers and What They’re Good For https://www.youtube.com/watch?v=UYt4QG8iZ6U\n"
   ]
  }
 ],
 "metadata": {
  "kernelspec": {
   "display_name": "slow_waves_python38",
   "language": "python",
   "name": "slow_waves_venv"
  },
  "language_info": {
   "codemirror_mode": {
    "name": "ipython",
    "version": 3
   },
   "file_extension": ".py",
   "mimetype": "text/x-python",
   "name": "python",
   "nbconvert_exporter": "python",
   "pygments_lexer": "ipython3",
   "version": "3.8.10"
  }
 },
 "nbformat": 4,
 "nbformat_minor": 5
}
