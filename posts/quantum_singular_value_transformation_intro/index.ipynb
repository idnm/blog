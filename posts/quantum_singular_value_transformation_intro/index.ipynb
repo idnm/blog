{
 "cells": [
  {
   "cell_type": "code",
   "execution_count": null,
   "id": "7ce4357b",
   "metadata": {},
   "outputs": [],
   "source": [
    "---\n",
    "title: \"Introduction to Quantum Singular Value Transformation\"\n",
    "description: \"Or grand unification of quantum algorithms, if you feel a bit grandiose.\"\n",
    "aliases:\n",
    "  - quantum_singular_value_transformation_intro.html\n",
    "bibliography: references.bib\n",
    "csl: physical-review-letters.csl\n",
    "toc: true\n",
    "image: what_to_use_qc_for.svg\n",
    "date: '2023-05-15'\n",
    "\n",
    "format:\n",
    "  html:\n",
    "    html-math-method: mathjax\n",
    "    include-in-header:\n",
    "      - text: |\n",
    "          <script>\n",
    "          window.MathJax = {\n",
    "            tex: {\n",
    "              tags: 'ams'\n",
    "            }\n",
    "          };\n",
    "          </script>\n",
    "---"
   ]
  },
  {
   "cell_type": "code",
   "execution_count": 52,
   "id": "71cfa1bf",
   "metadata": {},
   "outputs": [],
   "source": [
    "import numpy as np\n",
    "import scipy.stats\n",
    "import scipy.linalg\n",
    "\n",
    "import matplotlib.pyplot as plt\n",
    "\n",
    "from functools import reduce\n",
    "\n",
    "import pyqsp\n",
    "import pyqsp.angle_sequence\n",
    "import pyqsp.response\n",
    "\n",
    "from pyqsp.angle_sequence import QuantumSignalProcessingPhases\n",
    "\n",
    "import contextlib\n",
    "import io\n",
    "\n",
    "def quiet(func):\n",
    "    def quiet_func(*args, **kwargs):    \n",
    "        f = io.StringIO()\n",
    "        with contextlib.redirect_stdout(f):\n",
    "            res = func(*args, **kwargs)\n",
    "        return res\n",
    "    return quiet_func"
   ]
  },
  {
   "cell_type": "markdown",
   "id": "e194c464",
   "metadata": {},
   "source": [
    "# Quantum signal processing\n",
    "\n",
    "Define the basic setup of quantum signal processing.\n",
    "- Implementing arbitrary polynomials subject to conditions.\n",
    "- Measure in $|\\pm\\rangle$ basis.\n",
    "- Automated way to find phases."
   ]
  },
  {
   "cell_type": "code",
   "execution_count": 2,
   "id": "9ed04d9d",
   "metadata": {},
   "outputs": [],
   "source": [
    "def R(a):\n",
    "    \"\"\"Singla operator in R-convention\"\"\"\n",
    "    \n",
    "    b = np.sqrt(1-a**2)\n",
    "    W = np.array([\n",
    "        [a, b],\n",
    "        [b, -a]])\n",
    "\n",
    "    return W\n",
    "\n",
    "def Sz(phi):\n",
    "    return np.diag([np.exp(1j*phi), np.exp(-1j*phi)])\n",
    "\n",
    "def angles_from_Wx_to_R(phis):\n",
    "    assert len(phis)>0, 'At least one angle must be provided.'\n",
    "    phis = \\\n",
    "    [phis[0]+(2*len(phis)-3)*np.pi/4] \\\n",
    "    + [phi-np.pi/2 for phi in phis[1:-1]] \\\n",
    "    + [phis[-1]-np.pi/4]\n",
    "    \n",
    "    return phis \n",
    "\n",
    "def apply_QSP(w, phis):\n",
    "    \"\"\"Computes S(phi_0) @ w @ s(phi_1) @ w ... @ S(phi_d-1) @ w @ S(phi_d).\"\"\"\n",
    "    \n",
    "    phis = angles_from_Wx_to_R(phis)\n",
    "    \n",
    "    res = Sz(phis[-1])\n",
    "    for phi in phis[:-1][::-1]:        \n",
    "        res = Sz(phi) @ w @ res\n",
    "    \n",
    "    return res"
   ]
  },
  {
   "cell_type": "markdown",
   "id": "4bb5d8dc",
   "metadata": {},
   "source": [
    "Exercise: implement polynomial by phases."
   ]
  },
  {
   "cell_type": "code",
   "execution_count": 3,
   "id": "c4fd497c",
   "metadata": {},
   "outputs": [
    {
     "data": {
      "image/png": "[encoded data removed]",
      "text/plain": [
       "<Figure size 432x288 with 1 Axes>"
      ]
     },
     "metadata": {
      "needs_background": "light"
     },
     "output_type": "display_data"
    }
   ],
   "source": [
    "# An excersize.\n",
    "\n",
    "def polynomial_value(coeffs, x):\n",
    "    \"\"\" Computes c[0]*x**0 + c[1]*x**1+...+c[n]*x**n. \"\"\"\n",
    "    x = np.array([x])\n",
    "    return (np.array(coeffs) * x**np.arange(len(coeffs))).sum()\n",
    "\n",
    "# Som arbitrary set of polynomial coefficiets.\n",
    "# Must define even or odd polynomial p(x) that satisfies p(x)<1 for -1<x<1. \n",
    "\n",
    "coeffs =  [0., -0.2, 0., 0.5, 0., -0.4]\n",
    "phis = pyqsp.angle_sequence.QuantumSignalProcessingPhases(coeffs, signal_operator='Wx')\n",
    "\n",
    "# Compute polynomial values in the range [-1, 1] directly\n",
    "x = np.linspace(-1, 1, 20)\n",
    "poly_values = [polynomial_value(coeffs, xi) for xi in x]\n",
    "\n",
    "# Compute matrix elements of the QSP sequence\n",
    "unitaries = [apply_QSP(R(xi), phis) for xi in x]\n",
    "matrix_elements = [np.real(u[0,0]) for u in unitaries]\n",
    "\n",
    "# Verify they agree.\n",
    "# assert np.allclose(poly_values, matrix_elements, atol=1e-5)\n",
    "plt.plot(x, poly_values);\n",
    "plt.plot(x, matrix_elements, '*');\n",
    "plt.title('Your polynomial implemented by QSP');"
   ]
  },
  {
   "cell_type": "markdown",
   "id": "96bc275c",
   "metadata": {},
   "source": [
    "# QSVT\n",
    "\n",
    "- Block embedding in the computational basis\n",
    "$$U=\\begin{pmatrix}A&\\cdot\\\\\\cdot&\\cdot\\end{pmatrix}$$\n",
    "- For a single-qubit embedding $U=|0\\rangle \\langle0|\\otimes A+\\dots$.\n",
    "- More generally, there is some basis change $B_L, B_R$ that leads to the standard block-encoding\n",
    "$$U=B_L\\begin{pmatrix}A&\\cdot\\\\\\cdot&\\cdot\\end{pmatrix}B_R$$\n",
    "With any such basis we associated projectors $\\Pi_L=B_L\\left(|0\\rangle\\langle0|\\otimes \\mathbb{1} \\right)B_L^\\dagger $ which satisfy\n",
    "$$\\Pi_L U \\Pi_R = B_L\\begin{pmatrix}A&0\\\\0&0\\end{pmatrix}B_R$$\n",
    "- We need access to \n",
    "$$\\Pi_L(\\phi)=e^{(2\\Pi_L-\\mathbb{I})\\phi}=B_L \\begin{pmatrix}e^{i\\phi}&0\\\\ 0&e^{-i\\phi}\\end{pmatrix}B_L^\\dagger$$\n",
    "\n",
    "Then, the main statement of QSVT is the following. A bit awkwardly, it needs to be split in two cases. First consider when the polynomial is even (the number of phases is odd)\n",
    "\n",
    "$$U_{\\phi}=\\prod_{i=0}^{d/2-1}\\Pi_R(\\phi_{2i})U^\\dagger\\Pi_L(\\phi_{2i+1})U$$\n",
    "When the polynomial is odd (the number of phases even)\n",
    "\n",
    "$$U_{\\phi}=\\Pi_L(\\phi_{0})U\\prod_{i=1}^{(d-1)/2}\\Pi_R(\\phi_{2i-1})U^\\dagger\\Pi_L(\\phi_{2i})U$$"
   ]
  },
  {
   "cell_type": "code",
   "execution_count": 38,
   "id": "89e6b43f-4c95-479b-82ae-5bb00516f1d9",
   "metadata": {},
   "outputs": [],
   "source": [
    "def projector_rotation(P, phi):\n",
    "    n = len(P)\n",
    "    return np.eye(n)*np.cos(phi)-1j*(2*P-np.eye(n))*np.sin(phi)\n",
    "\n",
    "\n",
    "def apply_QSVT(U, PL, PR, phis):\n",
    "    \n",
    "    phi_last = phis[-1]\n",
    "    \n",
    "    if len(phis) % 2 == 1: # Even polynomial\n",
    "        phis_paired = phis[:-1]\n",
    "        phi_0 = None\n",
    "    else: # Odd polynomial\n",
    "        phis_paired = phis[1:-1]\n",
    "        phi_0 = phis[0]\n",
    "    \n",
    "    res = projector_rotation(PR, phi_last)\n",
    "    \n",
    "    for phi_R, phi_L in np.array(phis_paired).reshape(-1, 2)[::-1]:\n",
    "        res =  projector_rotation(PR, phi_R) @ U.conj().T @  projector_rotation(PL, phi_L) @ U @ res\n",
    "    \n",
    "    if phi_0 is not None:\n",
    "        res = projector_rotation(PL, phi_0) @ U @ res\n",
    "        \n",
    "    return res"
   ]
  },
  {
   "cell_type": "markdown",
   "id": "a52cb2d2",
   "metadata": {},
   "source": [
    "# Amplitude amplification\n",
    "\n",
    "Encompasses\n",
    "1. Grover's search.\n",
    "1. Oblivious amplitude amplification.\n",
    "1. Used in other quantum algorithms."
   ]
  },
  {
   "cell_type": "markdown",
   "id": "022f45e6-eaa4-4507-aaa3-04c6b86d7268",
   "metadata": {
    "tags": []
   },
   "source": [
    "## Test"
   ]
  },
  {
   "cell_type": "code",
   "execution_count": 39,
   "id": "4afb2d49-7030-4c00-8abf-f3796e8689a7",
   "metadata": {},
   "outputs": [
    {
     "data": {
      "image/png": "[encoded data removed]",
      "text/plain": [
       "<Figure size 432x288 with 1 Axes>"
      ]
     },
     "metadata": {
      "needs_background": "light"
     },
     "output_type": "display_data"
    }
   ],
   "source": [
    "P = np.diag([1, 0])\n",
    "\n",
    "\n",
    "coeffs =  [0, -0.2, 0., 0.5, 0., -0.4]\n",
    "phis = pyqsp.angle_sequence.QuantumSignalProcessingPhases(coeffs, signal_operator='Wx')\n",
    "phis = angles_from_Wx_to_R(phis)\n",
    "\n",
    "# Compute polynomial values in the range [-1, 1] directly\n",
    "x = np.linspace(-1, 1, 25)\n",
    "poly_values = [polynomial_value(coeffs, xi) for xi in x]\n",
    "\n",
    "unitaries =[apply_QSVT(R(xi), P, P, phis) for xi in x]\n",
    "matrix_elements = [np.real(u[0,0]) for u in unitaries]\n",
    "\n",
    "# Verify they agree.\n",
    "# assert np.allclose(poly_values, matrix_elements, atol=1e-5)\n",
    "plt.plot(x, poly_values);\n",
    "plt.plot(x, matrix_elements, '*');\n",
    "plt.title('Your polynomial implemented by QSP');"
   ]
  },
  {
   "cell_type": "markdown",
   "id": "95e0b18d-b86b-45f4-af2e-3728258f9837",
   "metadata": {},
   "source": [
    "## Poly test"
   ]
  },
  {
   "cell_type": "code",
   "execution_count": 40,
   "id": "40335bf2-ce92-452c-8773-d469febfbce7",
   "metadata": {},
   "outputs": [],
   "source": [
    "target_function = pyqsp.poly.PolySign()\n",
    "\n",
    "coeffs_list = []\n",
    "vals = []\n",
    "for N in range(1, 100)[::1]:\n",
    "    degree = np.ceil(np.sqrt(N))\n",
    "    if degree % 2 == 0:\n",
    "        degree += 1\n",
    "        \n",
    "    coeffs, scale = quiet(target_function.generate)(\n",
    "        degree, \n",
    "        delta=2*np.sqrt(N), \n",
    "        ensure_bounded=True, \n",
    "        return_scale=True);\n",
    "    \n",
    "    coeffs_list.append(coeffs)\n",
    "    vals.append(polynomial_value(coeffs, 1/np.sqrt(N)))"
   ]
  },
  {
   "cell_type": "markdown",
   "id": "e983c8e6-7119-4236-93ad-f419355f18b3",
   "metadata": {},
   "source": [
    "## Implementation"
   ]
  },
  {
   "cell_type": "code",
   "execution_count": 43,
   "id": "b9e2ca68",
   "metadata": {},
   "outputs": [],
   "source": [
    "np.random.seed(42)\n",
    "\n",
    "\n",
    "def projector_from_state(state):\n",
    "    return np.outer(state, state.conj())\n",
    "\n",
    "\n",
    "amplitudes = []\n",
    "for num_qubits in range(1, 11):\n",
    "    \n",
    "    N = 2**num_qubits\n",
    "    \n",
    "    # Define initial state |0> and the associated projector.\n",
    "    all_zero_state = np.zeros(N)\n",
    "    all_zero_state[0] = 1\n",
    "    PR = projector_from_state(all_zero_state)\n",
    "\n",
    "    # Define a random marked state. It will only be accessed via the corresponding projector.\n",
    "    marked_state = np.zeros(N)\n",
    "    marked_state[np.random.randint(0, N)] = 1\n",
    "    PL = projector_from_state(marked_state)\n",
    "\n",
    "    # Signal operator is the n-th tensor power of the Hadamard gate.\n",
    "    H = np.array([[1, 1], [1, -1]])/np.sqrt(2)\n",
    "    U = reduce(np.kron, [H]*num_qubits)\n",
    "\n",
    "    \n",
    "    target_function = pyqsp.poly.PolySign()\n",
    "    \n",
    "    degree = np.ceil(N**0.5)\n",
    "    if degree % 2 == 0:\n",
    "        degree += 1\n",
    "    \n",
    "    delta = N**0.5\n",
    "    coeffs, scale =  quiet(target_function.generate)(degree, delta=delta, return_scale=True)\n",
    "\n",
    "    phis = pyqsp.angle_sequence.QuantumSignalProcessingPhases(coeffs, signal_operator='Wx')\n",
    "    phis = angles_from_Wx_to_R(phis)\n",
    "\n",
    "    U_phi = apply_QSVT(U, PL, PR, phis)\n",
    "    amplitude = np.max(np.abs(np.real(PL @ U_phi @ PR)))\n",
    "    \n",
    "    amplitudes.append(amplitude)"
   ]
  },
  {
   "cell_type": "code",
   "execution_count": 44,
   "id": "4a48f2ec-851d-4f48-89a2-6c6ff3f00352",
   "metadata": {
    "tags": []
   },
   "outputs": [
    {
     "data": {
      "text/plain": [
       "[<matplotlib.lines.Line2D at 0x7f54c1d8a3a0>]"
      ]
     },
     "execution_count": 44,
     "metadata": {},
     "output_type": "execute_result"
    },
    {
     "data": {
      "image/png": "[encoded data removed]",
      "text/plain": [
       "<Figure size 432x288 with 1 Axes>"
      ]
     },
     "metadata": {
      "needs_background": "light"
     },
     "output_type": "display_data"
    }
   ],
   "source": [
    "plt.plot(amplitudes, '*')"
   ]
  },
  {
   "cell_type": "markdown",
   "id": "ccd51ea4",
   "metadata": {},
   "source": [
    "# Hamiltonian simulation\n",
    "\n",
    "We are given three things\n",
    "\n",
    "1. Block embedding of a Hamiltonian $H$, i.e. $U$ s.t. $H=\\left(\\langle 0|\\otimes I \\right)U\\left(|0\\rangle\\otimes I\\right)$.\n",
    "2. Projectors $\\Pi(\\phi)$.\n",
    "3. ??\n",
    "\n",
    "\n",
    "## Block encodings\n",
    "\n",
    "Singular value $\\sigma$ are positive square roots of eigenvalues $M^\\dagger M\\ge0$.\n",
    "\n",
    "To block encode some matrix $M$ we need $||M||\\le1$ where $||\\cdot||$ is the operator norm or, equivalently, the largest singular value."
   ]
  },
  {
   "cell_type": "code",
   "execution_count": 90,
   "id": "7bac2757",
   "metadata": {
    "tags": []
   },
   "outputs": [],
   "source": [
    "class BlockEncoding:\n",
    "    \n",
    "    def __init__(self, M):\n",
    "        \n",
    "        self.num_rows = M.shape[0]\n",
    "        self.num_cols = M.shape[1]\n",
    "        self.dim = 2*max(self.num_rows, self.num_cols)\n",
    "        \n",
    "        self.diagonal_block = self.pad_matrix_to_square(M)\n",
    "        \n",
    "        U, S, WH = np.linalg.svd(self.diagonal_block)\n",
    "        \n",
    "        self.U = U\n",
    "        self.S = S\n",
    "        self.WH = WH\n",
    "        \n",
    "        self.off_diagonal_block = self.make_off_diagonal_block(self.U, self.S, self.WH)\n",
    "        \n",
    "        self.unitary = self.unitary_from_blocks(\n",
    "            self.diagonal_block, \n",
    "            self.off_diagonal_block)\n",
    "        \n",
    "        self.projector = np.kron(np.diag([1, 0]), np.eye(self.dim//2))\n",
    "                    \n",
    "    @staticmethod\n",
    "    def pad_matrix_to_square(M):\n",
    "        \"\"\"Pads a matrix with zeros to make it square.\"\"\"\n",
    "\n",
    "        n_rows, n_cols = M.shape\n",
    "        n_max = max(n_rows, n_cols)\n",
    "        S = np.zeros((n_max, n_max), dtype=np.complex64)\n",
    "        S[:n_rows,:n_cols] = M\n",
    "        return S\n",
    "    \n",
    "    @staticmethod\n",
    "    def make_off_diagonal_block(u, s, wh):\n",
    "        assert np.all(s<=1), f'All singular values {s} must be less than 1.'\n",
    "        return u @ np.diag(np.sqrt(1-s**2)) @ wh\n",
    "    \n",
    "    @staticmethod\n",
    "    def unitary_from_blocks(A, B):\n",
    "        n = A.shape[0]\n",
    "        U = np.zeros((2*n, 2*n), dtype=np.complex64)\n",
    "        U[:n, :n] = A\n",
    "        U[:n,n:2*n] = B\n",
    "        U[n:2*n, :n] = B\n",
    "        U[n:2*n, n:2*n] = -A\n",
    "        \n",
    "        assert np.allclose(U @ U.conj().T, np.eye(2*n), atol=1e-5), 'Ops, block encoding is not unitary.'\n",
    "        return U"
   ]
  },
  {
   "cell_type": "markdown",
   "id": "bf787948-319b-450f-83d9-2ab0d6f7e296",
   "metadata": {},
   "source": [
    "## Implementation"
   ]
  },
  {
   "cell_type": "markdown",
   "id": "cf360075-d25a-4409-a472-9e5356a36aee",
   "metadata": {},
   "source": [
    "- Success probability depends on the details of block encoding. \n",
    "- We assume $0\\le spec(H)\\le 1$.\n",
    "- In our case we build bloc-encoding of $\\frac12 e^{-i H t}$ and the algorithm successed with $\\frac14$ chance.\n",
    "- $C(e^{i\\phi}U)=C(U)\\cdot S\\otimes I$\n",
    "\n",
    "\n"
   ]
  },
  {
   "cell_type": "markdown",
   "id": "cd2bf22c-9443-430c-8fde-dfd265b1c595",
   "metadata": {},
   "source": [
    "Firts let's build the polynomials and angles sequences."
   ]
  },
  {
   "cell_type": "code",
   "execution_count": 221,
   "id": "8155d573-7387-4215-ba2a-339966b5f2e4",
   "metadata": {},
   "outputs": [],
   "source": [
    "seed = 42\n",
    "np.random.seed(seed)\n",
    "\n",
    "num_qubits = 6\n",
    "N = 2**num_qubits\n",
    "\n",
    "V = scipy.stats.unitary_group.rvs(N, random_state=seed)\n",
    "D = np.random.uniform(low=0, high=1, size=(N,))\n",
    "\n",
    "H = V*D @ V.conj().T\n",
    "\n",
    "block_encoding = BlockEncoding(H)\n",
    "U = block_encoding.unitary\n",
    "P = block_encoding.projector"
   ]
  },
  {
   "cell_type": "code",
   "execution_count": 222,
   "id": "cc7e5734-0d42-41e3-b200-7c986b8304c7",
   "metadata": {},
   "outputs": [],
   "source": [
    "costx = pyqsp.poly.PolyCosineTX()\n",
    "sintx = pyqsp.poly.PolySineTX()\n",
    "\n",
    "t = np.arange(1, 10)\n",
    "epsilon = 0.01\n",
    "\n",
    "norms = []\n",
    "degrees = []\n",
    "for ti in t:\n",
    "\n",
    "    U_phi = []\n",
    "    degree = 0\n",
    "    \n",
    "    for target_function in [costx, sintx]:\n",
    "        coeffs = quiet(target_function.generate)(tau=ti, epsilon=epsilon)\n",
    "        phis = pyqsp.angle_sequence.QuantumSignalProcessingPhases(coeffs, signal_operator='Wx')\n",
    "        phis = angles_from_Wx_to_R(phis)\n",
    "        degree += len(phis)-1\n",
    "\n",
    "        U_phi.append(apply_QSVT(U, P, P, phis))\n",
    "    \n",
    "    degrees.append(degree)\n",
    "    \n",
    "    U_phi_cos, U_phi_sin = U_phi\n",
    "    H_cos = U_phi_cos[:N, :N]+U_phi_cos[:N, :N].conj().T\n",
    "    H_sin = U_phi_sin[:N, :N]+U_phi_sin[:N, :N].conj().T\n",
    "    H_transformed = H_cos -1j*H_sin\n",
    "    \n",
    "    norm = np.linalg.norm(H_transformed-scipy.linalg.expm(-1j*H*ti))\n",
    "    norms.append(norm)"
   ]
  },
  {
   "cell_type": "code",
   "execution_count": 223,
   "id": "3a2b280b-4617-475d-8f1a-fda6d1e59edd",
   "metadata": {},
   "outputs": [
    {
     "data": {
      "image/png": "[encoded data removed]",
      "text/plain": [
       "<Figure size 432x288 with 1 Axes>"
      ]
     },
     "metadata": {
      "needs_background": "light"
     },
     "output_type": "display_data"
    }
   ],
   "source": [
    "plt.plot(t, norms)\n",
    "plt.axhline(epsilon, color='red', linestyle='--', label='error threshold')\n",
    "plt.plot(t, degrees, '*')\n",
    "plt.yscale('log')"
   ]
  }
 ],
 "metadata": {
  "kernelspec": {
   "display_name": "Python 3",
   "language": "python",
   "name": "python3"
  },
  "language_info": {
   "codemirror_mode": {
    "name": "ipython",
    "version": 3
   },
   "file_extension": ".py",
   "mimetype": "text/x-python",
   "name": "python",
   "nbconvert_exporter": "python",
   "pygments_lexer": "ipython3",
   "version": "3.8.10"
  },
  "widgets": {
   "application/vnd.jupyter.widget-state+json": {
    "state": {},
    "version_major": 2,
    "version_minor": 0
   }
  }
 },
 "nbformat": 4,
 "nbformat_minor": 5
}
