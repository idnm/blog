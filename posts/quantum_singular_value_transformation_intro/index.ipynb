{
 "cells": [
  {
   "cell_type": "code",
   "execution_count": null,
   "id": "7ce4357b",
   "metadata": {},
   "outputs": [],
   "source": [
    "---\n",
    "title: \"Introduction to Quantum Singular Value Transformation\"\n",
    "description: \"Or grand unification of quantum algorithms, if you feel a bit grandiose.\"\n",
    "aliases:\n",
    "  - quantum_singular_value_transformation_intro.html\n",
    "bibliography: references.bib\n",
    "csl: physical-review-letters.csl\n",
    "toc: true\n",
    "image: what_to_use_qc_for.svg\n",
    "date: '2023-05-15'\n",
    "\n",
    "format:\n",
    "  html:\n",
    "    html-math-method: mathjax\n",
    "    include-in-header:\n",
    "      - text: |\n",
    "          <script>\n",
    "          window.MathJax = {\n",
    "            tex: {\n",
    "              tags: 'ams'\n",
    "            }\n",
    "          };\n",
    "          </script>\n",
    "---"
   ]
  },
  {
   "cell_type": "code",
   "execution_count": 1,
   "id": "71cfa1bf",
   "metadata": {},
   "outputs": [],
   "source": [
    "import numpy as np\n",
    "import matplotlib.pyplot as plt\n",
    "\n",
    "from functools import reduce\n",
    "\n",
    "import pyqsp\n",
    "import pyqsp.angle_sequence\n",
    "import pyqsp.response\n",
    "\n",
    "from pyqsp.angle_sequence import QuantumSignalProcessingPhases"
   ]
  },
  {
   "cell_type": "markdown",
   "id": "e194c464",
   "metadata": {},
   "source": [
    "# Quantum signal processing\n",
    "\n",
    "Define the basic setup of quantum signal processing.\n",
    "- Implementing arbitrary polynomials subject to conditions.\n",
    "- Measure in $|\\pm\\rangle$ basis.\n",
    "- Automated way to find phases."
   ]
  },
  {
   "cell_type": "code",
   "execution_count": 11,
   "id": "9ed04d9d",
   "metadata": {},
   "outputs": [],
   "source": [
    "def R(a):\n",
    "    \"\"\"Singla operator in R-convention\"\"\"\n",
    "    \n",
    "    b = np.sqrt(1-a**2)\n",
    "    W = np.array([\n",
    "        [a, b],\n",
    "        [b, -a]])\n",
    "\n",
    "    return W\n",
    "\n",
    "def Sz(phi):\n",
    "    return np.diag([np.exp(1j*phi), np.exp(-1j*phi)])\n",
    "\n",
    "def angles_from_Wx_to_R(phis):\n",
    "    assert len(phis)>0, 'At least one angle must be provided.'\n",
    "    phis = \\\n",
    "    [phis[0]+(2*len(phis)-3)*np.pi/4] \\\n",
    "    + [phi-np.pi/2 for phi in phis[1:-1]] \\\n",
    "    + [phis[-1]-np.pi/4]\n",
    "    \n",
    "    return phis \n",
    "\n",
    "def apply_QSP(w, phis):\n",
    "    \"\"\"Computes S(phi_0) @ w @ s(phi_1) @ w ... @ S(phi_d-1) @ w @ S(phi_d).\"\"\"\n",
    "    \n",
    "    phis = angles_from_Wx_to_R(phis)\n",
    "    \n",
    "    res = Sz(phis[-1])\n",
    "    for phi in phis[:-1][::-1]:        \n",
    "        res = Sz(phi) @ w @ res\n",
    "    \n",
    "    return res"
   ]
  },
  {
   "cell_type": "markdown",
   "id": "4bb5d8dc",
   "metadata": {},
   "source": [
    "Exercise: implement polynomial by phases."
   ]
  },
  {
   "cell_type": "code",
   "execution_count": 17,
   "id": "c4fd497c",
   "metadata": {},
   "outputs": [
    {
     "data": {
      "image/png": "[encoded data removed]",
      "text/plain": [
       "<Figure size 432x288 with 1 Axes>"
      ]
     },
     "metadata": {
      "needs_background": "light"
     },
     "output_type": "display_data"
    }
   ],
   "source": [
    "# An excersize.\n",
    "\n",
    "def polynomial_value(coeffs, x):\n",
    "    \"\"\" Computes c[0]*x**0 + c[1]*x**1+...+c[n]*x**n. \"\"\"\n",
    "    x = np.array([x])\n",
    "    return (np.array(coeffs) * x**np.arange(len(coeffs))).sum()\n",
    "\n",
    "# Som arbitrary set of polynomial coefficiets.\n",
    "# Must define even or odd polynomial p(x) that satisfies p(x)<1 for -1<x<1. \n",
    "\n",
    "coeffs =  [0., -0.2, 0., 0.5, 0., -0.4]\n",
    "phis = pyqsp.angle_sequence.QuantumSignalProcessingPhases(coeffs, signal_operator='Wx')\n",
    "\n",
    "# Compute polynomial values in the range [-1, 1] directly\n",
    "x = np.linspace(-1, 1, 20)\n",
    "poly_values = [polynomial_value(coeffs, xi) for xi in x]\n",
    "\n",
    "# Compute matrix elements of the QSP sequence\n",
    "unitaries = [apply_QSP(R(xi), phis) for xi in x]\n",
    "matrix_elements = [np.real(u[0,0]) for u in unitaries]\n",
    "\n",
    "# Verify they agree.\n",
    "# assert np.allclose(poly_values, matrix_elements, atol=1e-5)\n",
    "plt.plot(x, poly_values);\n",
    "plt.plot(x, matrix_elements, '*');\n",
    "plt.title('Your polynomial implemented by QSP');"
   ]
  },
  {
   "cell_type": "markdown",
   "id": "96bc275c",
   "metadata": {},
   "source": [
    "# QSVT\n",
    "\n",
    "- Block embedding in the computational basis\n",
    "$$U=\\begin{pmatrix}A&\\cdot\\\\\\cdot&\\cdot\\end{pmatrix}$$\n",
    "- For a single-qubit embedding $U=|0\\rangle \\langle0|\\otimes A+\\dots$.\n",
    "- More generally, there is some basis change $B_L, B_R$ that leads to the standard block-encoding\n",
    "$$U=B_L\\begin{pmatrix}A&\\cdot\\\\\\cdot&\\cdot\\end{pmatrix}B_R$$\n",
    "With any such basis we associated projectors $\\Pi_L=B_L\\left(|0\\rangle\\langle0|\\otimes \\mathbb{1} \\right)B_L^\\dagger $ which satisfy\n",
    "$$\\Pi_L U \\Pi_R = B_L\\begin{pmatrix}A&0\\\\0&0\\end{pmatrix}B_R$$\n",
    "- We need access to \n",
    "$$\\Pi_L(\\phi)=e^{(2\\Pi_L-\\mathbb{I})\\phi}=B_L \\begin{pmatrix}e^{i\\phi}&0\\\\ 0&e^{-i\\phi}\\end{pmatrix}B_L^\\dagger$$\n",
    "\n",
    "Then, the main statement of QSVT is the following. A bit awkwardly, it needs to be split in two cases. First consider when the polynomial is even (the number of phases is odd)\n",
    "\n",
    "$$U_{\\phi}=\\prod_{i=0}^{d/2-1}\\Pi_R(\\phi_{2i})U^\\dagger\\Pi_L(\\phi_{2i+1})U$$\n",
    "When the polynomial is odd (the number of phases even)\n",
    "\n",
    "$$U_{\\phi}=\\Pi_L(\\phi_{0})U\\prod_{i=1}^{(d-1)/2}\\Pi_R(\\phi_{2i-1})U^\\dagger\\Pi_L(\\phi_{2i})U$$"
   ]
  },
  {
   "cell_type": "code",
   "execution_count": null,
   "id": "89e6b43f-4c95-479b-82ae-5bb00516f1d9",
   "metadata": {},
   "outputs": [],
   "source": [
    "def apply_QSVT(U, PL, PR, phis):\n",
    "    \n",
    "    phi_last = phis[-1]\n",
    "    \n",
    "    if len(phis) % 2 == 1: # Even polynomial\n",
    "        phis_paired = phis[:-1]\n",
    "        phi_0 = None\n",
    "    else: # Odd polynomial\n",
    "        phis_paired = phis[1:-1]\n",
    "        phi_0 = phis[0]\n",
    "    \n",
    "    res = projector_rotation(PR, phi_last)\n",
    "    \n",
    "    for phi_R, phi_L in np.array(phis_paired).reshape(-1, 2)[::-1]:\n",
    "        res =  projector_rotation(PR, phi_R) @ U.conj().T @  projector_rotation(PL, phi_L) @ U @ res\n",
    "    \n",
    "    if phi_0 is not None:\n",
    "        res = projector_rotation(PL, phi_0) @ U @ res\n",
    "        \n",
    "    return res"
   ]
  },
  {
   "cell_type": "markdown",
   "id": "a52cb2d2",
   "metadata": {},
   "source": [
    "# Amplitude amplification\n",
    "\n",
    "Encompasses\n",
    "1. Grover's search.\n",
    "1. Oblivious amplitude amplification.\n",
    "1. Used in other quantum algorithms."
   ]
  },
  {
   "cell_type": "markdown",
   "id": "022f45e6-eaa4-4507-aaa3-04c6b86d7268",
   "metadata": {
    "tags": [],
    "toc-hr-collapsed": true
   },
   "source": [
    "## Test"
   ]
  },
  {
   "cell_type": "code",
   "execution_count": 27,
   "id": "4afb2d49-7030-4c00-8abf-f3796e8689a7",
   "metadata": {},
   "outputs": [
    {
     "data": {
      "image/png": "[encoded data removed]",
      "text/plain": [
       "<Figure size 432x288 with 1 Axes>"
      ]
     },
     "metadata": {
      "needs_background": "light"
     },
     "output_type": "display_data"
    }
   ],
   "source": [
    "P = np.diag([1, 0])\n",
    "\n",
    "\n",
    "coeffs =  [0, -0.2, 0., 0.5, 0., -0.4]\n",
    "phis = pyqsp.angle_sequence.QuantumSignalProcessingPhases(coeffs, signal_operator='Wx')\n",
    "phis = angles_from_Wx_to_R(phis)\n",
    "\n",
    "# Compute polynomial values in the range [-1, 1] directly\n",
    "x = np.linspace(-1, 1, 25)\n",
    "poly_values = [polynomial_value(coeffs, xi) for xi in x]\n",
    "\n",
    "unitaries =[apply_QSVT(R(xi), P, P, phis) for xi in x]\n",
    "matrix_elements = [np.real(u[0,0]) for u in unitaries]\n",
    "\n",
    "# Verify they agree.\n",
    "# assert np.allclose(poly_values, matrix_elements, atol=1e-5)\n",
    "plt.plot(x, poly_values);\n",
    "plt.plot(x, matrix_elements, '*');\n",
    "plt.title('Your polynomial implemented by QSP');"
   ]
  },
  {
   "cell_type": "markdown",
   "id": "95e0b18d-b86b-45f4-af2e-3728258f9837",
   "metadata": {},
   "source": [
    "## Poly test"
   ]
  },
  {
   "cell_type": "code",
   "execution_count": 173,
   "id": "40335bf2-ce92-452c-8773-d469febfbce7",
   "metadata": {},
   "outputs": [
    {
     "name": "stdout",
     "output_type": "stream",
     "text": [
      "[pyqsp.poly.PolySign] degree=1, delta=0.0\n",
      "[PolyTaylorSeries] max [inf] is at [0.1]: normalizing\n",
      "[PolyTaylorSeries] average error = nan in the domain [-1, 1] using degree 1\n",
      "[pyqsp.poly.PolySign] degree=1, delta=2.0\n",
      "[PolyTaylorSeries] max [0.90422975] is at [1.]: normalizing\n",
      "[PolyTaylorSeries] average error = 0.26665743286212396 in the domain [-1, 1] using degree 1\n",
      "[pyqsp.poly.PolySign] degree=3, delta=2.8284271247461903\n",
      "[PolyTaylorSeries] max [0.86327883] is at [0.86147542]: normalizing\n",
      "[PolyTaylorSeries] average error = 0.19244082131510504 in the domain [-1, 1] using degree 3\n",
      "[pyqsp.poly.PolySign] degree=3, delta=3.4641016151377544\n",
      "[PolyTaylorSeries] max [0.86108651] is at [0.85815461]: normalizing\n",
      "[PolyTaylorSeries] average error = 0.22773801483727588 in the domain [-1, 1] using degree 3\n",
      "[pyqsp.poly.PolySign] degree=3, delta=4.0\n",
      "[PolyTaylorSeries] max [0.86083901] is at [0.85777936]: normalizing\n",
      "[PolyTaylorSeries] average error = 0.24924335463420821 in the domain [-1, 1] using degree 3\n",
      "[pyqsp.poly.PolySign] degree=3, delta=4.47213595499958\n",
      "[PolyTaylorSeries] max [0.86080966] is at [0.85773484]: normalizing\n",
      "[PolyTaylorSeries] average error = 0.2639815404248002 in the domain [-1, 1] using degree 3\n",
      "[pyqsp.poly.PolySign] degree=3, delta=4.898979485566356\n",
      "[PolyTaylorSeries] max [0.86080608] is at [0.8577294]: normalizing\n",
      "[PolyTaylorSeries] average error = 0.2748701085724179 in the domain [-1, 1] using degree 3\n",
      "[pyqsp.poly.PolySign] degree=3, delta=5.291502622129181\n",
      "[PolyTaylorSeries] max [0.86080563] is at [0.85772873]: normalizing\n",
      "[PolyTaylorSeries] average error = 0.28333486535376917 in the domain [-1, 1] using degree 3\n",
      "[pyqsp.poly.PolySign] degree=3, delta=5.656854249492381\n",
      "[PolyTaylorSeries] max [0.86080558] is at [0.85772865]: normalizing\n",
      "[PolyTaylorSeries] average error = 0.29015917329712704 in the domain [-1, 1] using degree 3\n",
      "[pyqsp.poly.PolySign] degree=3, delta=6.0\n",
      "[PolyTaylorSeries] max [0.86080557] is at [0.85772863]: normalizing\n",
      "[PolyTaylorSeries] average error = 0.2958126377223249 in the domain [-1, 1] using degree 3\n",
      "[pyqsp.poly.PolySign] degree=5, delta=6.324555320336759\n",
      "[PolyTaylorSeries] max [0.9] is at [1.]: normalizing\n",
      "[PolyTaylorSeries] average error = 0.18678170998716268 in the domain [-1, 1] using degree 5\n",
      "[pyqsp.poly.PolySign] degree=5, delta=6.6332495807108\n",
      "[PolyTaylorSeries] max [0.9] is at [1.]: normalizing\n",
      "[PolyTaylorSeries] average error = 0.19089501880054102 in the domain [-1, 1] using degree 5\n",
      "[pyqsp.poly.PolySign] degree=5, delta=6.928203230275509\n",
      "[PolyTaylorSeries] max [0.9] is at [1.]: normalizing\n",
      "[PolyTaylorSeries] average error = 0.19448458501243626 in the domain [-1, 1] using degree 5\n",
      "[pyqsp.poly.PolySign] degree=5, delta=7.211102550927978\n",
      "[PolyTaylorSeries] max [0.9] is at [1.]: normalizing\n",
      "[PolyTaylorSeries] average error = 0.19765245685983024 in the domain [-1, 1] using degree 5\n",
      "[pyqsp.poly.PolySign] degree=5, delta=7.483314773547883\n",
      "[PolyTaylorSeries] max [0.9] is at [1.]: normalizing\n",
      "[PolyTaylorSeries] average error = 0.20047509260518162 in the domain [-1, 1] using degree 5\n",
      "[pyqsp.poly.PolySign] degree=5, delta=7.745966692414834\n",
      "[PolyTaylorSeries] max [0.9] is at [1.]: normalizing\n",
      "[PolyTaylorSeries] average error = 0.20301094205712572 in the domain [-1, 1] using degree 5\n",
      "[pyqsp.poly.PolySign] degree=5, delta=8.0\n",
      "[PolyTaylorSeries] max [0.9] is at [1.]: normalizing\n",
      "[PolyTaylorSeries] average error = 0.20530551095076796 in the domain [-1, 1] using degree 5\n",
      "[pyqsp.poly.PolySign] degree=5, delta=8.246211251235321\n",
      "[PolyTaylorSeries] max [0.9] is at [1.]: normalizing\n",
      "[PolyTaylorSeries] average error = 0.20739481003401497 in the domain [-1, 1] using degree 5\n",
      "[pyqsp.poly.PolySign] degree=5, delta=8.48528137423857\n",
      "[PolyTaylorSeries] max [0.9] is at [1.]: normalizing\n",
      "[PolyTaylorSeries] average error = 0.209307752610014 in the domain [-1, 1] using degree 5\n",
      "[pyqsp.poly.PolySign] degree=5, delta=8.717797887081348\n",
      "[PolyTaylorSeries] max [0.9] is at [1.]: normalizing\n",
      "[PolyTaylorSeries] average error = 0.21106785488913374 in the domain [-1, 1] using degree 5\n",
      "[pyqsp.poly.PolySign] degree=5, delta=8.94427190999916\n",
      "[PolyTaylorSeries] max [0.9] is at [1.]: normalizing\n",
      "[PolyTaylorSeries] average error = 0.2126944649157489 in the domain [-1, 1] using degree 5\n",
      "[pyqsp.poly.PolySign] degree=5, delta=9.16515138991168\n",
      "[PolyTaylorSeries] max [0.9] is at [1.]: normalizing\n",
      "[PolyTaylorSeries] average error = 0.21420366643016048 in the domain [-1, 1] using degree 5\n",
      "[pyqsp.poly.PolySign] degree=5, delta=9.38083151964686\n",
      "[PolyTaylorSeries] max [0.9] is at [1.]: normalizing\n",
      "[PolyTaylorSeries] average error = 0.2156089543557237 in the domain [-1, 1] using degree 5\n",
      "[pyqsp.poly.PolySign] degree=5, delta=9.591663046625438\n",
      "[PolyTaylorSeries] max [0.9] is at [1.]: normalizing\n",
      "[PolyTaylorSeries] average error = 0.21692174701128664 in the domain [-1, 1] using degree 5\n",
      "[pyqsp.poly.PolySign] degree=5, delta=9.797958971132712\n",
      "[PolyTaylorSeries] max [0.9] is at [1.]: normalizing\n",
      "[PolyTaylorSeries] average error = 0.21815177969095131 in the domain [-1, 1] using degree 5\n",
      "[pyqsp.poly.PolySign] degree=5, delta=10.0\n",
      "[PolyTaylorSeries] max [0.9] is at [1.]: normalizing\n",
      "[PolyTaylorSeries] average error = 0.21930741075851684 in the domain [-1, 1] using degree 5\n",
      "[pyqsp.poly.PolySign] degree=7, delta=10.198039027185569\n",
      "[PolyTaylorSeries] max [0.8950296] is at [0.96694168]: normalizing\n",
      "[PolyTaylorSeries] average error = 0.18182668692901177 in the domain [-1, 1] using degree 7\n",
      "[pyqsp.poly.PolySign] degree=7, delta=10.392304845413264\n",
      "[PolyTaylorSeries] max [0.8950296] is at [0.96694167]: normalizing\n",
      "[PolyTaylorSeries] average error = 0.18285423047239616 in the domain [-1, 1] using degree 7\n",
      "[pyqsp.poly.PolySign] degree=7, delta=10.583005244258363\n",
      "[PolyTaylorSeries] max [0.8950296] is at [0.96694169]: normalizing\n",
      "[PolyTaylorSeries] average error = 0.18382635949125412 in the domain [-1, 1] using degree 7\n",
      "[pyqsp.poly.PolySign] degree=7, delta=10.770329614269007\n",
      "[PolyTaylorSeries] max [0.8950296] is at [0.9669417]: normalizing\n",
      "[PolyTaylorSeries] average error = 0.18474789033651798 in the domain [-1, 1] using degree 7\n",
      "[pyqsp.poly.PolySign] degree=7, delta=10.954451150103322\n",
      "[PolyTaylorSeries] max [0.8950296] is at [0.96694173]: normalizing\n",
      "[PolyTaylorSeries] average error = 0.1856230731075279 in the domain [-1, 1] using degree 7\n",
      "[pyqsp.poly.PolySign] degree=7, delta=11.135528725660043\n",
      "[PolyTaylorSeries] max [0.8950296] is at [0.9669417]: normalizing\n",
      "[PolyTaylorSeries] average error = 0.18645567436852173 in the domain [-1, 1] using degree 7\n",
      "[pyqsp.poly.PolySign] degree=7, delta=11.313708498984761\n",
      "[PolyTaylorSeries] max [0.8950296] is at [0.96694171]: normalizing\n",
      "[PolyTaylorSeries] average error = 0.18724904559871203 in the domain [-1, 1] using degree 7\n",
      "[pyqsp.poly.PolySign] degree=7, delta=11.489125293076057\n",
      "[PolyTaylorSeries] max [0.89502959] is at [0.96694172]: normalizing\n",
      "[PolyTaylorSeries] average error = 0.1880061801848548 in the domain [-1, 1] using degree 7\n",
      "[pyqsp.poly.PolySign] degree=7, delta=11.661903789690601\n",
      "[PolyTaylorSeries] max [0.89502959] is at [0.96694169]: normalizing\n",
      "[PolyTaylorSeries] average error = 0.1887297611430554 in the domain [-1, 1] using degree 7\n",
      "[pyqsp.poly.PolySign] degree=7, delta=11.832159566199232\n",
      "[PolyTaylorSeries] max [0.89502959] is at [0.9669417]: normalizing\n",
      "[PolyTaylorSeries] average error = 0.18942220129792442 in the domain [-1, 1] using degree 7\n",
      "[pyqsp.poly.PolySign] degree=7, delta=12.0\n",
      "[PolyTaylorSeries] max [0.89502959] is at [0.96694169]: normalizing\n",
      "[PolyTaylorSeries] average error = 0.19008567728751846 in the domain [-1, 1] using degree 7\n",
      "[pyqsp.poly.PolySign] degree=7, delta=12.165525060596439\n",
      "[PolyTaylorSeries] max [0.89502959] is at [0.96694169]: normalizing\n",
      "[PolyTaylorSeries] average error = 0.19072215847955942 in the domain [-1, 1] using degree 7\n",
      "[pyqsp.poly.PolySign] degree=7, delta=12.328828005937952\n",
      "[PolyTaylorSeries] max [0.89502959] is at [0.96694171]: normalizing\n",
      "[PolyTaylorSeries] average error = 0.19133343167797146 in the domain [-1, 1] using degree 7\n",
      "[pyqsp.poly.PolySign] degree=7, delta=12.489995996796797\n",
      "[PolyTaylorSeries] max [0.89502959] is at [0.9669417]: normalizing\n",
      "[PolyTaylorSeries] average error = 0.19192112232277125 in the domain [-1, 1] using degree 7\n",
      "[pyqsp.poly.PolySign] degree=7, delta=12.649110640673518\n",
      "[PolyTaylorSeries] max [0.89502959] is at [0.96694167]: normalizing\n",
      "[PolyTaylorSeries] average error = 0.19248671275658805 in the domain [-1, 1] using degree 7\n",
      "[pyqsp.poly.PolySign] degree=7, delta=12.806248474865697\n",
      "[PolyTaylorSeries] max [0.89502959] is at [0.96694168]: normalizing\n",
      "[PolyTaylorSeries] average error = 0.19303155802591854 in the domain [-1, 1] using degree 7\n",
      "[pyqsp.poly.PolySign] degree=7, delta=12.96148139681572\n",
      "[PolyTaylorSeries] max [0.89502959] is at [0.96694172]: normalizing\n",
      "[PolyTaylorSeries] average error = 0.19355689960228006 in the domain [-1, 1] using degree 7\n",
      "[pyqsp.poly.PolySign] degree=7, delta=13.114877048604\n",
      "[PolyTaylorSeries] max [0.89502959] is at [0.96694172]: normalizing\n",
      "[PolyTaylorSeries] average error = 0.19406387733633781 in the domain [-1, 1] using degree 7\n",
      "[pyqsp.poly.PolySign] degree=7, delta=13.2664991614216\n",
      "[PolyTaylorSeries] max [0.89502959] is at [0.96694169]: normalizing\n",
      "[PolyTaylorSeries] average error = 0.19455353990956778 in the domain [-1, 1] using degree 7\n",
      "[pyqsp.poly.PolySign] degree=7, delta=13.416407864998739\n",
      "[PolyTaylorSeries] max [0.89502959] is at [0.9669417]: normalizing\n",
      "[PolyTaylorSeries] average error = 0.19502685400142794 in the domain [-1, 1] using degree 7\n",
      "[pyqsp.poly.PolySign] degree=7, delta=13.564659966250536\n",
      "[PolyTaylorSeries] max [0.89502959] is at [0.9669417]: normalizing\n",
      "[PolyTaylorSeries] average error = 0.19548471235558676 in the domain [-1, 1] using degree 7\n",
      "[pyqsp.poly.PolySign] degree=7, delta=13.711309200802088\n",
      "[PolyTaylorSeries] max [0.89502959] is at [0.9669417]: normalizing\n",
      "[PolyTaylorSeries] average error = 0.1959279408953485 in the domain [-1, 1] using degree 7\n",
      "[pyqsp.poly.PolySign] degree=7, delta=13.856406460551018\n",
      "[PolyTaylorSeries] max [0.89502959] is at [0.96694169]: normalizing\n",
      "[PolyTaylorSeries] average error = 0.19635730502070264 in the domain [-1, 1] using degree 7\n",
      "[pyqsp.poly.PolySign] degree=7, delta=14.0\n",
      "[PolyTaylorSeries] max [0.89502959] is at [0.96694169]: normalizing\n",
      "[PolyTaylorSeries] average error = 0.19677351519430736 in the domain [-1, 1] using degree 7\n",
      "[pyqsp.poly.PolySign] degree=9, delta=14.142135623730951\n",
      "[PolyTaylorSeries] max [0.9] is at [1.]: normalizing\n",
      "[PolyTaylorSeries] average error = 0.1666191498269259 in the domain [-1, 1] using degree 9\n",
      "[pyqsp.poly.PolySign] degree=9, delta=14.2828568570857\n",
      "[PolyTaylorSeries] max [0.9] is at [1.]: normalizing\n",
      "[PolyTaylorSeries] average error = 0.1670109879764039 in the domain [-1, 1] using degree 9\n",
      "[pyqsp.poly.PolySign] degree=9, delta=14.422205101855956\n",
      "[PolyTaylorSeries] max [0.9] is at [1.]: normalizing\n",
      "[PolyTaylorSeries] average error = 0.16739152102353116 in the domain [-1, 1] using degree 9\n",
      "[pyqsp.poly.PolySign] degree=9, delta=14.560219778561036\n"
     ]
    },
    {
     "name": "stderr",
     "output_type": "stream",
     "text": [
      "<ipython-input-173-f78e201399c8>:12: RuntimeWarning: divide by zero encountered in double_scalars\n",
      "  vals.append(polynomial_value(coeffs, 1/np.sqrt(N)))\n"
     ]
    },
    {
     "name": "stdout",
     "output_type": "stream",
     "text": [
      "[PolyTaylorSeries] max [0.9] is at [1.]: normalizing\n",
      "[PolyTaylorSeries] average error = 0.16776128430658827 in the domain [-1, 1] using degree 9\n",
      "[pyqsp.poly.PolySign] degree=9, delta=14.696938456699069\n",
      "[PolyTaylorSeries] max [0.9] is at [1.]: normalizing\n",
      "[PolyTaylorSeries] average error = 0.16812077831752725 in the domain [-1, 1] using degree 9\n",
      "[pyqsp.poly.PolySign] degree=9, delta=14.832396974191326\n",
      "[PolyTaylorSeries] max [0.9] is at [1.]: normalizing\n",
      "[PolyTaylorSeries] average error = 0.16847047156515008 in the domain [-1, 1] using degree 9\n",
      "[pyqsp.poly.PolySign] degree=9, delta=14.966629547095765\n",
      "[PolyTaylorSeries] max [0.9] is at [1.]: normalizing\n",
      "[PolyTaylorSeries] average error = 0.16881080315595778 in the domain [-1, 1] using degree 9\n",
      "[pyqsp.poly.PolySign] degree=9, delta=15.0996688705415\n",
      "[PolyTaylorSeries] max [0.9] is at [1.]: normalizing\n",
      "[PolyTaylorSeries] average error = 0.16914218512505289 in the domain [-1, 1] using degree 9\n",
      "[pyqsp.poly.PolySign] degree=9, delta=15.231546211727817\n",
      "[PolyTaylorSeries] max [0.9] is at [1.]: normalizing\n",
      "[PolyTaylorSeries] average error = 0.16946500454505628 in the domain [-1, 1] using degree 9\n",
      "[pyqsp.poly.PolySign] degree=9, delta=15.362291495737216\n",
      "[PolyTaylorSeries] max [0.9] is at [1.]: normalizing\n",
      "[PolyTaylorSeries] average error = 0.16977962543767852 in the domain [-1, 1] using degree 9\n",
      "[pyqsp.poly.PolySign] degree=9, delta=15.491933384829668\n",
      "[PolyTaylorSeries] max [0.9] is at [1.]: normalizing\n",
      "[PolyTaylorSeries] average error = 0.17008639050948005 in the domain [-1, 1] using degree 9\n",
      "[pyqsp.poly.PolySign] degree=9, delta=15.620499351813308\n",
      "[PolyTaylorSeries] max [0.9] is at [1.]: normalizing\n",
      "[PolyTaylorSeries] average error = 0.1703856227303504 in the domain [-1, 1] using degree 9\n",
      "[pyqsp.poly.PolySign] degree=9, delta=15.748015748023622\n",
      "[PolyTaylorSeries] max [0.9] is at [1.]: normalizing\n",
      "[PolyTaylorSeries] average error = 0.17067762677154646 in the domain [-1, 1] using degree 9\n",
      "[pyqsp.poly.PolySign] degree=9, delta=15.874507866387544\n",
      "[PolyTaylorSeries] max [0.9] is at [1.]: normalizing\n",
      "[PolyTaylorSeries] average error = 0.17096269031769284 in the domain [-1, 1] using degree 9\n",
      "[pyqsp.poly.PolySign] degree=9, delta=16.0\n",
      "[PolyTaylorSeries] max [0.9] is at [1.]: normalizing\n",
      "[PolyTaylorSeries] average error = 0.1712410852655103 in the domain [-1, 1] using degree 9\n",
      "[pyqsp.poly.PolySign] degree=9, delta=16.1245154965971\n",
      "[PolyTaylorSeries] max [0.9] is at [1.]: normalizing\n",
      "[PolyTaylorSeries] average error = 0.1715130688209312 in the domain [-1, 1] using degree 9\n",
      "[pyqsp.poly.PolySign] degree=9, delta=16.24807680927192\n",
      "[PolyTaylorSeries] max [0.9] is at [1.]: normalizing\n",
      "[PolyTaylorSeries] average error = 0.17177888450424977 in the domain [-1, 1] using degree 9\n",
      "[pyqsp.poly.PolySign] degree=9, delta=16.3707055437449\n",
      "[PolyTaylorSeries] max [0.9] is at [1.]: normalizing\n",
      "[PolyTaylorSeries] average error = 0.17203876307255483 in the domain [-1, 1] using degree 9\n",
      "[pyqsp.poly.PolySign] degree=9, delta=16.492422502470642\n",
      "[PolyTaylorSeries] max [0.9] is at [1.]: normalizing\n",
      "[PolyTaylorSeries] average error = 0.17229292336728816 in the domain [-1, 1] using degree 9\n",
      "[pyqsp.poly.PolySign] degree=9, delta=16.61324772583615\n",
      "[PolyTaylorSeries] max [0.9] is at [1.]: normalizing\n",
      "[PolyTaylorSeries] average error = 0.17254157309405074 in the domain [-1, 1] using degree 9\n",
      "[pyqsp.poly.PolySign] degree=9, delta=16.73320053068151\n",
      "[PolyTaylorSeries] max [0.9] is at [1.]: normalizing\n",
      "[PolyTaylorSeries] average error = 0.172784909540781 in the domain [-1, 1] using degree 9\n",
      "[pyqsp.poly.PolySign] degree=9, delta=16.852299546352718\n",
      "[PolyTaylorSeries] max [0.9] is at [1.]: normalizing\n",
      "[PolyTaylorSeries] average error = 0.17302312024029487 in the domain [-1, 1] using degree 9\n",
      "[pyqsp.poly.PolySign] degree=9, delta=16.97056274847714\n",
      "[PolyTaylorSeries] max [0.9] is at [1.]: normalizing\n",
      "[PolyTaylorSeries] average error = 0.17325638358189402 in the domain [-1, 1] using degree 9\n",
      "[pyqsp.poly.PolySign] degree=9, delta=17.08800749063506\n",
      "[PolyTaylorSeries] max [0.9] is at [1.]: normalizing\n",
      "[PolyTaylorSeries] average error = 0.1734848693768546 in the domain [-1, 1] using degree 9\n",
      "[pyqsp.poly.PolySign] degree=9, delta=17.204650534085253\n",
      "[PolyTaylorSeries] max [0.9] is at [1.]: normalizing\n",
      "[PolyTaylorSeries] average error = 0.17370873938162457 in the domain [-1, 1] using degree 9\n",
      "[pyqsp.poly.PolySign] degree=9, delta=17.320508075688775\n",
      "[PolyTaylorSeries] max [0.9] is at [1.]: normalizing\n",
      "[PolyTaylorSeries] average error = 0.17392814778272508 in the domain [-1, 1] using degree 9\n",
      "[pyqsp.poly.PolySign] degree=9, delta=17.435595774162696\n",
      "[PolyTaylorSeries] max [0.9] is at [1.]: normalizing\n",
      "[PolyTaylorSeries] average error = 0.1741432416461574 in the domain [-1, 1] using degree 9\n",
      "[pyqsp.poly.PolySign] degree=9, delta=17.549928774784245\n",
      "[PolyTaylorSeries] max [0.9] is at [1.]: normalizing\n",
      "[PolyTaylorSeries] average error = 0.17435416133499712 in the domain [-1, 1] using degree 9\n",
      "[pyqsp.poly.PolySign] degree=9, delta=17.663521732655695\n",
      "[PolyTaylorSeries] max [0.9] is at [1.]: normalizing\n",
      "[PolyTaylorSeries] average error = 0.17456104089702384 in the domain [-1, 1] using degree 9\n",
      "[pyqsp.poly.PolySign] degree=9, delta=17.776388834631177\n",
      "[PolyTaylorSeries] max [0.9] is at [1.]: normalizing\n",
      "[PolyTaylorSeries] average error = 0.17476400842563666 in the domain [-1, 1] using degree 9\n",
      "[pyqsp.poly.PolySign] degree=9, delta=17.88854381999832\n",
      "[PolyTaylorSeries] max [0.9] is at [1.]: normalizing\n",
      "[PolyTaylorSeries] average error = 0.17496318639571176 in the domain [-1, 1] using degree 9\n",
      "[pyqsp.poly.PolySign] degree=9, delta=18.0\n",
      "[PolyTaylorSeries] max [0.9] is at [1.]: normalizing\n",
      "[PolyTaylorSeries] average error = 0.1751586919765775 in the domain [-1, 1] using degree 9\n",
      "[pyqsp.poly.PolySign] degree=11, delta=18.110770276274835\n",
      "[PolyTaylorSeries] max [0.89851899] is at [0.98552545]: normalizing\n",
      "[PolyTaylorSeries] average error = 0.15917636180667924 in the domain [-1, 1] using degree 11\n",
      "[pyqsp.poly.PolySign] degree=11, delta=18.2208671582886\n",
      "[PolyTaylorSeries] max [0.89851899] is at [0.98552544]: normalizing\n",
      "[PolyTaylorSeries] average error = 0.15936485433327507 in the domain [-1, 1] using degree 11\n",
      "[pyqsp.poly.PolySign] degree=11, delta=18.33030277982336\n",
      "[PolyTaylorSeries] max [0.89851899] is at [0.98552548]: normalizing\n",
      "[PolyTaylorSeries] average error = 0.15954999697030428 in the domain [-1, 1] using degree 11\n",
      "[pyqsp.poly.PolySign] degree=11, delta=18.439088914585774\n",
      "[PolyTaylorSeries] max [0.89851899] is at [0.98552545]: normalizing\n",
      "[PolyTaylorSeries] average error = 0.1597318883976047 in the domain [-1, 1] using degree 11\n",
      "[pyqsp.poly.PolySign] degree=11, delta=18.547236990991408\n",
      "[PolyTaylorSeries] max [0.89851899] is at [0.9855255]: normalizing\n",
      "[PolyTaylorSeries] average error = 0.15991062327018696 in the domain [-1, 1] using degree 11\n",
      "[pyqsp.poly.PolySign] degree=11, delta=18.65475810617763\n",
      "[PolyTaylorSeries] max [0.89851899] is at [0.98552547]: normalizing\n",
      "[PolyTaylorSeries] average error = 0.16008629242618302 in the domain [-1, 1] using degree 11\n",
      "[pyqsp.poly.PolySign] degree=11, delta=18.76166303929372\n",
      "[PolyTaylorSeries] max [0.89851899] is at [0.98552547]: normalizing\n",
      "[PolyTaylorSeries] average error = 0.16025898308303396 in the domain [-1, 1] using degree 11\n",
      "[pyqsp.poly.PolySign] degree=11, delta=18.867962264113206\n",
      "[PolyTaylorSeries] max [0.89851899] is at [0.98552556]: normalizing\n",
      "[PolyTaylorSeries] average error = 0.16042877902064867 in the domain [-1, 1] using degree 11\n",
      "[pyqsp.poly.PolySign] degree=11, delta=18.973665961010276\n",
      "[PolyTaylorSeries] max [0.89851899] is at [0.98552547]: normalizing\n",
      "[PolyTaylorSeries] average error = 0.1605957607536882 in the domain [-1, 1] using degree 11\n",
      "[pyqsp.poly.PolySign] degree=11, delta=19.078784028338912\n",
      "[PolyTaylorSeries] max [0.89851899] is at [0.98552547]: normalizing\n",
      "[PolyTaylorSeries] average error = 0.16076000569406423 in the domain [-1, 1] using degree 11\n",
      "[pyqsp.poly.PolySign] degree=11, delta=19.183326093250876\n",
      "[PolyTaylorSeries] max [0.89851899] is at [0.98552548]: normalizing\n",
      "[PolyTaylorSeries] average error = 0.16092158830219716 in the domain [-1, 1] using degree 11\n",
      "[pyqsp.poly.PolySign] degree=11, delta=19.28730152198591\n",
      "[PolyTaylorSeries] max [0.89851899] is at [0.98552543]: normalizing\n",
      "[PolyTaylorSeries] average error = 0.16108058023049757 in the domain [-1, 1] using degree 11\n",
      "[pyqsp.poly.PolySign] degree=11, delta=19.390719429665317\n",
      "[PolyTaylorSeries] max [0.89851899] is at [0.98552544]: normalizing\n",
      "[PolyTaylorSeries] average error = 0.16123705045831144 in the domain [-1, 1] using degree 11\n",
      "[pyqsp.poly.PolySign] degree=11, delta=19.493588689617926\n",
      "[PolyTaylorSeries] max [0.89851899] is at [0.98552543]: normalizing\n",
      "[PolyTaylorSeries] average error = 0.16139106541869214 in the domain [-1, 1] using degree 11\n",
      "[pyqsp.poly.PolySign] degree=11, delta=19.595917942265423\n",
      "[PolyTaylorSeries] max [0.89851899] is at [0.98552535]: normalizing\n",
      "[PolyTaylorSeries] average error = 0.16154268911783773 in the domain [-1, 1] using degree 11\n",
      "[pyqsp.poly.PolySign] degree=11, delta=19.697715603592208\n",
      "[PolyTaylorSeries] max [0.89851899] is at [0.98552549]: normalizing\n",
      "[PolyTaylorSeries] average error = 0.1616919832482612 in the domain [-1, 1] using degree 11\n",
      "[pyqsp.poly.PolySign] degree=11, delta=19.79898987322333\n",
      "[PolyTaylorSeries] max [0.89851899] is at [0.98552548]: normalizing\n",
      "[PolyTaylorSeries] average error = 0.1618390072949441 in the domain [-1, 1] using degree 11\n",
      "[pyqsp.poly.PolySign] degree=11, delta=19.8997487421324\n",
      "[PolyTaylorSeries] max [0.89851899] is at [0.98552553]: normalizing\n",
      "[PolyTaylorSeries] average error = 0.16198381863610872 in the domain [-1, 1] using degree 11\n"
     ]
    }
   ],
   "source": [
    "target_function = pyqsp.poly.PolySign()\n",
    "\n",
    "coeffs_list = []\n",
    "vals = []\n",
    "for N in range(100)[::1]:\n",
    "    degree = np.ceil(np.sqrt(N))\n",
    "    if degree % 2 == 0:\n",
    "        degree += 1\n",
    "        \n",
    "    coeffs, scale = target_function.generate(degree, delta=2*np.sqrt(N), ensure_bounded=True, return_scale=True);\n",
    "    coeffs_list.append(coeffs)\n",
    "    vals.append(polynomial_value(coeffs, 1/np.sqrt(N)))"
   ]
  },
  {
   "cell_type": "markdown",
   "id": "e983c8e6-7119-4236-93ad-f419355f18b3",
   "metadata": {},
   "source": [
    "## Implementation"
   ]
  },
  {
   "cell_type": "code",
   "execution_count": 162,
   "id": "7f960169-ff36-4c9a-adc4-62c4602f2624",
   "metadata": {},
   "outputs": [],
   "source": [
    "def f():\n",
    "    print('Fuck @Vitalikm')\n",
    "    return True"
   ]
  },
  {
   "cell_type": "code",
   "execution_count": 161,
   "id": "b9e2ca68",
   "metadata": {},
   "outputs": [
    {
     "name": "stdout",
     "output_type": "stream",
     "text": [
      "[pyqsp.poly.PolySign] degree=3, delta=1.4142135623730951\n",
      "[PolyTaylorSeries] max [0.9429023] is at [1.]: normalizing\n",
      "[PolyTaylorSeries] average error = 0.04777167328141418 in the domain [-1, 1] using degree 3\n",
      "[pyqsp.poly.PolySign] degree=3, delta=1.4142135623730951\n",
      "[PolyTaylorSeries] max [0.9429023] is at [1.]: normalizing\n",
      "[PolyTaylorSeries] average error = 0.04777167328141418 in the domain [-1, 1] using degree 3\n",
      "[pyqsp.poly.PolySign] degree=3, delta=2.0\n",
      "[PolyTaylorSeries] max [0.88487764] is at [0.89510929]: normalizing\n",
      "[PolyTaylorSeries] average error = 0.12112171443398506 in the domain [-1, 1] using degree 3\n",
      "[pyqsp.poly.PolySign] degree=3, delta=2.0\n",
      "[PolyTaylorSeries] max [0.88487764] is at [0.89510929]: normalizing\n",
      "[PolyTaylorSeries] average error = 0.12112171443398506 in the domain [-1, 1] using degree 3\n",
      "[pyqsp.poly.PolySign] degree=3, delta=2.8284271247461903\n",
      "[PolyTaylorSeries] max [0.86327883] is at [0.86147542]: normalizing\n",
      "[PolyTaylorSeries] average error = 0.19244082131510504 in the domain [-1, 1] using degree 3\n",
      "[pyqsp.poly.PolySign] degree=3, delta=2.8284271247461903\n",
      "[PolyTaylorSeries] max [0.86327883] is at [0.86147542]: normalizing\n",
      "[PolyTaylorSeries] average error = 0.19244082131510504 in the domain [-1, 1] using degree 3\n",
      "[pyqsp.poly.PolySign] degree=5, delta=4.0\n",
      "[PolyTaylorSeries] max [0.90000001] is at [1.]: normalizing\n",
      "[PolyTaylorSeries] average error = 0.13772714862145935 in the domain [-1, 1] using degree 5\n",
      "[pyqsp.poly.PolySign] degree=5, delta=4.0\n",
      "[PolyTaylorSeries] max [0.90000001] is at [1.]: normalizing\n",
      "[PolyTaylorSeries] average error = 0.13772714862145935 in the domain [-1, 1] using degree 5\n",
      "[pyqsp.poly.PolySign] degree=7, delta=5.656854249492381\n",
      "[PolyTaylorSeries] max [0.89508306] is at [0.96694539]: normalizing\n",
      "[PolyTaylorSeries] average error = 0.138576375175681 in the domain [-1, 1] using degree 7\n",
      "[pyqsp.poly.PolySign] degree=7, delta=5.656854249492381\n",
      "[PolyTaylorSeries] max [0.89508306] is at [0.96694539]: normalizing\n",
      "[PolyTaylorSeries] average error = 0.138576375175681 in the domain [-1, 1] using degree 7\n",
      "[pyqsp.poly.PolySign] degree=9, delta=8.0\n",
      "[PolyTaylorSeries] max [0.9] is at [1.]: normalizing\n",
      "[PolyTaylorSeries] average error = 0.13632827412557 in the domain [-1, 1] using degree 9\n",
      "[pyqsp.poly.PolySign] degree=9, delta=8.0\n",
      "[PolyTaylorSeries] max [0.9] is at [1.]: normalizing\n",
      "[PolyTaylorSeries] average error = 0.13632827412557 in the domain [-1, 1] using degree 9\n",
      "[pyqsp.poly.PolySign] degree=13, delta=11.313708498984761\n",
      "[PolyTaylorSeries] max [0.9] is at [1.]: normalizing\n",
      "[PolyTaylorSeries] average error = 0.1266522194134935 in the domain [-1, 1] using degree 13\n",
      "[pyqsp.poly.PolySign] degree=13, delta=11.313708498984761\n",
      "[PolyTaylorSeries] max [0.9] is at [1.]: normalizing\n",
      "[PolyTaylorSeries] average error = 0.1266522194134935 in the domain [-1, 1] using degree 13\n",
      "[pyqsp.poly.PolySign] degree=17, delta=16.0\n",
      "[PolyTaylorSeries] max [0.9] is at [1.]: normalizing\n",
      "[PolyTaylorSeries] average error = 0.12430845438421363 in the domain [-1, 1] using degree 17\n",
      "[pyqsp.poly.PolySign] degree=17, delta=16.0\n",
      "[PolyTaylorSeries] max [0.9] is at [1.]: normalizing\n",
      "[PolyTaylorSeries] average error = 0.12430845438421363 in the domain [-1, 1] using degree 17\n",
      "[pyqsp.poly.PolySign] degree=23, delta=22.627416997969522\n",
      "[PolyTaylorSeries] max [0.89981425] is at [0.99642291]: normalizing\n",
      "[PolyTaylorSeries] average error = 0.12006453416255654 in the domain [-1, 1] using degree 23\n",
      "[pyqsp.poly.PolySign] degree=23, delta=22.627416997969522\n",
      "[PolyTaylorSeries] max [0.89981425] is at [0.99642291]: normalizing\n",
      "[PolyTaylorSeries] average error = 0.12006453416255654 in the domain [-1, 1] using degree 23\n",
      "[pyqsp.poly.PolySign] degree=33, delta=32.0\n",
      "[PolyTaylorSeries] max [0.84463142] is at [0.12685994]: normalizing\n",
      "[PolyTaylorSeries] average error = 0.16775363197985974 in the domain [-1, 1] using degree 33\n",
      "[pyqsp.poly.PolySign] degree=33, delta=32.0\n",
      "[PolyTaylorSeries] max [0.84463142] is at [0.12685994]: normalizing\n",
      "[PolyTaylorSeries] average error = 0.16775363197985974 in the domain [-1, 1] using degree 33\n"
     ]
    }
   ],
   "source": [
    "np.random.seed(42)\n",
    "\n",
    "\n",
    "def projector_rotation(P, phi):\n",
    "    n = len(P)\n",
    "    return np.eye(n)*np.cos(phi)-1j*(2*P-np.eye(n))*np.sin(phi)\n",
    "\n",
    "def projector_from_state(state):\n",
    "    return np.outer(state, state.conj())\n",
    "\n",
    "\n",
    "amplitudes = []\n",
    "for num_qubits in range(1, 11):\n",
    "    \n",
    "    N = 2**num_qubits\n",
    "    \n",
    "    # Define initial state |0> and the associated projector.\n",
    "    all_zero_state = np.zeros(N)\n",
    "    all_zero_state[0] = 1\n",
    "    PR = projector_from_state(all_zero_state)\n",
    "\n",
    "    # Define a random marked state. It will only be accessed via the corresponding projector.\n",
    "    marked_state = np.zeros(N)\n",
    "    marked_state[np.random.randint(0, N)] = 1\n",
    "    PL = projector_from_state(marked_state)\n",
    "\n",
    "    # Signal operator is the n-th tensor power of the Hadamard gate.\n",
    "    H = np.array([[1, 1], [1, -1]])/np.sqrt(2)\n",
    "    U = reduce(np.kron, [H]*num_qubits)\n",
    "\n",
    "    \n",
    "    target_function = pyqsp.poly.PolySign()\n",
    "    \n",
    "    degree = np.ceil(N**0.5)\n",
    "    if degree % 2 == 0:\n",
    "        degree += 1\n",
    "    \n",
    "    delta = N**0.5\n",
    "    coeffs, _ =  target_function.generate(degree, delta=delta, return_scale=True)\n",
    "    _ =  target_function.generate(degree, delta=delta, return_scale=True)\n",
    "\n",
    "#     phis = pyqsp.angle_sequence.QuantumSignalProcessingPhases(coeffs, signal_operator='Wx')\n",
    "#     phis = angles_from_Wx_to_R(phis)\n",
    "\n",
    "#     U_phi = apply_QSVT(U, PL, PR, phis)\n",
    "#     amplitude = np.max(np.abs(np.real(PL @ U_phi @ PR)))\n",
    "    \n",
    "#     amplitudes.append(amplitude)"
   ]
  },
  {
   "cell_type": "code",
   "execution_count": 158,
   "id": "4a48f2ec-851d-4f48-89a2-6c6ff3f00352",
   "metadata": {
    "tags": []
   },
   "outputs": [
    {
     "data": {
      "text/plain": [
       "[<matplotlib.lines.Line2D at 0x7f2362b469d0>]"
      ]
     },
     "execution_count": 158,
     "metadata": {},
     "output_type": "execute_result"
    },
    {
     "data": {
      "image/png": "[encoded data removed]",
      "text/plain": [
       "<Figure size 432x288 with 1 Axes>"
      ]
     },
     "metadata": {
      "needs_background": "light"
     },
     "output_type": "display_data"
    }
   ],
   "source": [
    "plt.plot(amplitudes, '*')"
   ]
  },
  {
   "cell_type": "markdown",
   "id": "ccd51ea4",
   "metadata": {},
   "source": [
    "# Hamiltonian simulation\n",
    "\n",
    "We are given three things\n",
    "\n",
    "1. Block embedding of a Hamiltonian $H$, i.e. $U$ s.t. $H=\\left(\\langle 0|\\otimes I \\right)U\\left(|0\\rangle\\otimes I\\right)$.\n",
    "2. Projectors $\\Pi(\\phi)$.\n",
    "3. ??\n",
    "\n",
    "\n",
    "## Block encodings\n",
    "\n",
    "Singular value $\\sigma$ are positive square roots of eigenvalues $M^\\dagger M\\ge0$.\n",
    "\n",
    "To block encode some matrix $M$ we need $||M||\\le1$ where $||\\cdot||$ is the operator norm or, equivalently, the largest singular value."
   ]
  },
  {
   "cell_type": "code",
   "execution_count": 216,
   "id": "7bac2757",
   "metadata": {},
   "outputs": [],
   "source": [
    "class BlockEncoding:\n",
    "    \n",
    "    def __init__(self, M):\n",
    "        \n",
    "        self.num_rows = M.shape[0]\n",
    "        self.num_cols = M.shape[1]\n",
    "        self.dim = 2*max(self.num_rows, self.num_cols)\n",
    "        \n",
    "        self.diagonal_block = self.pad_matrix_to_square(M)\n",
    "        \n",
    "        U, S, WH = np.linalg.svd(self.diagonal_block)\n",
    "        \n",
    "        self.U = U\n",
    "        self.S = S\n",
    "        self.WH = WH\n",
    "        \n",
    "        self.off_diagonal_block = self.make_off_diagonal_block(self.U, self.S, self.WH)\n",
    "        \n",
    "        self.unitary = self.unitary_from_blocks(\n",
    "            self.diagonal_block, \n",
    "            self.off_diagonal_block)\n",
    "                    \n",
    "    @staticmethod\n",
    "    def pad_matrix_to_square(M):\n",
    "        \"\"\"Pads a matrix with zeros to make it square.\"\"\"\n",
    "\n",
    "        n_rows, n_cols = M.shape\n",
    "        n_max = max(n_rows, n_cols)\n",
    "        S = np.zeros((n_max, n_max), dtype=np.complex64)\n",
    "        S[:n_rows,:n_cols] = M\n",
    "        return S\n",
    "    \n",
    "    @staticmethod\n",
    "    def make_off_diagonal_block(u, s, wh):\n",
    "        assert np.all(s<=1), f'All singular values {s} must be less than 1.'\n",
    "        return u @ np.diag(np.sqrt(1-s**2)) @ wh\n",
    "    \n",
    "    @staticmethod\n",
    "    def unitary_from_blocks(A, B):\n",
    "        n = A.shape[0]\n",
    "        U = np.zeros((2*n, 2*n), dtype=np.complex64)\n",
    "        U[:n, :n] = A\n",
    "        U[:n,n:2*n] = B\n",
    "        U[n:2*n, :n] = B\n",
    "        U[n:2*n, n:2*n] = -A\n",
    "        \n",
    "        assert np.allclose(U @ U.conj().T, np.eye(2*n), atol=1e-5), 'Ops, block encoding is not unitary.'\n",
    "        return U"
   ]
  },
  {
   "cell_type": "code",
   "execution_count": 189,
   "id": "7d83190c-06c4-4abb-aa1b-ef7763cdc003",
   "metadata": {},
   "outputs": [],
   "source": [
    "import contextlib\n",
    "import io\n",
    "\n",
    "f = io.StringIO()\n",
    "with contextlib.redirect_stdout(f):\n",
    "    costx = pyqsp.poly.PolyCosineTX()\n",
    "\n",
    "    t = 12\n",
    "    coeffs = costx.generate(tau=t, epsilon=0.1)"
   ]
  },
  {
   "cell_type": "markdown",
   "id": "bf787948-319b-450f-83d9-2ab0d6f7e296",
   "metadata": {},
   "source": [
    "## Implementation"
   ]
  },
  {
   "cell_type": "code",
   "execution_count": 242,
   "id": "8155d573-7387-4215-ba2a-339966b5f2e4",
   "metadata": {},
   "outputs": [],
   "source": [
    "seed = 42\n",
    "np.random.seed(seed)\n",
    "\n",
    "num_qubits = 5\n",
    "N = 2**num_qubits\n",
    "\n",
    "V = scipy.stats.unitary_group.rvs(N, random_state=seed)\n",
    "D = np.random.uniform(low=0, high=1, size=(N,))\n",
    "\n",
    "H = V*D @ V.conj().T\n",
    "\n",
    "block_encoding = BlockEncoding(H)\n",
    "U = block_encoding.unitary"
   ]
  },
  {
   "cell_type": "code",
   "execution_count": 243,
   "id": "cc7e5734-0d42-41e3-b200-7c986b8304c7",
   "metadata": {},
   "outputs": [
    {
     "name": "stdout",
     "output_type": "stream",
     "text": [
      "5.792289243194879\n",
      "R=2\n",
      "[PolyCosineTX] rescaling by 0.5.\n"
     ]
    }
   ],
   "source": [
    "costx = pyqsp.poly.PolyCosineTX()\n",
    "\n",
    "t = 2\n",
    "coeffs = costx.generate(tau=t, epsilon=0.01)\n",
    "phis = pyqsp.angle_sequence.QuantumSignalProcessingPhases(coeffs, signal_operator='Wx')\n",
    "phis = angles_from_Wx_to_R(phis)\n",
    "\n",
    "P = np.kron(np.diag([1, 0]), np.eye(N))\n",
    "U_phi = apply_QSVT(U, P, P, phis)"
   ]
  },
  {
   "cell_type": "code",
   "execution_count": 244,
   "id": "b6d093a3-d02d-40a2-93d3-8f8781d307ec",
   "metadata": {},
   "outputs": [
    {
     "data": {
      "text/plain": [
       "array([-0.18221681, -0.16709831, -0.08803831, -0.05479972, -0.00635646,\n",
       "        0.05305195,  0.07777323,  0.16915992,  0.17158634,  0.17868893,\n",
       "        0.18439762,  0.19089866,  0.24816006,  0.26010535,  0.30721112,\n",
       "        0.32751157,  0.36432588,  0.37363752,  0.41209875,  0.41333768,\n",
       "        0.42252727,  0.45291397,  0.45890119,  0.4641323 ,  0.46871851,\n",
       "        0.47264311,  0.47739448,  0.48164932,  0.48646686,  0.49638498,\n",
       "        0.5022454 ,  0.50547176])"
      ]
     },
     "execution_count": 244,
     "metadata": {},
     "output_type": "execute_result"
    }
   ],
   "source": [
    "np.linalg.eigvalsh(U_phi[:N,:N])"
   ]
  },
  {
   "cell_type": "code",
   "execution_count": 245,
   "id": "1a07180b-5787-45c7-9042-97ebc8fc3d1d",
   "metadata": {},
   "outputs": [
    {
     "data": {
      "text/plain": [
       "array([-1.80352364e-01, -1.62320566e-01, -8.04270520e-02, -4.69750961e-02,\n",
       "        2.22201997e-04,  5.33027399e-02,  7.70177215e-02,  1.70081645e-01,\n",
       "        1.74126420e-01,  1.80139193e-01,  1.82428569e-01,  1.88227675e-01,\n",
       "        2.48996771e-01,  2.58065436e-01,  3.06027416e-01,  3.24742252e-01,\n",
       "        3.66157752e-01,  3.71677648e-01,  4.10257632e-01,  4.17052163e-01,\n",
       "        4.17556464e-01,  4.55585681e-01,  4.60657434e-01,  4.66738252e-01,\n",
       "        4.67302407e-01,  4.71202285e-01,  4.75855052e-01,  4.75862456e-01,\n",
       "        4.80667347e-01,  4.96630086e-01,  4.97843911e-01,  4.99576338e-01])"
      ]
     },
     "execution_count": 245,
     "metadata": {},
     "output_type": "execute_result"
    }
   ],
   "source": [
    "0.5*np.sort(np.cos(D*t))"
   ]
  },
  {
   "cell_type": "code",
   "execution_count": 246,
   "id": "a637d5e3-eb94-4cc5-88dd-238156d703d0",
   "metadata": {},
   "outputs": [
    {
     "data": {
      "text/plain": [
       "array([[ 3.26328474e-01-2.77555756e-17j, -3.81939912e-02-3.19052465e-02j,\n",
       "         2.35378147e-03-2.46012763e-02j, ...,\n",
       "        -1.88216202e-02+2.29020750e-02j, -6.04615628e-02+5.62297927e-03j,\n",
       "        -9.21175308e-03+1.94924097e-02j],\n",
       "       [-3.81939912e-02+3.19052465e-02j,  2.69952426e-01-2.77555756e-17j,\n",
       "         2.63173820e-03+6.58676484e-03j, ...,\n",
       "         1.31601237e-02+2.30416099e-02j,  7.26064309e-05-3.08382740e-02j,\n",
       "         3.07910348e-02+1.61953237e-02j],\n",
       "       [ 2.35378147e-03+2.46012763e-02j,  2.63173820e-03-6.58676484e-03j,\n",
       "         2.80504276e-01-2.77555756e-17j, ...,\n",
       "         8.55499613e-03+9.77415406e-03j,  2.52277786e-03+3.13815972e-02j,\n",
       "         3.63906469e-02-2.91179723e-02j],\n",
       "       ...,\n",
       "       [-1.88216202e-02-2.29020750e-02j,  1.31601237e-02-2.30416099e-02j,\n",
       "         8.55499613e-03-9.77415406e-03j, ...,\n",
       "         3.27476397e-01+2.77555756e-17j,  1.55543888e-02+2.12632738e-02j,\n",
       "        -1.73093590e-02-2.96594387e-02j],\n",
       "       [-6.04615628e-02-5.62297927e-03j,  7.26064309e-05+3.08382740e-02j,\n",
       "         2.52277786e-03-3.13815972e-02j, ...,\n",
       "         1.55543888e-02-2.12632738e-02j,  2.65471456e-01+0.00000000e+00j,\n",
       "         2.46407864e-03-1.04925056e-03j],\n",
       "       [-9.21175308e-03-1.94924097e-02j,  3.07910348e-02-1.61953237e-02j,\n",
       "         3.63906469e-02+2.91179723e-02j, ...,\n",
       "        -1.73093590e-02+2.96594387e-02j,  2.46407864e-03+1.04925056e-03j,\n",
       "         2.34514772e-01+0.00000000e+00j]])"
      ]
     },
     "execution_count": 246,
     "metadata": {},
     "output_type": "execute_result"
    }
   ],
   "source": [
    "0.5*scipy.linalg.cosm(H*t)"
   ]
  },
  {
   "cell_type": "code",
   "execution_count": 247,
   "id": "5788ccb1-d69e-4b7f-9f08-9189798903d5",
   "metadata": {},
   "outputs": [
    {
     "data": {
      "text/plain": [
       "array([[ 0.32620272+8.93039461e-01j, -0.04320226-2.59124951e-02j,\n",
       "        -0.00140168-2.48233874e-02j, ..., -0.01524238+2.55822346e-02j,\n",
       "        -0.05917956+1.49638316e-02j, -0.00603753+2.09262920e-02j],\n",
       "       [-0.03336594+3.79122553e-02j,  0.2698379 +9.01774284e-01j,\n",
       "         0.00339559+6.10626675e-03j, ...,  0.0166833 +2.07714264e-02j,\n",
       "        -0.00456972-3.09351352e-02j,  0.03337604+1.13372942e-02j],\n",
       "       [ 0.00614107+2.40256276e-02j,  0.00158954-6.87691627e-03j,\n",
       "         0.28033458+9.00180780e-01j, ...,  0.00997211+8.42760458e-03j,\n",
       "         0.00727316+3.10687377e-02j,  0.03167703-3.48867515e-02j],\n",
       "       ...,\n",
       "       [-0.02213599-1.99262465e-02j,  0.00978936-2.48985712e-02j,\n",
       "         0.00706697-1.10509079e-02j, ...,  0.32764554+8.92599385e-01j,\n",
       "         0.0187824 +1.87226151e-02j, -0.02176365-2.68106953e-02j],\n",
       "       [-0.06110978+3.41430510e-03j,  0.00502169+3.06718527e-02j,\n",
       "        -0.00253245-3.15797717e-02j, ...,  0.0123289 -2.34919046e-02j,\n",
       "         0.26546761+9.02356835e-01j,  0.00208383-1.40137638e-03j],\n",
       "       [-0.01219935-1.81434518e-02j,  0.02822855-2.09649858e-02j,\n",
       "         0.04097589+2.35398189e-02j, ..., -0.01277016+3.22254588e-02j,\n",
       "         0.00257945+7.22931695e-04j,  0.23441601+9.07292442e-01j]])"
      ]
     },
     "execution_count": 247,
     "metadata": {},
     "output_type": "execute_result"
    }
   ],
   "source": [
    "U_phi[:N,:N]"
   ]
  },
  {
   "cell_type": "code",
   "execution_count": 187,
   "id": "dcdf3c6e-67f1-4fa9-b314-9ca9acdded10",
   "metadata": {},
   "outputs": [
    {
     "data": {
      "text/plain": [
       "[<matplotlib.lines.Line2D at 0x7f23567b7400>]"
      ]
     },
     "execution_count": 187,
     "metadata": {},
     "output_type": "execute_result"
    },
    {
     "data": {
      "image/png": "[encoded data removed]",
      "text/plain": [
       "<Figure size 432x288 with 1 Axes>"
      ]
     },
     "metadata": {
      "needs_background": "light"
     },
     "output_type": "display_data"
    }
   ],
   "source": [
    "x = np.linspace(-1, 1, 1000)\n",
    "\n",
    "poly_vals = [polynomial_value(coeffs, xi) for xi in x]\n",
    "plt.plot(x, 0.5*np.cos(x*t))\n",
    "plt.plot(x, poly_vals, '*')"
   ]
  }
 ],
 "metadata": {
  "kernelspec": {
   "display_name": "Python 3",
   "language": "python",
   "name": "python3"
  },
  "language_info": {
   "codemirror_mode": {
    "name": "ipython",
    "version": 3
   },
   "file_extension": ".py",
   "mimetype": "text/x-python",
   "name": "python",
   "nbconvert_exporter": "python",
   "pygments_lexer": "ipython3",
   "version": "3.8.10"
  },
  "widgets": {
   "application/vnd.jupyter.widget-state+json": {
    "state": {},
    "version_major": 2,
    "version_minor": 0
   }
  }
 },
 "nbformat": 4,
 "nbformat_minor": 5
}
