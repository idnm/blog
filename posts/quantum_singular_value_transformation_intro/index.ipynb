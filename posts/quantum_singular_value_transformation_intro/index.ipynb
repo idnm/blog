{
 "cells": [
  {
   "cell_type": "raw",
   "id": "63f4bf99",
   "metadata": {
    "collapsed": true,
    "jupyter": {
     "outputs_hidden": true
    },
    "tags": []
   },
   "source": [
    "---\n",
    "title: \"Introduction to Quantum Singular Value Transformation\"\n",
    "description: \"Or grand unification of quantum algorithms, if you feel a bit grandiose.\"\n",
    "aliases:\n",
    "  - quantum_singular_value_transformation_intro.html\n",
    "bibliography: references.bib\n",
    "csl: physical-review-letters.csl\n",
    "toc: true\n",
    "image: what_to_use_qc_for.svg\n",
    "date: '2023-05-15'\n",
    "number-sections: true\n",
    "number-depth: 2\n",
    "  \n",
    "crossref:\n",
    "  fig-title: Fig.\n",
    "  fig-prefix: fig.\n",
    "\n",
    "format:\n",
    "  html:\n",
    "    html-math-method: mathjax\n",
    "    include-in-header:\n",
    "      - text: |\n",
    "          <script>\n",
    "          window.MathJax = {\n",
    "            tex: {\n",
    "              tags: 'ams'\n",
    "            }\n",
    "          };\n",
    "          </script>\n",
    "---"
   ]
  },
  {
   "cell_type": "code",
   "execution_count": 1,
   "id": "71cfa1bf",
   "metadata": {
    "tags": []
   },
   "outputs": [],
   "source": [
    "#| code-fold: true\n",
    "\n",
    "import numpy as np\n",
    "import scipy.stats\n",
    "import scipy.linalg\n",
    "\n",
    "import matplotlib.pyplot as plt\n",
    "\n",
    "from functools import reduce\n",
    "\n",
    "import pyqsp\n",
    "import pyqsp.angle_sequence\n",
    "import pyqsp.response\n",
    "\n",
    "from pyqsp.angle_sequence import QuantumSignalProcessingPhases\n",
    "\n",
    "import contextlib\n",
    "import io\n",
    "\n",
    "def quiet(func):\n",
    "    def quiet_func(*args, **kwargs):    \n",
    "        f = io.StringIO()\n",
    "        with contextlib.redirect_stdout(f):\n",
    "            res = func(*args, **kwargs)\n",
    "        return res\n",
    "    return quiet_func"
   ]
  },
  {
   "cell_type": "markdown",
   "id": "dbf6f370",
   "metadata": {},
   "source": [
    "# Introduction\n",
    "\n",
    "@ArazzolaQSVT @Gilyen2019 @Tang2023 @Martyn2021\n",
    "\n",
    "Quantum singular value transformation (QSVT) is a new framework developed in recent years that is now extensively used to understand and improve existing as well as construct new quantum algorithms. If you are willing to be bit dramatic, QSVT has been claimed to provide a grand unification of many different quantum algorithms. So, how does it work?\n",
    "\n",
    "## A high-level overview\n",
    "Constructing a quantum algorithm using QSVT consists the following main steps. Don't worry if this does not immediately make sense, the goal of this post is to fill in the details and illustrate with examples.\n",
    "\n",
    "1. Reduce your problem of interest to transforming singular values of some matrix $A$.\n",
    "2. Find a unitary circuit $U$ that is a block-encoding of your matrix, i.e. in a suitable basis $$U=\\begin{pmatrix}A&*\\\\ *&*\\end{pmatrix} \\ .$$\n",
    "3. If the goal is to transform singular values $\\sigma_i$ of $A$ by some function $f(\\sigma_i)$, find an appropriate polynomial approximation $p(x)\\approx f(x)$.\n",
    "4. Using quantum signal processing construct a circuit $U_\\phi$ that involves as much applications of $U$ as the degree of $p(x)$ and block-encodes approximation the answer, i.e.\n",
    "$$U_\\phi=\\begin{pmatrix}p(A)&*\\\\*&*\\end{pmatrix}$$\n",
    "Here $p(A)$ has singular values $p(\\sigma_i)$ but we don't yet give its precise definition.\n",
    "\n",
    "Let's start with clarifying the first step, i.e. how to frame your quantum problem as a singular value transformation, by giving three examples.\n",
    "\n",
    "1. **Grover's search.** There is some marked state $|m\\rangle$ of $n$ qubits that wee need to find. In this case we can take $A$ to be $1\\times 1$ matrix containing a single matrix element $a=\\langle m|H^{\\otimes n}|0\\rangle$. If we can apply the step-function to it $x\\to \\theta(x-b)$, we will map an arbitrary amplitude $a>b$ to 1, and hence build the circuit that is guaranteed to take the initial state $|0\\rangle$ to the marked state $|m\\rangle$.\n",
    "1. **Quantum simulation.** Here given a Hamiltonian $H$ we seek to construct a unitary $e^{-iHt}$. This is literally the problem of the eigenvalue transformation, because $e^{-iHt}$ is by definition the matrix $H$ with eigenvalues $\\lambda_i$ mapped to $e^{-i\\lambda_i t}$. Up to technicalities, eigenvalues can be transformed in the same way as singular values.\n",
    "1. **Solving linear equations.** Given a matrix $A$ and a vector $b$ solve $Ax=b$ for $x$, i.e. compute $A^+b$ where $A^+$ is Moore-Penrose pseudo-inverse of $A$. But pseudo-inverse $A^+$ is just equal to the usual hermitian conjugate $A^\\dagger$ with reciprocal singular values $\\sigma_i\\to \\sigma_i^{-1}$.\n",
    "\n",
    "Many other applications of QSVT exist, but in this blog post I will focus on these ones. So hopefully step (1) is starting to make sense now. How do we perform step (2) then, how to find the block-encoding? To my understanding, this may be the most challenging step that has to be addressed case-by-case. I will give some intuition and examples of block-encodings below. Next, QSVT allows to directly perform only polynomial transformations, but most problems of practical interest require applying non-polynomial functions to singular values. This is why we need step (3), which is finding the right polynomial approximation. Interestingly, the degree of the approximating polynomial determines the complexity of the final quantum circuit, so this is an important step. Finally, after you found the polynomial transformation approximating your target function you use techniques of the quantum signal processing to prepare the corresponding quantum circuit. Generally, constructing the circuit for a given polynomial is quite under control, although there still may be issues with speed and numerical stability for large instances.\n",
    "\n",
    "## What I will and will not discuss\n",
    "\n",
    "..."
   ]
  },
  {
   "cell_type": "markdown",
   "id": "d9d969ce",
   "metadata": {},
   "source": [
    "# Quantum signal processing\n",
    "\n",
    "The origin and application of the quantum signal processing (QSP) are very interesting in their own right, but I won't review them here. Instead, I will view QSP as a rudimentary version of QSVT applied to two-level systems, and hence it is a great starting point.\n",
    "\n",
    "## Ingredients\n",
    "So, suppose you have a two-level system and can perform a simple diagonal transformation on it\n",
    "\\begin{align}\n",
    "S(\\phi)=\\begin{pmatrix}e^{i\\phi}&0 \\\\ 0& e^{-i\\phi}\\end{pmatrix} \\ . \\label{S}\n",
    "\\end{align}\n",
    "Here $\\phi$ is an angle you can vary. You can also perform a fixed non-diagonal operation\n",
    "\\begin{align}\n",
    "R(a)=\\begin{pmatrix}a&\\sqrt{1-a^2}\\\\\\sqrt{1-a^2} & -a\\end{pmatrix} \\ . \\label{R}\n",
    "\\end{align}\n",
    "Here $a\\in \\mathbb{R}$ is fixed.\n",
    "\n",
    "\n",
    "## Circuit\n",
    "The most general quantum circuit you can build from tese two ingredients is te following alternating sequence\n",
    "\n",
    "\\begin{align}\n",
    "U_\\phi =S(\\phi_0)\\prod_{i=1}^d R(a) S(\\phi_i) = S(\\phi_0)R(a) S(\\phi_1) R(a)\\dots S(\\phi_{d-1}) R(a) S(\\phi_d) \\label{QSP} \\ .\n",
    "\\end{align}\n",
    "\n",
    "Now, if you actually compute $U_\\phi$, you'll find it is of the following form (up to a global pase)\n",
    "$$U_\\phi= \\begin{pmatrix} P(a) & i Q(a)\\sqrt{1-a^2} \\\\ i Q(a)^*\\sqrt{1-a^2} & P(a)^*\\end{pmatrix} \\ . $$\n",
    "Importantly, here $P(a)$ and $Q(a)$ are *polynomials*.\n",
    "\n",
    ":::{.callout-note title='W and R signal conventions' collapse=true}\n",
    "Our singnal-processing operator is the 'R-convention'. Another standard one is 'Wx-convention' with the signal operator given by\n",
    "$$W(a)=\\begin{pmatrix}a & i\\sqrt{1-a^2}\\\\i\\sqrt{1-a^2} & a\\end{pmatrix} \\ .$$\n",
    "The two signal operators are related by $R(a)=-i S(\\pi/4) W(a) S(\\pi/4)$. For the $W$ signal operator relation \\eqref{QSP} is exact, while for $R(a)$ there is an additional global phase $i^d$. If we have the angle sequence $\\phi_i$ implementing the desired polynomial transformation with $W$-signal, the angles for $R$ signal are \n",
    "$$\\phi_0^R=\\phi_0^W+(2d-1)\\frac{\\pi}{4}, \\phi_d^R=\\phi_d^W-\\frac{\\pi}{4}, \\phi_i^R=\\phi_i^W-\\frac{\\pi}{2} (0 < i< d) \\ .$$\n",
    ":::\n",
    "\n",
    "## Polynomials from QSP\n",
    "\n",
    "Why are $P(a)$ and $Q(a)$ polynomials? Well, you can check this directly/prove by induction. For instance,\n",
    "$$\\begin{pmatrix} P(a) & i Q(a)\\sqrt{1-a^2} \\\\ i Q(a)^*\\sqrt{1-a^2} & P(a)^*\\end{pmatrix} \\begin{pmatrix} a & i \\sqrt{1-a^2} \\\\ i\\sqrt{1-a^2} & a\\end{pmatrix}=\\begin{pmatrix} P'(a) & i Q'(a)\\sqrt{1-a^2} \\\\ i Q'(a)^*\\sqrt{1-a^2} & P'(a)^*\\end{pmatrix}$$\n",
    "with (primes are not derivatives!) \n",
    "$$P'(a)=aP(a)-Q(a)(1-a^2),\\qquad Q'(a)=P(a)+aQ(a) \\ .$$ \n",
    "\n",
    "The polynomials $P,Q$ obtained in this way will always satisfy the following three properties.\n",
    "\n",
    "1. $degree(P)\\le d$, $degree(Q)\\le d-1$. In words, the degree of $P$ is no more than the number of times $R(a)$ is applied, and degree of $Q$ is one less.\n",
    "1. $P(-a)=(-1)^{d+1} P(a), Q(-a)=(-1)^{d} Q(a)$. In words, both $P$ and $Q$ have definite and opposite parity. For $d$ even $P$ is odd and $Q$ is even, for $d$ odd $P$ is even and $Q$ is odd.\n",
    "1. $|P(a)|+(1-a^2)|Q(a)|^2=1$. This follows from $U_\\phi$ being a unitary. In particular, this implies that $P(a)$ is bounded $|P(a)|\\le 1$ for $-1\\le a\\le 1$.\n",
    "\n",
    "An important fact of QSP is that the reverse statement is also true - as long as a degree $d$ polynomial $P$ satisfies these conditions, there is a $d+1$ angles $\\phi_i$ that produce $P$ via the QSP \\eqref{QSP}. While the proof is not trivial, the statement looks reasonable. Indeed, a complex polynomial $P$ of degree $d$ and definite parity has about $d$ independent real coefficients, and this is the number of angles we can tweak in the QSP.\n",
    "\n",
    "## Generalizing QSP polynomials\n",
    "While many polynomials $P$ can be obtained in this way, there some important limitations. In particular, by property (3) $|P(1)|=1$, which is often undesirable. The trick is to look at the real part $\\operatorname{Re} P(a)$. While still bounded, it does not have to satisfy $\\operatorname{Re} P(1)=1$ and is general enough for many applications. Then the problem is how to access $\\operatorname{Re}P$. One way is to measure the QSP operator in $|\\pm\\rangle$ basis. Indeed, note that\n",
    "\n",
    "$$\n",
    "\\langle +|U_\\phi|+\\rangle=\\operatorname{Re}P(a)+i\\operatorname{Re}Q(a)\\sqrt{1-a^2}\n",
    "$$\n",
    "\n",
    "A QSP sequence can be found so that $\\operatorname{Re}P(a)$ gives our desired polynomial while $\\operatorname{Re}Q(a)$ is approximately zero. \n",
    "\n",
    "Aonther way to separate the real part of $P(a)$ is by applying the following circuit\n",
    "\n",
    "![Block encoding real polynomial](figures/uphiuminusphi.svg){#fig-uphi width=400 fig-align='center' }\n",
    "\n",
    "This way of doing it more readily generalizes to QSVT. In effect, this circuit performs a block-encoding of $\\frac12\\left(U_\\phi+U_{-\\phi}\\right)$. Note that $U_{-\\phi}$ gives rise to $P(a)^*$ and so $\\frac12\\left(P(a)+P(a)^*\\right)$ is the real part of $P$ we are after. If the circuit above is not clear don't worry, I will discuss block encodings in sec.@sec-block."
   ]
  },
  {
   "cell_type": "markdown",
   "id": "5bee1159",
   "metadata": {},
   "source": [
    "## Implementation\n",
    "Let's now implement the QSP and see how it works in practice. First we define the $R$-signal and signal-processing operators. To get QSP sequences we will use `pyqsp` python package @pyqsp. Since it gives anges in the $W$-convention, we will also need to convert them to our $R$ convention. Finally, we define a function that assembles the QSP circuit."
   ]
  },
  {
   "cell_type": "code",
   "execution_count": 2,
   "id": "9ed04d9d",
   "metadata": {},
   "outputs": [],
   "source": [
    "def R(a):\n",
    "    \"\"\"Singnal operator in R-convention.\"\"\"\n",
    "    \n",
    "    b = np.sqrt(1-a**2)\n",
    "    R = np.array([\n",
    "        [a, b],\n",
    "        [b, -a]])\n",
    "\n",
    "    return R\n",
    "\n",
    "def S(phi):\n",
    "    \"\"\"Diagonal signal-processing operator.\"\"\"\n",
    "    \n",
    "    return np.diag([np.exp(1j*phi), np.exp(-1j*phi)])\n",
    "\n",
    "def angles_from_W_to_R(phis):\n",
    "    \"\"\"Convers QSP angles from W convention to R convention.\"\"\"\n",
    "    \n",
    "    assert len(phis)>0, 'At least one angle must be provided.'\n",
    "    \n",
    "    phis = \\\n",
    "    [phis[0]+(2*len(phis)-3)*np.pi/4] \\\n",
    "    + [phi-np.pi/2 for phi in phis[1:-1]] \\\n",
    "    + [phis[-1]-np.pi/4]\n",
    "    \n",
    "    return phis \n",
    "\n",
    "def apply_QSP(R, phis):\n",
    "    \"\"\"Computes S(phi_0) @ R @ S(phi_1) @ R ... @ S(phi_d-1) @ R @ S(phi_d). \"\"\"\n",
    "    \n",
    "    phis = angles_from_W_to_R(phis)\n",
    "    \n",
    "    res = S(phis[-1])\n",
    "    for phi in phis[:-1][::-1]:        \n",
    "        res = S(phi) @ R @ res\n",
    "    \n",
    "    return res"
   ]
  },
  {
   "cell_type": "markdown",
   "id": "4bb5d8dc",
   "metadata": {},
   "source": [
    "Now let's take some arbitrary polynomial $P$, determine the QSP angles $P\\to \\phi$, and check that the real part of the QSP circuit $U_\\phi[0,0]$ reproduces the chosen polynomial."
   ]
  },
  {
   "cell_type": "code",
   "execution_count": 17,
   "id": "c4fd497c",
   "metadata": {},
   "outputs": [
    {
     "data": {
      "image/png": "[encoded data removed]",
      "text/plain": [
       "<Figure size 432x288 with 1 Axes>"
      ]
     },
     "metadata": {
      "needs_background": "light"
     },
     "output_type": "display_data"
    }
   ],
   "source": [
    "# Note that the polynomial must have definite parity and be bounded.\n",
    "P = np.polynomial.Polynomial([0., 0.1, 0., -0.4, 0., 0.4]) \n",
    "\n",
    "# QSP angles from polynomial coefficients.\n",
    "phis = pyqsp.angle_sequence.QuantumSignalProcessingPhases(P.coef, signal_operator='Wx')\n",
    "\n",
    "# Range to scan over.\n",
    "x = np.linspace(-1, 1, 50)\n",
    "\n",
    "# Compute matrix elements of the QSP sequence\n",
    "unitaries = [apply_QSP(R(xi), phis) for xi in x]\n",
    "matrix_elements = [np.real(u[0,0]) for u in unitaries]\n",
    "\n",
    "# Compare\n",
    "plt.plot(x, P(x));\n",
    "plt.plot(x, matrix_elements, '*');\n",
    "plt.title('Your polynomial implemented by QSP');"
   ]
  },
  {
   "cell_type": "markdown",
   "id": "72926f5f",
   "metadata": {},
   "source": [
    "If you are running this as an interactive notebook, try changing the polynomial and see what happens.This excersize ends our introduction to QSP."
   ]
  },
  {
   "cell_type": "markdown",
   "id": "ac49a532",
   "metadata": {},
   "source": [
    "# Technical background\n",
    "\n",
    "You may think of QSVT as a generalization of QSP, where instead of applying a polynomial transformation to a single matrix element you apply it the singular values of a block-embedded matrix. Before explaining how exactly does that work we should go thought some mathematical preliminaries."
   ]
  },
  {
   "cell_type": "markdown",
   "id": "96bc275c",
   "metadata": {},
   "source": [
    "## Singular value decomposition\n",
    "\n",
    "### What is it?\n",
    "Probably it's worth making a brief digression to discuss what are those singular values that we are going to transform. If, like me, you are more familiar with hermitian matrices and eigenvalues, think of the singular values as a generalization.\n",
    "\n",
    "So, the key theorem known as the singular value decomposition (SVD), says that *any* (and I mean *any*: real or complex, hermitian or non-hermitian, square or rectangular) matrix $A$ can be decomposed as follows\n",
    "$$A=V\\Sigma W^\\dagger \\ .$$\n",
    "\n",
    "If $A$ is $n\\times m$ matrix then $V$ is a unitary of dimension $n\\times n$, $W$ is a unitary of dimension $m\\times m$ and $\\Sigma$ is something like a diagonal matrix, except it has dimension $n\\times m$ and can be non-square. The 'extra' non-square part consists of zeros. If you remove it, $\\Sigma$ is just a diagonal matrix with *positive* entries $\\sigma_i$. Another way of writing SVD is using bra-ket notation\n",
    "$$A=\\sum_i \\sigma_i|v_i\\rangle \\langle w_i| \\ .$$\n",
    "\n",
    "### Relation to eigenvalues\n",
    "For Hermitian matrices the eigenvector decomposition is almost the same as SVD with $V=W$. A subtlety is that by definition $\\sigma_i\\ge0$ while the eigenvalues can be negative. Negative signs of the eigenvalues can be absorbed into $V$ or $W$, but this will make them different.\n",
    "\n",
    "Also, you can show that non-zero eigenvalues of hermitian operators $A^\\dagger A$ and $AA^\\dagger$ are equal to the singular values of $A$ squared.\n",
    "\n",
    "### Relation to operatorn norm\n",
    "SVD has many applications, and I'll mention two of them that will be relevant. Define the operator norm of $A$ by \n",
    "$$||A||=\\sup_v \\frac{|Av|}{|v|} \\ . $$\n",
    "\n",
    "In words, the linear transformation $A$ in general changes the lenght of the input vector $v$, and the operator norm quantifies the largest such change. It is easy to see that $||A||=max_i \\sigma_i$, i.e. that operator norm is equal to the largest singular value.\n",
    "\n",
    "Operator norm is natural in quantum mechanics and in particular in QSVT. Assume we aimed to implement some operator $A_0$ but only managed to implement $A$. For an arbitrary state we can write $A|\\psi\\rangle=A_0|\\psi\\rangle+(A-A_0)|\\psi\\rangle$. The 'error' term can be bounded as $|(A-A_0)|\\psi\\rangle|\\le ||A-A_0||$. hence, if $A$ is close to $A_0$ in the operator norm, its action on any state will have a large overlap with the target state. In quantum mechanics this means that for all practical purposes $A$ is a good approximation to $A_0$.\n",
    "\n",
    "### Moore-Penrose pseudo-inverse\n",
    "Another application of SVD is to solving linear systems of equations $Ax=b$. Depending on $A$ and $b$, the system may have a single solution, many solutions or none at all. A related problem is to minimize $|Ax-b|^2$, a problem which always has a solution. It can be written as $x=A^+b$ with $A^+$ being the Moore-Penrose pseudo-inverse. It is most easily defined in terms of the SVD\n",
    "$$A^+=\\sum_{\\sigma_i\\neq0}\\sigma_i^{-1} |w_i\\rangle \\langle v_i| \\ .$$\n",
    "For invertible matrices $A^+$ conicides with the usual inverse $A^{-1}$ for non-invertible ones, this is in a sense the closest you can get.\n",
    "\n",
    "### how to define polynomial of an arbitrary matrix\n",
    "It is straigtforward to define a polynomial of a hermitian matrix, e.g. for $p(x)=x-x^2+x^4$ we set $p(h)=h-h^2+h^4$. Alternatively, we can say that the polynomial applies to eigenvalues of $h$, i.e. if $h=\\sum_i \\lambda_i |v_i\\rangle\\langle v_i|$ then $p(h)=\\sum_i p(\\lambda_i) |v_i\\rangle\\langle v_i|$.\n",
    "\n",
    "For a general matrix $A$ expressions like $A^2$ may not make sense, because of incompatible dimensions. More abstractly, for a generic operator $A$ the input space need not be the same as the output space, so applying $A$ twice is simply not defined. In principle, we could still define $p(A)$ by applying $p$ to singular values of $A$, similarly to the hermitian case. The more natural and useful definition is a bit different. For $A=\\sum_i \\sigma_i|v_i\\rangle\\langle w_i|$ define\n",
    "\\begin{align}\n",
    "p(A)=\\begin{cases} \\sum_i p(\\sigma_i)|v_i\\rangle \\langle w_i|,\\qquad \\text{$p$ is odd}\\\\ \\sum_i p(\\sigma_i)|w_i\\rangle \\langle w_i|,\\qquad \\text{$p$ is even} \\end{cases}\n",
    "\\end{align}\n",
    "\n",
    "For example, for $p(x)=1-x^2+x^4$ we get $p(A)=\\mathbb{1}-A^\\dagger A+(A^\\dagger A)^2$, for $p(x)=x-x^3$ we get $p(A)=A-AA^\\dagger A$. The pattern should be clear. By alternating $A$ and $A^\\dagger$ we make sure that the input space of a new operator is the output space of a preceeding one. If the $p(x)$ is odd, $p(A)$ maps between the same space as $A$. If $p(x)$ is even, $p(A)$ maps the input space of $A$ back to itself.\n",
    "\n",
    "We will see that this distinction between the even and odd polynomials will spillover into QSVT."
   ]
  },
  {
   "cell_type": "markdown",
   "id": "8004776f",
   "metadata": {},
   "source": [
    "## Block encoding\n",
    "\n",
    "Another key concept to QSVT is that of block-encoding. The idea is as follows. Quantum computer can only effect unitary transformations $U$. However, many interesting operators are not unitary (say a typical hamiltonian, or a matrix of a linear system). One solution here is block-encoding.\n",
    "\n",
    "###  Block encoding in the computational basis\n",
    "The simplest case of the block encoding is when your matrix of interst $A$ occupies the top-left corner of your unitary\n",
    "\n",
    "$$U=\\begin{pmatrix}A& *\\\\ * & *\\end{pmatrix} \\ .$$\n",
    "\n",
    "Here and below, the wildcard asterisk $*$ means that we don't care what is contained in other blocks. $A$ and $*$ blocks can be of any size compatible with one another. $U$ must be square, of course. That's it, that is block-encoding. The tricky part is to actually find an efficient quantum circuit corresponding to $U$. This is heavily problem-specific and I will not go into details, assuming that the block-encoding is given to us (you may say we have an oracular access to it). I will however discuss one particular example, known as the linear combination of unitaries in sec.@sec-LCU.\n",
    "\n",
    "### Can any matrix be block encoded?\n",
    "The block encoded matrix $A$ may in principle be arbitrary. The only restriction is that its operator norm is less then one $||A||\\le1$ (otherwise $U$ can not be unitary). If this is not the case, we can often encode $A/\\alpha$ with sufficiently large $\\alpha$ instead. Again, this is very problem-specific.\n",
    "\n",
    "### Single-qubit block encoding\n",
    "Often operator $A$ to be block-encoded naturally acts on some $n$-qubit system, perhaps $A$ is it's Hamiltonian. In that case, assuming $||A||\\le 1$, we only need one additional qubit to block-encode $A$. The result may look somtheing like\n",
    "\n",
    "$$U=\\begin{pmatrix} A & \\sqrt{1-AA^\\dagger} \\\\ \\sqrt{1-A^\\dagger A} & -A^\\dagger \\end{pmatrix}\\ .$$\n",
    "\n",
    ":::{.callout-note title=\"Exercise\" collapse=true}\n",
    "Show that $U$ is untary. You will need to show that $A\\sqrt{1-A^\\dagger A}=\\sqrt{1-AA^\\dagger}A$ which can be done via SVD.\n",
    ":::\n",
    "\n",
    "Alternatively, we can write $U=|0\\rangle\\langle0|\\otimes A+\\dots$. \n",
    "\n",
    "### Controlled unitary is a block encoding\n",
    "For the sake of intuition I will give two example of how the block encoding can be realized with a unitary circuit. One familiar example of a block encoding is a controlled unitary operation. Indeed,\n",
    "$$C(U)=|0\\rangle \\langle 0| \\otimes U+|1\\rangle \\langle 1| \\otimes U=\\begin{pmatrix} U & 0 \\\\ 0 & \\mathbb{1}\\end{pmatrix} \\ .$$\n",
    "Note that this is $|0\\rangle$-controlled unitary, the standard $|1\\rangle$-controlled would have the $U$ and the identity blocks swaped. More generally, let $U$ be controlled by some basis state of $n$ qubits $|m\\rangle$, i.e. $C_{|m\\rangle\\langle m|}U=|m\\rangle\\langle m| \\otimes U+(\\mathbb{1}-|m\\rangle\\langle m|)\\otimes\\mathbb{1}$. Then, in matrix form\n",
    "\n",
    "$$C_{|m\\rangle\\langle m|}U=\\begin{pmatrix}\\mathbb{1} &&&&\\\\ &\\ddots&&& \\\\ && U && \\\\ &&&\\ddots& \\\\ &&&&\\mathbb{1}\\end{pmatrix} \\ ,$$ \n",
    "\n",
    "where $U$ occupies $m$-th block.\n",
    "\n",
    "### Linear combination of unitaries\n",
    "\n",
    "***Linear combination of unitaries (LCU)*** is a powerful technique for block encoding. Using controlled versions of unitary operators $U_1,\\dots, U_N$ it block encodes their linear combination $\\alpha_1 U_1+\\dots\\alpha_N U_N$\n",
    "\n",
    "It works as follows. Assume $N=2^n$ and you can implement unitaries $U_m$ controlled by a state of $|n\\rangle$ qubits, $C_{|m\\rangle\\langle m|}U_m$. Taking the product of all these controlled unitaries we get what is known as the $\\text{SELECT}$ operator\n",
    "\n",
    "$$\\text{SELECT} = \\prod_m C_{|m\\rangle\\langle m|}U_m = \\begin{pmatrix}U_1 &&&&\\\\ &\\ddots&&& \\\\ && U_m && \\\\ &&&\\ddots& \\\\ &&&&U_{2^n}\\end{pmatrix}$$\n",
    "\n",
    "In other words, $\\text{SELECT} = \\sum_m |m\\rangle\\langle m| \\otimes U_m$, and it applies (selects) a different unitary based on the value of the control state. Now also assume you have a $\\text{PREPARE}$ operator acting on the control qubits as follows $\\text{PREPARE} |0\\rangle=\\sum_m \\sqrt{\\alpha_m} |m\\rangle$ (assuming $\\sum_i\\alpha_i=1$). Then\n",
    "\n",
    "$$\\text{PREPARE}^\\dagger\\cdot\\text{SELECT}\\cdot\\text{PREPARE} = \\begin{pmatrix}\\alpha_1 U_1+\\dots \\alpha_NU_N& *\\\\ *&* \\end{pmatrix}$$\n",
    "\n",
    "i.e. it block encodes the desired linear combination. \n",
    "\n",
    ":::{.callout-note title=\"Exercise\" collapse=true}\n",
    "Prove this statement. Show also that See @fig-uphi is a particular case, and that it indeed block encodes $\\frac12\\left(U_{\\phi}+U_{-\\phi}\\right)$ as claimed.\n",
    ":::\n",
    "\n",
    "Note that we need logarithmically less ancilla qubits than the number of unitaries, so the computaions above are efficient. One of the use cases for this protocol is to block encode a local Hamiltonian, i.e. a Hamiltonian that constists of not too many Pauli strings of bounded weight. Implementing the controlled version of each Pauli string is straightforward, and the procedure goes through.\n",
    "\n",
    "### Applying block-encoded operator to a state\n",
    "We can apply a block-encoded operator $A$ to a quantum state $|\\psi\\rangle$ as follows. Assume $U=|0\\rangle\\langle0|\\otimes A+\\dots$ block-encodes $A$ and we also have a state of $n+1$ qubit system that looks as follows $|\\Psi\\rangle=|0\\rangle \\otimes|\\psi\\rangle$. Then\n",
    "\n",
    "$$U|\\Psi\\rangle = \\begin{pmatrix} A & *\\\\ * & *\\end{pmatrix}\\begin{pmatrix} |\\psi\\rangle \\\\ 0\\end{pmatrix}=\\begin{pmatrix}A|\\psi\\rangle \\\\ * \\end{pmatrix}=|0\\rangle\\otimes A|\\psi\\rangle+|1\\rangle\\otimes|*\\rangle \\ .$$\n",
    "\n",
    "Therefore, if we measure the ancillary qubit after applying $U$ to $|\\Psi\\rangle$ and find it in state $|0\\rangle$, the state of the remaining qubits is\n",
    "$$\\frac{A|\\psi\\rangle}{\\langle\\psi|A^\\dagger A|\\psi\\rangle} \\ .$$\n",
    "I.e., up to a normalization it is the state $A|\\psi\\rangle$ we wanted to find. On the other hand, if we find the anciallary qubit in state $|1\\rangle$ we don't get a useful result. Indeed, a general non-hermitian operator can not be implemented on a quantum computer deterministically, we need to *post-select* on the state of the ancillary qubit. The success probability of this protocol is given by the norm of the vector $A|\\psi\\rangle$.\n",
    "\n",
    "\n",
    "### Block encoding in general bases and projection operators\n",
    "\n",
    "In general we do not need that block encoding be in the computational basis, i.e. the $A$ is the top-left part of a unitary $U$. We can assume that it hold only in some specially chosen input and output bases\n",
    "\n",
    "$$U = B_L \\begin{pmatrix} A & * \\\\ * & *\\end{pmatrix} B_R^\\dagger \\ .$$\n",
    "Here $B_L$ and $B_R$ are unitary matrices that perform the necessary bases changes.\n",
    "\n",
    "This statement is a bit empty because there is too much freedom: using properly chosen $B_R$ and $B_L$ we can say that any $U$ is a block encoding of any $A$. What we really need in QSVT is the ability to perfom controlled projectors based on the block encoding bases. Here is what I mean. Define\n",
    "$$\\Pi_n = \\begin{pmatrix} \\mathbb{1}_{n\\times n} & 0 \\\\ 0 & 0\\end{pmatrix} \\ .$$\n",
    "This is a projector on the first $n$ computation basis vectors. Now define left and right projectors\n",
    "$$\\Pi_L = B_L P_n B_L^\\dagger, \\qquad \\Pi_R = B_R P_m B_R^\\dagger \\ .$$\n",
    "If $A$ is square $n=m$ but for general block embeddings this need not hold. The key property of the projectors is \n",
    "\n",
    "$$\\Pi_L U \\Pi_R= B_L\\begin{pmatrix} A & 0 \\\\ 0 & 0\\end{pmatrix} B_R^\\dagger \\ .$$\n",
    "\n",
    "QSVT does not explicitly use $B_L$ or $B_R$. We only need to have access to operators\n",
    "$$\\Pi_L(\\phi)=e^{(2\\Pi_L-1)\\phi},\\quad \\Pi_R(\\phi)=e^{(2\\Pi_R-1)\\phi} \\ .$$\n",
    "These are analogs of the signal-processing operator $S(\\phi)$ we defined in QSP \\eqref{S}. will be our signal-processing operators. Note that \n",
    "$$\\Pi_L(\\phi)=B_L\\begin{pmatrix}e^{i\\phi} &0 \\\\ 0 & e^{-i\\phi}\\end{pmatrix}B_L^\\dagger \\ .$$\n",
    "So, in the right-basis, this is indeed a block-version of the signal-processing operator.\n",
    "\n",
    "### Projector rotations from controlled projectors\n",
    "Projector rotations $\\Pi(\\phi)$ are easy to implement provided access to the projector-controlled NOT operation $C_{\\Pi}NOT$, which is defined as \n",
    "$$C_{\\Pi}NOT=X\\otimes\\Pi+\\mathbb{1}\\otimes (1-\\Pi)$$\n",
    "or, graphically, \n",
    "\n",
    "![](figures/controlled_p.svg){width=300 fig-align='center'}\n",
    "\n",
    "Slashed line means the operator can act on a arbitrary number of qubits. The rotation $\\Pi(\\phi)$ can be implemented as follows\n",
    "\n",
    "![](figures/projector_rotation.svg){width=300 fig-align='center'}\n",
    "\n",
    "Thus, with an additional ancilla qubit and the ability to perform $C_\\Pi NOT$ we get to implement $\\Pi(\\phi)$. In what follows I will not worry about this implementation detail and assume direct access to $\\Pi(\\phi)$."
   ]
  },
  {
   "attachments": {},
   "cell_type": "markdown",
   "id": "a4629e00",
   "metadata": {},
   "source": [
    "## Approximating functions with bounded polynomials\n",
    "Another key step in QSVT is approximating target functions with polynomials. This is a huge field on its own, and I can only scratch the surface. It may be tempting to view the polynomial approximation, but we probably shouldn't. This is because the degree of the polynomial that gives a good enough approximation to your function determines the number of queries to the block encoded operators. Hence, directly controls the complexity of the resulting quantum algorithm. Let's therefore try to gain some intuition about how polynomial approximations work and how they scale. \n",
    "\n",
    "### Recap of the problem\n",
    "So, originally we wanted to apply some function to singular values $f(x)$. However, in QSP/QSVT we only know how to apply polynomials $p(x)$. There are also restrictions on polynomials that we can implement.\n",
    "\n",
    "1. The polynomial must be bounded in the physical range $|p(x)|\\le1$ for $-1\\le x \\le 1$.\n",
    "2. We can only implement directly even or odd $p(x)$. If we need to approximate $f(x)$ of indefinite parity, we approximate its even and odd parts separately, then combine.\n",
    "\n",
    "In a typical application we only need to approximate $f(x)$ on a subset $(a,b)\\subset (-1, 1)$. So the approximation task is to find $p(x)$ such that\n",
    "\n",
    "1. $|p(x)-f(x)|\\le \\epsilon$ for $x\\in (a,b)$.\n",
    "1. $|p(x)|\\le 1$ for $x\\in(-1,1)$.\n",
    "1. $p(x)$ has the smallest degree possible.\n",
    "\n",
    "Here is an illustration of what that should look like.\n",
    "\n",
    "![Approximation](figures/approx.svg){width=400 fig-align='center'}\n",
    "\n",
    "Note that $|f(x)|$ need not be bounded by 1 on $(-1,1)$, but only on $(a,b)$ where we approximate it. Similarly, $|p(x)|$ only needs to be bounded by 1 on $(-1,1)$. In fact, because $p(x)$ is a polynomial, it will necessarily blow up for sufficiently large $x$.\n",
    "\n",
    "### Chebyshev polynomials\n",
    "One of the most popular polynomial bases for approximations are given by Chebyshev polynomials, which can be defined as\n",
    "\n",
    "$$T_n(x)=\\cos(n\\arccos x)=\\frac12\\left(\\left(x+\\sqrt{1-x^2}\\right)^n+\\left(x-\\sqrt{1-x^2}\\right)^n\\right) \\ .$$\n",
    "\n",
    "Alright, this does not look very intuitive, what is so special about them? Actually, I don't know. Let's maybe ask a simpler question first, why not use the good old Taylor expansion? This is probably the first thing that comes to mind when talking about a polynomial approximation. The problem is, Taylor series is designed to capture the behavior of a function near a particular point, and the quality of approximation degrades fast as we step outside a close vicinity. If if the Taylor series converges there, the convergence may be way too slow.\n",
    "\n",
    "To capture a behavior over a certain range of values, instead of a vicinity of a particular point, some other functional basis may be better. Probably a Fourier expansion will work well, except it is not polynomial. Now, let's actually take a look at the Chebyshev polynomials."
   ]
  },
  {
   "cell_type": "code",
   "execution_count": 21,
   "id": "216c51fc",
   "metadata": {},
   "outputs": [
    {
     "data": {
      "image/png": "[encoded data removed]",
      "text/plain": [
       "<Figure size 432x288 with 2 Axes>"
      ]
     },
     "metadata": {
      "needs_background": "light"
     },
     "output_type": "display_data"
    }
   ],
   "source": [
    "plt.subplot(1, 2, 1)\n",
    "x = np.linspace(-1, 1, 100)\n",
    "for n in range(5):\n",
    "    plt.plot(x, plt.np.polynomial.Chebyshev.basis(n)(x), label=f'$T_n$={n}')\n",
    "plt.title('Chebyshev polynomials in (-1, 1)')\n",
    "plt.legend();\n",
    "plt.subplot(1, 2, 2)\n",
    "x = np.linspace(-2, 2, 100)\n",
    "for n in range(5):\n",
    "    plt.plot(x, plt.np.polynomial.Chebyshev.basis(n)(x), label=f'$T_n$={n}')\n",
    "plt.title('Chebyshev polynomials in (-2, 2)')\n",
    "plt.legend();\n",
    "plt.tight_layout()"
   ]
  },
  {
   "cell_type": "markdown",
   "id": "3d2cd731",
   "metadata": {},
   "source": [
    "Is it just me, or the Chebyshev polynomials actually look quite a lot like $sin$ and $cos$ functions in $(-1,1)$ (left fig)? Note that they are also bounded there, and that they quickly blow up outside $(-1, 1)$ (right fig).\n",
    "\n",
    "Now, as any respactable functional basis they have the property that an arbitrary reasonable function $f(x)$ can be expanded into the Chebyshev series\n",
    "$$f(x)=\\sum_{n\\ge0} a_nT_n(x), \\qquad x\\in (-1, 1)$$\n",
    "with decaying coefficients $a_n$. One can bound $a_n$ as follows @Tang2023\n",
    "$$a_n\\le 2M\\rho^{-n} \\ .$$\n",
    "\n",
    "Parameters $M$ and $\\rho$ need to be explained. Define the Bernstein ellipse $E_{\\rho}$ as the set of poins on the complex plain that are bounded by the ellipse $\\frac{z+z^{-1}}{2}, |z|=\\rho$, or alternatively $\\frac{\\rho e^{i\\phi}+\\rho^{-1} e^{-i\\phi}}{2},\\phi\\in (0,2\\pi)$. Note that $\\rho>1$ and the interval $(-1,1)$ is contained in $E_\\rho$. Here is a sketch.\n",
    "\n",
    "![](figures/ellipse.svg){width=400 fig-align='center'}\n",
    "\n",
    "Now, assume that $f(x)$ can be analytically continued from $(-1,1)$ to the interior of $E_\\rho$ and. Then, $M$ the upper bound on the value of $f(z)$, i.e. $|f(z)|<M, z\\in E_\\rho$. Alright, so for any fixed $M$ and $\\rho$ the Chebyshev coefficients of $f(x)$ decay exponentially. Given this fact and that all Chebyshev polynomials are bounded by 1 on $x\\in(-1,1)$ we find that truncation of the Chebyshev expansion satisfies\n",
    "$$|f(x)-\\sum_{m=0}^n a_m T_m(x)|\\le \\frac{2M\\rho^{-n-1}}{\\rho-1} \\ . $$\n",
    "\n",
    "This approximation result is in general not sufficient for QSVT applications. The interval $(-1,1)$ here should be really thought of as the interval $(a,b)$ from the previous section, i.e. the subset where the target function needs to be approximated. This means that along with finding a good approximation on $(-1,1)$ we also need to ensure that the resulting polynomial remains bounded in some region outside $(-1,1)$, which is an additional challenge."
   ]
  },
  {
   "cell_type": "markdown",
   "id": "b7ad2b29",
   "metadata": {},
   "source": [
    "### A recipie for building bounded Chebyshev approximations\n",
    "A general workaround for this problem is proposed in @Tang2023. The idea is to take an approximation that behaves well on $(-1,1)$ but blows up outside, and multiply it by a function that is close to 1 at $(-1, 1)$ and rapidly decays outside. Then the product can be re-expanded in the Chebyshev basis and yield the desired result. Here is the summary of the procedure (Theorem 19 of  @Tang2023).\n",
    "\n",
    "Let $f(x)$ be analytic on $[-1, 1]$ and analytically continuanable to $E_\\rho$ where it is bounded by $M$. Denote $\\rho=1+\\alpha, \\alpha>0$. For any $\\epsilon$ there is a polynomial $p(x)$ such that\n",
    "\n",
    "1. $|f(x)-p(x)|_{[-1,1]}\\le M\\epsilon$. \n",
    "1. $|p(x)|_{[-1-\\delta, 1+\\delta]}\\le M$.\n",
    "1. $|p(x)|_{[-b,-1-\\delta]\\cup [1+\\delta, b]}\\le M\\epsilon$.\n",
    "\n",
    "In words, $p(x)$ approximates $f(x)$ to relative precision $\\epsilon$ on $[-1,1]$. Furthermore, $p(x)$ is bounded by a constant in some $\\delta$-neighborhood outside $[-1, 1]$. Finally, $p(x)$ is $\\epsilon$-close to zero outside this $\\delta$-neighborhood and up to a larger $b$-neighborhood. Here is a sketch.\n",
    "\n",
    "![](figures/approx_delta.svg){width=400 fig-align='center}\n",
    "\n",
    "The condition that $p(x)$ is zero ouside some $\\delta$-neighborhood is useful for approximating piece-wise smooth functions. Now, I haven't yet told what are $\\delta, b$ and, most importantly, what is the degree of the polynomial? According to @Tang2023, $\\delta$ can be anywhere in $(0, \\frac{min(1,\\alpha^2)}{C})$ for a sufficiently large but constant $C$. You can choose $b>1+\\delta$ freely. Then, the desired polynomial has degree\n",
    "\\begin{align}\n",
    "\\operatorname{deg}p(x)=O\\left(\\frac{b}{\\delta}\\log \\frac{b}{\\delta \\epsilon}\\right) \\label{pdeg} \\ .\n",
    "\\end{align}\n",
    "\n",
    "Some important features of this formula\n",
    "1. If you insist on a good approximation at the point of discontinuity, you pay linear price. I.e. the degree of the polynomial scales linearly (modulo log factor) with $\\delta^{-1}$.\n",
    "1. If you want your polynomial approximation to be bounde far enough away from $[-1,1]$ you pay linear price, i.e. the degree scales linearly with $b$.\n",
    "1. Dependence on the error is logarithmic, which is nice."
   ]
  },
  {
   "cell_type": "markdown",
   "id": "6dbba5cd",
   "metadata": {},
   "source": [
    "### Illustration: approximating the step function\n",
    "In many applications of QSVT it is actually very helpful to approximate the step function $\\theta(x-a)$ for some small $a$. This will also help us illustrate the approximation results described above. \n",
    "\n",
    "A problem with this step function is that it is not of definite parity, so we will instead aim to approximate its odd part $f(x)=\\frac12\\left(\\theta(x-a)+\\theta(-x-a)\\right)$. The two parts of this piecewise-smooth function are just constants $\\pm1$, and hence $M=1$ for arbitrary $\\rho$. The only thing we need to take care of is that the discontinuity region, where our approximation fails, is small enough $\\delta\\le a$. This implies that there is a polynomial of degree $O(\\frac1a\\log\\frac1{a\\epsilon})$ that does the job.\n",
    "\n",
    "In this case and some other cases the approximation bound stated in the previous section does not give the tighest result. For instance, approximating the step function is possible with a polynomial of degree $O(\\frac1a\\log\\frac1\\epsilon)$, i.e. the additional $\\log\\frac1{a}$ factor is not necessary. The overhead we get from applying the procedure above is often modest, a may be a good price to pay for the universality of the approach."
   ]
  },
  {
   "cell_type": "markdown",
   "id": "f1afeb83",
   "metadata": {},
   "source": [
    "# QSVT\n",
    "\n",
    "Phew! That was quite a bit of preparing. However, we now have all the ingredients in place to explain how (and also a bit why) QSVT works.\n",
    "\n",
    "## Recap\n",
    "Let's recap what is the setup.\n",
    "\n",
    "1. The goal is to perform a functional transformation on the singular values of some operator $A\\to f(A)$.\n",
    "1. We are provided with a unitary $U$ that block encodes $A$, i.e. $U=B_L\\begin{pmatrix} A&*\\\\*&*\\end{pmatrix}B_R^\\dagger$ (in many cases of interest $B_L=B_R=\\mathbb{1}$).\n",
    "1. We are provided with projectors $\\Pi_L,\\Pi_R$ that describe this block encoding, i.e. $\\Pi_L U \\Pi_R=B_L\\begin{pmatrix} A&0\\\\0&0\\end{pmatrix}B_R^\\dagger$ and can perform projector rotations $\\Pi_L(\\phi), \\Pi_R(\\phi)$.\n",
    "1. We figured out what is a good polynomial approximation to our target function $p(x)\\approx f(x)$.\n",
    "\n",
    "From these ingredients, the QSVT builds a unitary $U_\\phi$ that block encodes the desired polynomial transformation.\n",
    "\n",
    "## ow QSVT works\n",
    "Alright, how to build $U_\\phi$? A bit awkwardly, we will have to separately describe two cases, when $p(x)$ is even and when it is odd. So, for $p(x)$ even (the number of QSP phases is odd)\n",
    "\n",
    "\\begin{align}\n",
    "U_\\phi = \\left(\\prod_{i=0}^{d/2-1}\\Pi_R(\\phi_{2i})U^\\dagger\\Pi_L(\\phi_{2i+1})U \\right) \\Pi_R(\\phi_d),\\qquad U_\\phi=B_R\\begin{pmatrix}p(A) & *\\\\ * & *\\end{pmatrix} B_R^\\dagger\\ . \\label{QSVT even}\n",
    "\\end{align}\n",
    "\n",
    "For $p(x)$ odd (the number of QSP phases even)\n",
    "\\begin{align}\n",
    "U_{\\phi}=\\Pi_L(\\phi_{0})U\\prod_{i=1}^{(d-1)/2}\\Pi_R(\\phi_{2i-1})U^\\dagger\\Pi_L(\\phi_{2i})U \\Pi_R(\\phi_d),\\qquad U_\\phi=B_L\\begin{pmatrix}p(A) & *\\\\ * & *\\end{pmatrix} B_R^\\dagger \\label{QSVT odd}\n",
    "\\end{align} \n",
    "\n",
    "Recall that we defined polynomial of a matrix $p(A)$ in @sec-polymatrix, and that it had the same personality split into even/odd cases. The angles $\\phi$ are *the same* angles that we would use to apply $p(x)$ in QSP with R-conventions. \n",
    "\n",
    ":::{.callout-note}\n",
    "One thing I tripped over. In QSP, we have different signal conventions and need to use a different angle sequence for each. Now I just told you that for QSVT we need to borrow QSP angles in the R-convention. Don't we need to specify how exactly is our operator $A$ block encoded in $U$ then? No, we need not. The difference between QSP and QSVT is that in QSP we apply the same signal operator throughout, while in QSVT we alternate between $U$ and $U^\\dagger$. Because different block encodings are related by unitary transformations, these differences cancel in the QSVT sequence. To see why the R-convention of QSP most naturally maps to QSVT, take a look at the next section.\n",
    "\n",
    ":::\n",
    "\n",
    "Let's implement the QSVT circuit in code for later use."
   ]
  },
  {
   "cell_type": "code",
   "execution_count": 6,
   "id": "4eb3c76f",
   "metadata": {},
   "outputs": [],
   "source": [
    "def projector_rotation(P, phi):\n",
    "    \"\"\"Computes exponential of a projector using relation e^{i P x}= cos(x)-i(2P-1)sin(x)\"\"\":\n",
    "    n = len(P)\n",
    "    return np.eye(n)*np.cos(phi)-1j*(2*P-np.eye(n))*np.sin(phi)\n",
    "\n",
    "\n",
    "def apply_QSVT(U, PL, PR, phis):\n",
    "    \n",
    "    phi_last = phis[-1]\n",
    "    \n",
    "    if len(phis) % 2 == 1: # Even polynomial\n",
    "        phis_paired = phis[:-1]\n",
    "        phi_0 = None\n",
    "    else: # Odd polynomial\n",
    "        phis_paired = phis[1:-1]\n",
    "        phi_0 = phis[0]\n",
    "    \n",
    "    res = projector_rotation(PR, phi_last)\n",
    "    \n",
    "    for phi_R, phi_L in np.array(phis_paired).reshape(-1, 2)[::-1]:\n",
    "        res =  projector_rotation(PR, phi_R) @ U.conj().T @  projector_rotation(PL, phi_L) @ U @ res\n",
    "    \n",
    "    if phi_0 is not None:\n",
    "        res = projector_rotation(PL, phi_0) @ U @ res\n",
    "        \n",
    "    return res"
   ]
  },
  {
   "cell_type": "markdown",
   "id": "763b87d1",
   "metadata": {},
   "source": [
    "## Why QSVT works\n",
    "Alright, how do we prove \\eqref{QSVT even} and \\eqref{QSVT odd}? I'd say that the full proof is a bit tedious and not very illuminating, but we can get a good intuition by looking at several particular cases. I will follow a recent exposition in @Tang2023 that simplifies the derivation. The key idea there is to leverage another special matrix decomposition, known as the ***CS decomposition*** (cosine-sine). It states that for any unitary matrix $U$ consisting of four blocks the following holds\n",
    "$$U=\\begin{pmatrix}U_{00} & U_{01} \\\\ U_{10} & U_{11}\\end{pmatrix}=\\begin{pmatrix}V_0 & 0 \\\\ 0 & V_1\\end{pmatrix}\\begin{pmatrix}C & S \\\\ S & -C\\end{pmatrix}\\begin{pmatrix}W_0 & 0 \\\\ 0 & W_1\\end{pmatrix}^\\dagger \\ .$$\n",
    "\n",
    "here $V_{0}, V_{1}, W_{0},W_{1}$ are unitaries of an appropriate sizes. If all blocks in $U$ are of equal size, matrices $C$ and $S$ are diagonal and satisfy $C^2+S^2=\\mathbb{1}$, hence the name CS. For block of arbitrary sizes there will still be CS-sublocks, but you'd also have to carefully pad them with zeros and ones. I will not consider this case here.\n",
    "\n",
    "Important property of the CS-decomposition, which is not shared e.g. by the SVD, is that the unitaries sandwiching the CS-core are block-diagonal. For this reason, they commute through projector-rotations and effectively drop out of the QSVT sequence. At the same time, the middle matrix in CS-decomposition looks exactly as the R-signal matrix in QSP, which explains why we need to use QSP angles in R-convention to build QSVT circuit.\n",
    "\n",
    "With these ideas in place, the rest is mostly filling in the details. I will not do this here, but you are welcome to try and work out the full derivation or look in up in @Tang2023."
   ]
  },
  {
   "cell_type": "markdown",
   "id": "a52cb2d2",
   "metadata": {},
   "source": [
    "# Amplitude amplification\n",
    "\n",
    "Encompasses\n",
    "1. Grover's search.\n",
    "1. Oblivious amplitude amplification.\n",
    "1. Used in other quantum algorithms."
   ]
  },
  {
   "cell_type": "markdown",
   "id": "022f45e6-eaa4-4507-aaa3-04c6b86d7268",
   "metadata": {
    "tags": []
   },
   "source": [
    "## Test"
   ]
  },
  {
   "cell_type": "code",
   "execution_count": 7,
   "id": "4afb2d49-7030-4c00-8abf-f3796e8689a7",
   "metadata": {},
   "outputs": [
    {
     "data": {
      "image/png": "[encoded data removed]",
      "text/plain": [
       "<Figure size 432x288 with 1 Axes>"
      ]
     },
     "metadata": {
      "needs_background": "light"
     },
     "output_type": "display_data"
    }
   ],
   "source": [
    "P = np.diag([1, 0])\n",
    "\n",
    "\n",
    "coeffs =  [0, -0.2, 0., 0.5, 0., -0.4]\n",
    "phis = pyqsp.angle_sequence.QuantumSignalProcessingPhases(coeffs, signal_operator='Wx')\n",
    "phis = angles_from_Wx_to_R(phis)\n",
    "\n",
    "# Compute polynomial values in the range [-1, 1] directly\n",
    "x = np.linspace(-1, 1, 25)\n",
    "poly_values = [polynomial_value(coeffs, xi) for xi in x]\n",
    "\n",
    "unitaries =[apply_QSVT(R(xi), P, P, phis) for xi in x]\n",
    "matrix_elements = [np.real(u[0,0]) for u in unitaries]\n",
    "\n",
    "# Verify they agree.\n",
    "# assert np.allclose(poly_values, matrix_elements, atol=1e-5)\n",
    "plt.plot(x, poly_values);\n",
    "plt.plot(x, matrix_elements, '*');\n",
    "plt.title('Your polynomial implemented by QSP');"
   ]
  },
  {
   "cell_type": "markdown",
   "id": "95e0b18d-b86b-45f4-af2e-3728258f9837",
   "metadata": {},
   "source": [
    "## Poly test"
   ]
  },
  {
   "cell_type": "code",
   "execution_count": 8,
   "id": "40335bf2-ce92-452c-8773-d469febfbce7",
   "metadata": {},
   "outputs": [],
   "source": [
    "target_function = pyqsp.poly.PolySign()\n",
    "\n",
    "coeffs_list = []\n",
    "vals = []\n",
    "for N in range(1, 100)[::1]:\n",
    "    degree = np.ceil(np.sqrt(N))\n",
    "    if degree % 2 == 0:\n",
    "        degree += 1\n",
    "        \n",
    "    coeffs, scale = quiet(target_function.generate)(\n",
    "        degree, \n",
    "        delta=2*np.sqrt(N), \n",
    "        ensure_bounded=True, \n",
    "        return_scale=True);\n",
    "    \n",
    "    coeffs_list.append(coeffs)\n",
    "    vals.append(polynomial_value(coeffs, 1/np.sqrt(N)))"
   ]
  },
  {
   "cell_type": "markdown",
   "id": "e983c8e6-7119-4236-93ad-f419355f18b3",
   "metadata": {},
   "source": [
    "## Implementation"
   ]
  },
  {
   "cell_type": "code",
   "execution_count": 9,
   "id": "b9e2ca68",
   "metadata": {},
   "outputs": [],
   "source": [
    "np.random.seed(42)\n",
    "\n",
    "\n",
    "def projector_from_state(state):\n",
    "    return np.outer(state, state.conj())\n",
    "\n",
    "\n",
    "amplitudes = []\n",
    "for num_qubits in range(1, 11):\n",
    "    \n",
    "    N = 2**num_qubits\n",
    "    \n",
    "    # Define initial state |0> and the associated projector.\n",
    "    all_zero_state = np.zeros(N)\n",
    "    all_zero_state[0] = 1\n",
    "    PR = projector_from_state(all_zero_state)\n",
    "\n",
    "    # Define a random marked state. It will only be accessed via the corresponding projector.\n",
    "    marked_state = np.zeros(N)\n",
    "    marked_state[np.random.randint(0, N)] = 1\n",
    "    PL = projector_from_state(marked_state)\n",
    "\n",
    "    # Signal operator is the n-th tensor power of the Hadamard gate.\n",
    "    H = np.array([[1, 1], [1, -1]])/np.sqrt(2)\n",
    "    U = reduce(np.kron, [H]*num_qubits)\n",
    "\n",
    "    \n",
    "    target_function = pyqsp.poly.PolySign()\n",
    "    \n",
    "    degree = np.ceil(N**0.5)\n",
    "    if degree % 2 == 0:\n",
    "        degree += 1\n",
    "    \n",
    "    delta = N**0.5\n",
    "    coeffs, scale =  quiet(target_function.generate)(degree, delta=delta, return_scale=True)\n",
    "\n",
    "    phis = pyqsp.angle_sequence.QuantumSignalProcessingPhases(coeffs, signal_operator='Wx')\n",
    "    phis = angles_from_Wx_to_R(phis)\n",
    "\n",
    "    U_phi = apply_QSVT(U, PL, PR, phis)\n",
    "    amplitude = np.max(np.abs(np.real(PL @ U_phi @ PR)))\n",
    "    \n",
    "    amplitudes.append(amplitude)"
   ]
  },
  {
   "cell_type": "code",
   "execution_count": 10,
   "id": "4a48f2ec-851d-4f48-89a2-6c6ff3f00352",
   "metadata": {
    "collapsed": true,
    "jupyter": {
     "outputs_hidden": true
    },
    "tags": []
   },
   "outputs": [
    {
     "data": {
      "text/plain": [
       "[<matplotlib.lines.Line2D at 0x7fa9230de400>]"
      ]
     },
     "execution_count": 10,
     "metadata": {},
     "output_type": "execute_result"
    },
    {
     "data": {
      "image/png": "[encoded data removed]",
      "text/plain": [
       "<Figure size 432x288 with 1 Axes>"
      ]
     },
     "metadata": {
      "needs_background": "light"
     },
     "output_type": "display_data"
    }
   ],
   "source": [
    "plt.plot(amplitudes, '*')"
   ]
  },
  {
   "cell_type": "markdown",
   "id": "ccd51ea4",
   "metadata": {},
   "source": [
    "# Hamiltonian simulation\n",
    "\n",
    "We are given three things\n",
    "\n",
    "1. Block embedding of a Hamiltonian $H$, i.e. $U$ s.t. $H=\\left(\\langle 0|\\otimes I \\right)U\\left(|0\\rangle\\otimes I\\right)$.\n",
    "2. Projectors $\\Pi(\\phi)$.\n",
    "3. ??\n",
    "\n",
    "\n",
    "## Block encodings\n",
    "\n",
    "Singular value $\\sigma$ are positive square roots of eigenvalues $M^\\dagger M\\ge0$.\n",
    "\n",
    "To block encode some matrix $M$ we need $||M||\\le1$ where $||\\cdot||$ is the operator norm or, equivalently, the largest singular value."
   ]
  },
  {
   "cell_type": "code",
   "execution_count": 146,
   "id": "7bac2757",
   "metadata": {
    "tags": []
   },
   "outputs": [],
   "source": [
    "class BlockEncoding:\n",
    "    \n",
    "    def __init__(self, M):\n",
    "        \n",
    "        self.num_rows = M.shape[0]\n",
    "        self.num_cols = M.shape[1]\n",
    "        self.dim = 2*self.block_dimension(max(self.num_cols, self.num_rows))\n",
    "        \n",
    "        self.diagonal_block = self.pad_matrix(M, self.dim//2)\n",
    "        \n",
    "        U, S, WH = np.linalg.svd(self.diagonal_block)\n",
    "        \n",
    "        self.U = U\n",
    "        self.S = S\n",
    "        self.WH = WH\n",
    "        \n",
    "        self.off_diagonal_block = self.make_off_diagonal_block(self.U, self.S, self.WH)\n",
    "        \n",
    "        self.unitary = self.unitary_from_blocks(\n",
    "            self.diagonal_block, \n",
    "            self.off_diagonal_block)\n",
    "        \n",
    "        self.projector = np.kron(np.diag([1, 0]), np.eye(self.dim//2))\n",
    " \n",
    "    @staticmethod\n",
    "    def block_dimension(n):\n",
    "        \"\"\"Finds the minimum number of qubits to block encode a square matrix of dimension n\"\"\"\n",
    "        return int(2**np.ceil(np.log2(n)))\n",
    "        \n",
    "    @staticmethod\n",
    "    def pad_matrix(M, dim):\n",
    "        \"\"\"Pads a matrix with zeros make to make it into a d x d matrix..\"\"\"\n",
    "        \n",
    "        S = np.zeros((dim, dim), dtype=np.complex64)\n",
    "        n_rows, n_cols = M.shape\n",
    "        S[:n_rows,:n_cols] = M\n",
    "        return S\n",
    "    \n",
    "    @staticmethod\n",
    "    def make_off_diagonal_block(u, s, wh):\n",
    "        assert np.all(s<=1), f'All singular values {s} must be less than 1.'\n",
    "        return u @ np.diag(np.sqrt(1-s**2)) @ wh\n",
    "    \n",
    "    @staticmethod\n",
    "    def unitary_from_blocks(A, B):\n",
    "        n = A.shape[0]\n",
    "        U = np.zeros((2*n, 2*n), dtype=np.complex64)\n",
    "        U[:n, :n] = A\n",
    "        U[:n,n:2*n] = B\n",
    "        U[n:2*n, :n] = B\n",
    "        U[n:2*n, n:2*n] = -A\n",
    "        \n",
    "        assert np.allclose(U @ U.conj().T, np.eye(2*n), atol=1e-5), 'Ops, block encoding is not unitary.'\n",
    "        return U"
   ]
  },
  {
   "cell_type": "markdown",
   "id": "bf787948-319b-450f-83d9-2ab0d6f7e296",
   "metadata": {},
   "source": [
    "## Implementation"
   ]
  },
  {
   "cell_type": "markdown",
   "id": "cf360075-d25a-4409-a472-9e5356a36aee",
   "metadata": {},
   "source": [
    "- Success probability depends on the details of block encoding. \n",
    "- We assume $0\\le spec(H)\\le 1$.\n",
    "- In our case we build bloc-encoding of $\\frac12 e^{-i H t}$ and the algorithm successed with $\\frac14$ chance.\n",
    "- $C(e^{i\\phi}U)=C(U)\\cdot S\\otimes I$\n",
    "\n",
    "\n"
   ]
  },
  {
   "cell_type": "markdown",
   "id": "cd2bf22c-9443-430c-8fde-dfd265b1c595",
   "metadata": {},
   "source": [
    "Firts let's build the polynomials and angles sequences."
   ]
  },
  {
   "cell_type": "code",
   "execution_count": 151,
   "id": "8155d573-7387-4215-ba2a-339966b5f2e4",
   "metadata": {},
   "outputs": [],
   "source": [
    "seed = 42\n",
    "np.random.seed(seed)\n",
    "\n",
    "num_qubits = 6\n",
    "N = 2**num_qubits\n",
    "\n",
    "V = scipy.stats.unitary_group.rvs(N, random_state=seed)\n",
    "D = np.random.uniform(low=0, high=1, size=(N,))\n",
    "\n",
    "H = V*D @ V.conj().T\n",
    "\n",
    "block_encoding = BlockEncoding(H)\n",
    "U = block_encoding.unitary\n",
    "P = block_encoding.projector"
   ]
  },
  {
   "cell_type": "code",
   "execution_count": 152,
   "id": "cc7e5734-0d42-41e3-b200-7c986b8304c7",
   "metadata": {},
   "outputs": [],
   "source": [
    "costx = pyqsp.poly.PolyCosineTX()\n",
    "sintx = pyqsp.poly.PolySineTX()\n",
    "\n",
    "t = np.arange(1, 10)\n",
    "epsilon = 0.01\n",
    "\n",
    "norms = []\n",
    "degrees = []\n",
    "for ti in t:\n",
    "\n",
    "    U_phi = []\n",
    "    degree = 0\n",
    "    \n",
    "    for target_function in [costx, sintx]:\n",
    "        coeffs = quiet(target_function.generate)(tau=ti, epsilon=epsilon)\n",
    "        phis = pyqsp.angle_sequence.QuantumSignalProcessingPhases(coeffs, signal_operator='Wx')\n",
    "        phis = angles_from_Wx_to_R(phis)\n",
    "        degree += len(phis)-1\n",
    "\n",
    "        U_phi.append(apply_QSVT(U, P, P, phis))\n",
    "    \n",
    "    degrees.append(degree)\n",
    "    \n",
    "    U_phi_cos, U_phi_sin = U_phi\n",
    "    H_cos = U_phi_cos[:N, :N]+U_phi_cos[:N, :N].conj().T\n",
    "    H_sin = U_phi_sin[:N, :N]+U_phi_sin[:N, :N].conj().T\n",
    "    H_transformed = H_cos -1j*H_sin\n",
    "    \n",
    "    norm = np.linalg.norm(H_transformed-scipy.linalg.expm(-1j*H*ti))\n",
    "    norms.append(norm)"
   ]
  },
  {
   "cell_type": "code",
   "execution_count": 153,
   "id": "3a2b280b-4617-475d-8f1a-fda6d1e59edd",
   "metadata": {},
   "outputs": [
    {
     "data": {
      "image/png": "[encoded data removed]",
      "text/plain": [
       "<Figure size 432x288 with 1 Axes>"
      ]
     },
     "metadata": {
      "needs_background": "light"
     },
     "output_type": "display_data"
    }
   ],
   "source": [
    "plt.plot(t, norms)\n",
    "plt.axhline(epsilon, color='red', linestyle='--', label='error threshold')\n",
    "plt.plot(t, degrees, '*')\n",
    "plt.yscale('log')"
   ]
  },
  {
   "cell_type": "markdown",
   "id": "d9eaa423-faa5-4f81-81f0-41e129f53207",
   "metadata": {},
   "source": [
    "# Solving linear systems"
   ]
  },
  {
   "cell_type": "markdown",
   "id": "30f250a5-8859-4dc9-84ba-f7c1a775d26c",
   "metadata": {},
   "source": [
    "- Given a linear system $Ax=b$ compute $x=A^+b$.\n",
    "- $A^+$ is pseudo-inverse. If $A=\\sum_{\\sigma_i\\neq 0} \\sigma_i |v_i\\rangle\\langle w_i|$ then $A^+=\\sum_{\\sigma_i\\neq 0} \\sigma_i^{-1} |w_i\\rangle\\langle v_i|$."
   ]
  },
  {
   "cell_type": "markdown",
   "id": "ed67969c-b21f-47e5-a17a-0e50598d2d06",
   "metadata": {},
   "source": [
    "## Implementation"
   ]
  },
  {
   "cell_type": "code",
   "execution_count": 300,
   "id": "e1aff369-a58b-408b-b300-a5e4f99b5d6c",
   "metadata": {},
   "outputs": [],
   "source": [
    "seed = 1\n",
    "np.random.seed(seed)\n",
    "\n",
    "num_qubits = 3\n",
    "N = 2**num_qubits\n",
    "kappa = 3\n",
    "\n",
    "b = np.random.uniform(size=(N,))\n",
    "b = b/(np.sqrt((b**2).sum()))\n",
    "\n",
    "n, m = np.random.randint(N//2, N, size=2)\n",
    "V = scipy.stats.ortho_group.rvs(n, random_state=seed**2)\n",
    "W = scipy.stats.ortho_group.rvs(m, random_state=seed**3)\n",
    "\n",
    "singular_values = np.random.uniform(low=1/kappa, high=1, size=min(n, m))\n",
    "Sigma = np.zeros((n, m))\n",
    "Sigma[:min(n, m), :min(n, m)] = np.diag(singular_values)\n",
    "\n",
    "A = V @ Sigma @ W.conj().T\n",
    "\n",
    "block_encoding = BlockEncoding(A)\n",
    "U = block_encoding.unitary\n",
    "P = block_encoding.projector"
   ]
  },
  {
   "cell_type": "code",
   "execution_count": 301,
   "id": "e6c568b1-df76-4f74-8345-ad4c649f2925",
   "metadata": {
    "tags": []
   },
   "outputs": [
    {
     "name": "stdout",
     "output_type": "stream",
     "text": [
      "b=30, j0=14\n",
      "[PolyOneOverX] minimum [-3.5325637] is at [-0.20530335]: normalizing\n",
      "[PolyOneOverX] bounding to 0.5\n",
      "[pyqsp.PolyOneOverX] pcoefs=[ 0.00000000e+00  4.24568213e+00  0.00000000e+00 -6.14813187e+01\n",
      "  0.00000000e+00  5.70160728e+02  0.00000000e+00 -3.77110116e+03\n",
      "  0.00000000e+00  1.86774294e+04  0.00000000e+00 -7.07245446e+04\n",
      "  0.00000000e+00  2.06037512e+05  0.00000000e+00 -4.61025085e+05\n",
      "  0.00000000e+00  7.86778785e+05  0.00000000e+00 -1.01130011e+06\n",
      "  0.00000000e+00  9.59305607e+05  0.00000000e+00 -6.49556764e+05\n",
      "  0.00000000e+00  2.96436030e+05  0.00000000e+00 -8.15921088e+04\n",
      "  0.00000000e+00  1.02215704e+04]\n"
     ]
    }
   ],
   "source": [
    "epsilon = 0.1\n",
    "\n",
    "target_function = pyqsp.poly.PolyOneOverX()\n",
    "coeffs, scale = target_function.generate(kappa=3, epsilon=epsilon, ensure_bounded=True, return_scale=True)\n",
    "\n",
    "phis = pyqsp.angle_sequence.QuantumSignalProcessingPhases(coeffs, signal_operator='Wx')\n",
    "phis = angles_from_Wx_to_R(phis)\n",
    "\n",
    "U_phi = apply_QSVT(U, P, P, phis)"
   ]
  },
  {
   "cell_type": "code",
   "execution_count": 257,
   "id": "86a8abf0-53e3-4f57-9ab3-e06ecb6117e7",
   "metadata": {
    "collapsed": true,
    "jupyter": {
     "outputs_hidden": true,
     "source_hidden": true
    },
    "tags": []
   },
   "outputs": [
    {
     "data": {
      "text/plain": [
       "array([0.00000000e+00, 0.00000000e+00, 3.84951538e-14, 1.54056732e-01,\n",
       "       1.79116368e-01, 2.04367253e-01, 2.30939100e-01, 3.01179168e-01])"
      ]
     },
     "execution_count": 257,
     "metadata": {},
     "output_type": "execute_result"
    }
   ],
   "source": [
    "Aplus = np.linalg.pinv(A)\n",
    "_, s_, _ = np.linalg.svd(Aplus)\n",
    "np.sort(s)"
   ]
  },
  {
   "cell_type": "code",
   "execution_count": 364,
   "id": "f8ac5369-4204-4038-8fcf-d73496b5fac2",
   "metadata": {
    "tags": []
   },
   "outputs": [],
   "source": [
    "seed = 1\n",
    "np.random.seed(seed)\n",
    "\n",
    "num_qubits = 6\n",
    "N = 2**num_qubits\n",
    "epsilon = 0.2\n",
    "\n",
    "target_function = pyqsp.poly.PolyOneOverX()\n",
    "norms = []\n",
    "kappas = np.linspace(2, 4, 10)\n",
    "alphas = []\n",
    "degrees = []\n",
    "\n",
    "for kappa in kappas:\n",
    "\n",
    "    n, m = np.random.randint(N//2, N, size=2)\n",
    "    V = scipy.stats.ortho_group.rvs(n, random_state=seed**2)\n",
    "    W = scipy.stats.ortho_group.rvs(m, random_state=seed**3)\n",
    "\n",
    "    singular_values = np.random.uniform(low=1/kappa, high=1, size=min(n, m))\n",
    "    Sigma = np.zeros((n, m))\n",
    "    Sigma[:min(n, m), :min(n, m)] = np.diag(singular_values)\n",
    "\n",
    "    A = V @ Sigma @ W.conj().T\n",
    "\n",
    "    block_encoding = BlockEncoding(A)\n",
    "    U = block_encoding.unitary\n",
    "    P = block_encoding.projector\n",
    "    \n",
    "\n",
    "    coeffs, scale = quiet(target_function.generate)(\n",
    "        kappa=kappa, \n",
    "        epsilon=epsilon, \n",
    "        ensure_bounded=True, \n",
    "        return_scale=True)\n",
    "    \n",
    "    phis = pyqsp.angle_sequence.QuantumSignalProcessingPhases(coeffs, signal_operator='Wx')\n",
    "    phis = angles_from_Wx_to_R(phis)\n",
    "    \n",
    "    degrees.append(len(coeffs)-1)\n",
    "    \n",
    "    U_phi = apply_QSVT(U, P, P, phis)\n",
    "    \n",
    "    exact_pseudo_inverse = np.linalg.pinv(A)\n",
    "    our_pseudo_inverse = 2*kappa*np.real(U_phi.conj().T)[:m, :n] \n",
    "    \n",
    "    norm = np.linalg.norm(our_pseudo_inverse-exact_pseudo_inverse, ord=2)\n",
    "    norms.append(norm)"
   ]
  },
  {
   "cell_type": "code",
   "execution_count": 365,
   "id": "763943e9-b5c7-470c-8289-8ca34fe4e14f",
   "metadata": {
    "tags": []
   },
   "outputs": [
    {
     "data": {
      "text/plain": [
       "[<matplotlib.lines.Line2D at 0x7fa917f74850>]"
      ]
     },
     "execution_count": 365,
     "metadata": {},
     "output_type": "execute_result"
    },
    {
     "data": {
      "image/png": "[encoded data removed]",
      "text/plain": [
       "<Figure size 432x288 with 2 Axes>"
      ]
     },
     "metadata": {
      "needs_background": "light"
     },
     "output_type": "display_data"
    }
   ],
   "source": [
    "plt.subplot(1, 2, 1)\n",
    "plt.plot(kappas, norms)\n",
    "plt.axhline(epsilon)\n",
    "plt.subplot(1, 2, 2)\n",
    "plt.plot(kappas, degrees)"
   ]
  }
 ],
 "metadata": {
  "kernelspec": {
   "display_name": "Python 3",
   "language": "python",
   "name": "python3"
  },
  "language_info": {
   "codemirror_mode": {
    "name": "ipython",
    "version": 3
   },
   "file_extension": ".py",
   "mimetype": "text/x-python",
   "name": "python",
   "nbconvert_exporter": "python",
   "pygments_lexer": "ipython3",
   "version": "3.8.10"
  },
  "widgets": {
   "application/vnd.jupyter.widget-state+json": {
    "state": {},
    "version_major": 2,
    "version_minor": 0
   }
  }
 },
 "nbformat": 4,
 "nbformat_minor": 5
}
