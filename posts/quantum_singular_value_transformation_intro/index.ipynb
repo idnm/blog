{
 "cells": [
  {
   "cell_type": "code",
   "execution_count": null,
   "id": "7ce4357b",
   "metadata": {},
   "outputs": [],
   "source": [
    "---\n",
    "title: \"Introduction to Quantum Singular Value Transformation\"\n",
    "description: \"Or grand unification of quantum algorithms, if you feel a bit grandiose.\"\n",
    "aliases:\n",
    "  - quantum_singular_value_transformation_intro.html\n",
    "bibliography: references.bib\n",
    "csl: physical-review-letters.csl\n",
    "toc: true\n",
    "image: what_to_use_qc_for.svg\n",
    "date: '2023-05-15'\n",
    "\n",
    "format:\n",
    "  html:\n",
    "    html-math-method: mathjax\n",
    "    include-in-header:\n",
    "      - text: |\n",
    "          <script>\n",
    "          window.MathJax = {\n",
    "            tex: {\n",
    "              tags: 'ams'\n",
    "            }\n",
    "          };\n",
    "          </script>\n",
    "---"
   ]
  },
  {
   "cell_type": "code",
   "execution_count": 1,
   "id": "71cfa1bf",
   "metadata": {},
   "outputs": [],
   "source": [
    "import numpy as np\n",
    "import matplotlib.pyplot as plt\n",
    "\n",
    "import pyqsp\n",
    "import pyqsp.angle_sequence\n",
    "import pyqsp.response\n",
    "\n",
    "from pyqsp.angle_sequence import QuantumSignalProcessingPhases"
   ]
  },
  {
   "cell_type": "markdown",
   "id": "e194c464",
   "metadata": {},
   "source": [
    "# Quantum signal processing\n",
    "\n",
    "Define the basic setup of quantum signal processing.\n",
    "- Implementing arbitrary polynomials subject to conditions.\n",
    "- Measure in $|\\pm\\rangle$ basis.\n",
    "- Automated way to find phases."
   ]
  },
  {
   "cell_type": "code",
   "execution_count": 41,
   "id": "9ed04d9d",
   "metadata": {},
   "outputs": [],
   "source": [
    "def Wx(a):\n",
    "\n",
    "#     b = 1j*np.sqrt(1-a**2)\n",
    "#     W = np.array([\n",
    "#         [a, b],\n",
    "#         [b, a]])\n",
    "\n",
    "    b = np.sqrt(1-a**2)\n",
    "    W = np.array([\n",
    "        [a, b],\n",
    "        [b, -a]])\n",
    "\n",
    "    return W\n",
    "\n",
    "def Sz(phi):\n",
    "    return np.diag([np.exp(1j*phi), np.exp(-1j*phi)])\n",
    "\n",
    "def apply_QSP(w, phis):\n",
    "    \n",
    "    assert len(phis)>0, 'At least one angle must be provided.'\n",
    "    phis = \\\n",
    "    [phis[0]+(2*len(phis)-3)*np.pi/4] \\\n",
    "    + [phi-np.pi/2 for phi in phis[1:-1]] \\\n",
    "    + [phis[-1]-np.pi/4]\n",
    "    \n",
    "    \n",
    "    # Need to apply S(phi_0) @ w @ s(phi_1) @ w ... @ S(phi_d-1) @ w @ S(phi_d).\n",
    "    \n",
    "    res = Sz(phis[-1])\n",
    "    w_dagger = w.conj().T\n",
    "    dagger = False\n",
    "    for phi in phis[:-1][::-1]:\n",
    "        if dagger:\n",
    "            w0 = w_dagger\n",
    "        else:\n",
    "            w0 = w\n",
    "        dagger = not dagger\n",
    "        \n",
    "        res = Sz(phi) @ w0 @ res\n",
    "    \n",
    "    return res"
   ]
  },
  {
   "cell_type": "markdown",
   "id": "4bb5d8dc",
   "metadata": {},
   "source": [
    "Exercise: implement polynomial by phases."
   ]
  },
  {
   "cell_type": "code",
   "execution_count": 42,
   "id": "c4fd497c",
   "metadata": {},
   "outputs": [
    {
     "data": {
      "image/png": "[encoded data removed]",
      "text/plain": [
       "<Figure size 432x288 with 1 Axes>"
      ]
     },
     "metadata": {
      "needs_background": "light"
     },
     "output_type": "display_data"
    }
   ],
   "source": [
    "# An excersize.\n",
    "\n",
    "def polynomial_value(coeffs, x):\n",
    "    \"\"\" Computes c[0]*x**0 + c[1]*x**1+...+c[n]*x**n. \"\"\"\n",
    "    x = np.array([x])\n",
    "    return (np.array(coeffs) * x**np.arange(len(coeffs))).sum()\n",
    "\n",
    "# Som arbitrary set of polynomial coefficiets.\n",
    "# Must define even or odd polynomial p(x) that satisfies p(x)<1 for -1<x<1. \n",
    "\n",
    "coeffs =  [0., -0.2, 0., 0.5, 0., -0.4]\n",
    "phis = pyqsp.angle_sequence.QuantumSignalProcessingPhases(coeffs, signal_operator='Wx')\n",
    "\n",
    "# Compute polynomial values in the range [-1, 1] directly\n",
    "x = np.linspace(-1, 1, 20)\n",
    "poly_values = [polynomial_value(coeffs, xi) for xi in x]\n",
    "\n",
    "# Compute matrix elements of the QSP sequence\n",
    "unitaries = [apply_QSP(Wx(xi), phis) for xi in x]\n",
    "matrix_elements = [np.real(u[0,0]) for u in unitaries]\n",
    "\n",
    "# Verify they agree.\n",
    "# assert np.allclose(poly_values, matrix_elements, atol=1e-5)\n",
    "plt.plot(x, poly_values);\n",
    "plt.plot(x, matrix_elements, '*');\n",
    "plt.title('Your polynomial implemented by QSP');"
   ]
  },
  {
   "cell_type": "markdown",
   "id": "96bc275c",
   "metadata": {},
   "source": [
    "# QSVT\n",
    "\n",
    "- Block embedding in the computational basis\n",
    "$$U=\\begin{pmatrix}A&\\cdot\\\\\\cdot&\\cdot\\end{pmatrix}$$\n",
    "- For a single-qubit embedding $U=|0\\rangle \\langle0|\\otimes A+\\dots$.\n",
    "- More generally, there is some basis change $B_L, B_R$ that leads to the standard block-encoding\n",
    "$$U=B_L\\begin{pmatrix}A&\\cdot\\\\\\cdot&\\cdot\\end{pmatrix}B_R$$\n",
    "With any such basis we associated projectors $\\Pi_L=B_L\\left(|0\\rangle\\langle0|\\otimes \\mathbb{1} \\right)B_L^\\dagger $ which satisfy\n",
    "$$\\Pi_L U \\Pi_R = B_L\\begin{pmatrix}A&0\\\\0&0\\end{pmatrix}B_R$$\n",
    "- We need access to \n",
    "$$\\Pi_L(\\phi)=e^{(2\\Pi_L-\\mathbb{I})\\phi}=B_L \\begin{pmatrix}e^{i\\phi}&0\\\\ 0&e^{-i\\phi}\\end{pmatrix}B_L^\\dagger$$\n",
    "\n",
    "Then, the main statement of QSVT is the following. A bit awkwardly, it needs to be split in two cases. First consider when the polynomial is even (the number of phases is odd)\n",
    "\n",
    "$$U_{\\phi}=\\prod_{i=0}^{d/2-1}\\Pi_R(\\phi_{2i})U^\\dagger\\Pi_L(\\phi_{2i+1})U$$\n",
    "When the polynomial is odd (the number of phases even)\n",
    "\n",
    "$$U_{\\phi}=\\Pi_L(\\phi_{0})U\\prod_{i=1}^{(d-1)/2}\\Pi_R(\\phi_{2i-1})U^\\dagger\\Pi_L(\\phi_{2i})U$$"
   ]
  },
  {
   "cell_type": "markdown",
   "id": "a52cb2d2",
   "metadata": {},
   "source": [
    "# Amplitude amplification\n",
    "\n",
    "Encompasses\n",
    "1. Grover's search.\n",
    "1. Oblivious amplitude amplification.\n",
    "1. Used in other quantum algorithms."
   ]
  },
  {
   "cell_type": "markdown",
   "id": "ccd51ea4",
   "metadata": {},
   "source": [
    "# Hamiltonian simulation\n",
    "\n",
    "We are given three things\n",
    "\n",
    "1. Block embedding of a Hamiltonian $H$, i.e. $U$ s.t. $H=\\left(\\langle 0|\\otimes I \\right)U\\left(|0\\rangle\\otimes I\\right)$.\n",
    "2. Projectors $\\Pi(\\phi)$.\n",
    "3. ??\n",
    "\n",
    "\n",
    "## Block encodings\n",
    "\n",
    "Singular value $\\sigma$ are positive square roots of eigenvalues $M^\\dagger M\\ge0$.\n",
    "\n",
    "To block encode some matrix $M$ we need $||M||\\le1$ where $||\\cdot||$ is the operator norm or, equivalently, the largest singular value."
   ]
  },
  {
   "cell_type": "code",
   "execution_count": 1,
   "id": "20ee1516",
   "metadata": {
    "scrolled": true
   },
   "outputs": [],
   "source": [
    "import numpy as np\n",
    "\n",
    "import pyqsp\n",
    "import pyqsp.angle_sequence\n",
    "import pyqsp.response"
   ]
  },
  {
   "cell_type": "code",
   "execution_count": 2,
   "id": "7bac2757",
   "metadata": {},
   "outputs": [],
   "source": [
    "class BlockEncoding:\n",
    "    \n",
    "    def __init__(self, M):\n",
    "        \n",
    "        self.num_rows = M.shape[0]\n",
    "        self.num_cols = M.shape[1]\n",
    "        self.dim = 2*max(self.num_rows, self.num_cols)\n",
    "        \n",
    "        self.diagonal_block = self.pad_matrix_to_square(M)\n",
    "        \n",
    "        U, S, WH = np.linalg.svd(self.diagonal_block)\n",
    "        \n",
    "        self.U = U\n",
    "        self.S = S\n",
    "        self.WH = WH\n",
    "        \n",
    "        self.off_diagonal_block = self.make_off_diagonal_block(self.U, self.S, self.WH)\n",
    "        \n",
    "        self.unitary = self.unitary_from_blocks(\n",
    "            self.diagonal_block, \n",
    "            self.off_diagonal_block)\n",
    "                    \n",
    "    @staticmethod\n",
    "    def pad_matrix_to_square(M):\n",
    "        \"\"\"Pads a matrix with zeros to make it square.\"\"\"\n",
    "\n",
    "        n_rows, n_cols = M.shape\n",
    "        n_max = max(n_rows, n_cols)\n",
    "        S = np.zeros((n_max, n_max))\n",
    "        S[:n_rows,:n_cols] = M\n",
    "        return S\n",
    "    \n",
    "    @staticmethod\n",
    "    def make_off_diagonal_block(u, s, wh):\n",
    "        assert np.all(s<=1), f'All singular values {s} must be less than 1.'\n",
    "        return u @ np.diag(np.sqrt(1-s**2)) @ wh\n",
    "    \n",
    "    @staticmethod\n",
    "    def unitary_from_blocks(A, B):\n",
    "        n = A.shape[0]\n",
    "        U = np.zeros((2*n, 2*n))\n",
    "        U[:n, :n] = A\n",
    "        U[:n,n:2*n] = B\n",
    "        U[n:2*n, :n] = B\n",
    "        U[n:2*n, n:2*n] = -A\n",
    "        \n",
    "        assert np.allclose(U @ U.conj().T, np.eye(2*n)), 'Ops, block encoding is not unitary.'\n",
    "        return U"
   ]
  },
  {
   "cell_type": "code",
   "execution_count": null,
   "id": "b3e4a6a5",
   "metadata": {},
   "outputs": [],
   "source": [
    "def apply_QSVT(U, Phi, P_left, P_right):\n",
    "    "
   ]
  },
  {
   "cell_type": "code",
   "execution_count": 14,
   "id": "b70d1385",
   "metadata": {},
   "outputs": [
    {
     "ename": "ValueError",
     "evalue": "Invalid model: ('R', None)",
     "output_type": "error",
     "traceback": [
      "\u001b[0;31m---------------------------------------------------------------------------\u001b[0m",
      "\u001b[0;31mValueError\u001b[0m                                Traceback (most recent call last)",
      "Input \u001b[0;32mIn [14]\u001b[0m, in \u001b[0;36m<cell line: 2>\u001b[0;34m()\u001b[0m\n\u001b[1;32m      1\u001b[0m \u001b[38;5;28;01mfrom\u001b[39;00m \u001b[38;5;21;01mpyqsp\u001b[39;00m\u001b[38;5;21;01m.\u001b[39;00m\u001b[38;5;21;01mangle_sequence\u001b[39;00m \u001b[38;5;28;01mimport\u001b[39;00m QuantumSignalProcessingPhases\n\u001b[0;32m----> 2\u001b[0m ang_seq \u001b[38;5;241m=\u001b[39m \u001b[43mQuantumSignalProcessingPhases\u001b[49m\u001b[43m(\u001b[49m\u001b[43m[\u001b[49m\u001b[38;5;241;43m0.2\u001b[39;49m\u001b[43m,\u001b[49m\u001b[43m \u001b[49m\u001b[38;5;241;43m0.\u001b[39;49m\u001b[43m,\u001b[49m\u001b[43m \u001b[49m\u001b[38;5;241;43m0.3\u001b[39;49m\u001b[43m]\u001b[49m\u001b[43m,\u001b[49m\u001b[43m \u001b[49m\u001b[43msignal_operator\u001b[49m\u001b[38;5;241;43m=\u001b[39;49m\u001b[38;5;124;43m\"\u001b[39;49m\u001b[38;5;124;43mR\u001b[39;49m\u001b[38;5;124;43m\"\u001b[39;49m\u001b[43m)\u001b[49m\n\u001b[1;32m      3\u001b[0m \u001b[38;5;28mprint\u001b[39m(ang_seq)\n",
      "File \u001b[0;32m~/.local/lib/python3.8/site-packages/pyqsp/angle_sequence.py:159\u001b[0m, in \u001b[0;36mQuantumSignalProcessingPhases\u001b[0;34m(poly, eps, suc, signal_operator, measurement, tolerance, method, **kwargs)\u001b[0m\n\u001b[1;32m    157\u001b[0m     lalg \u001b[38;5;241m=\u001b[39m completion_from_root_finding(poly\u001b[38;5;241m.\u001b[39mcoef, coef_type\u001b[38;5;241m=\u001b[39m\u001b[38;5;124m\"\u001b[39m\u001b[38;5;124mP\u001b[39m\u001b[38;5;124m\"\u001b[39m)\n\u001b[1;32m    158\u001b[0m \u001b[38;5;28;01melse\u001b[39;00m:\n\u001b[0;32m--> 159\u001b[0m     \u001b[38;5;28;01mraise\u001b[39;00m \u001b[38;5;167;01mValueError\u001b[39;00m(\n\u001b[1;32m    160\u001b[0m         \u001b[38;5;124m\"\u001b[39m\u001b[38;5;124mInvalid model: \u001b[39m\u001b[38;5;132;01m{}\u001b[39;00m\u001b[38;5;124m\"\u001b[39m\u001b[38;5;241m.\u001b[39mformat(\u001b[38;5;28mstr\u001b[39m(model))\n\u001b[1;32m    161\u001b[0m     )\n\u001b[1;32m    163\u001b[0m \u001b[38;5;66;03m# Decomposition phase\u001b[39;00m\n\u001b[1;32m    164\u001b[0m phiset \u001b[38;5;241m=\u001b[39m angseq(lalg)\n",
      "\u001b[0;31mValueError\u001b[0m: Invalid model: ('R', None)"
     ]
    }
   ],
   "source": [
    "from pyqsp.angle_sequence import QuantumSignalProcessingPhases\n",
    "ang_seq = QuantumSignalProcessingPhases([0.2, 0., 0.3], signal_operator=\"R\")\n",
    "print(ang_seq)"
   ]
  },
  {
   "cell_type": "code",
   "execution_count": 3,
   "id": "5206811e",
   "metadata": {},
   "outputs": [
    {
     "ename": "NameError",
     "evalue": "name 'get_amplitude_amplification_angles' is not defined",
     "output_type": "error",
     "traceback": [
      "\u001b[0;31m---------------------------------------------------------------------------\u001b[0m",
      "\u001b[0;31mNameError\u001b[0m                                 Traceback (most recent call last)",
      "Input \u001b[0;32mIn [3]\u001b[0m, in \u001b[0;36m<cell line: 2>\u001b[0;34m()\u001b[0m\n\u001b[1;32m      1\u001b[0m degree \u001b[38;5;241m=\u001b[39m \u001b[38;5;241m15\u001b[39m\n\u001b[1;32m      2\u001b[0m pyqsp\u001b[38;5;241m.\u001b[39mresponse\u001b[38;5;241m.\u001b[39mPlotQSPResponse(\n\u001b[0;32m----> 3\u001b[0m     \u001b[43mget_amplitude_amplification_angles\u001b[49m(degree),\n\u001b[1;32m      4\u001b[0m     target\u001b[38;5;241m=\u001b[39m\u001b[38;5;28;01mlambda\u001b[39;00m x: np\u001b[38;5;241m.\u001b[39msign(x),\n\u001b[1;32m      5\u001b[0m     signal_operator\u001b[38;5;241m=\u001b[39m\u001b[38;5;124m'\u001b[39m\u001b[38;5;124mWx\u001b[39m\u001b[38;5;124m'\u001b[39m,\n\u001b[1;32m      6\u001b[0m     title\u001b[38;5;241m=\u001b[39m\u001b[38;5;124m\"\u001b[39m\u001b[38;5;124mSign Function\u001b[39m\u001b[38;5;124m\"\u001b[39m)\n",
      "\u001b[0;31mNameError\u001b[0m: name 'get_amplitude_amplification_angles' is not defined"
     ]
    }
   ],
   "source": [
    "degree = 15\n",
    "pyqsp.response.PlotQSPResponse(\n",
    "    get_amplitude_amplification_angles(degree),\n",
    "    target=lambda x: np.sign(x),\n",
    "    signal_operator='Wx',\n",
    "    title=\"Sign Function\")"
   ]
  },
  {
   "cell_type": "code",
   "execution_count": null,
   "id": "3a91a788",
   "metadata": {},
   "outputs": [],
   "source": []
  }
 ],
 "metadata": {
  "kernelspec": {
   "display_name": "Python 3",
   "language": "python",
   "name": "python3"
  },
  "language_info": {
   "codemirror_mode": {
    "name": "ipython",
    "version": 3
   },
   "file_extension": ".py",
   "mimetype": "text/x-python",
   "name": "python",
   "nbconvert_exporter": "python",
   "pygments_lexer": "ipython3",
   "version": "3.8.10"
  }
 },
 "nbformat": 4,
 "nbformat_minor": 5
}
