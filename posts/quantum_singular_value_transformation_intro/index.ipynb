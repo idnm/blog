{
 "cells": [
  {
   "cell_type": "raw",
   "id": "63f4bf99",
   "metadata": {
    "collapsed": true,
    "jupyter": {
     "outputs_hidden": true
    },
    "tags": []
   },
   "source": [
    "---\n",
    "title: \"Introduction to Quantum Singular Value Transformation\"\n",
    "description: \"Or grand unification of quantum algorithms, if you feel a bit grandiose.\"\n",
    "aliases:\n",
    "  - quantum_singular_value_transformation_intro.html\n",
    "bibliography: references.bib\n",
    "csl: physical-review-letters.csl\n",
    "toc: true\n",
    "image: what_to_use_qc_for.svg\n",
    "date: '2023-05-15'\n",
    "\n",
    "format:\n",
    "  html:\n",
    "    html-math-method: mathjax\n",
    "    include-in-header:\n",
    "      - text: |\n",
    "          <script>\n",
    "          window.MathJax = {\n",
    "            tex: {\n",
    "              tags: 'ams'\n",
    "            }\n",
    "          };\n",
    "          </script>\n",
    "---"
   ]
  },
  {
   "cell_type": "code",
   "execution_count": 5,
   "id": "71cfa1bf",
   "metadata": {
    "tags": []
   },
   "outputs": [],
   "source": [
    "#| code-fold: true\n",
    "\n",
    "import numpy as np\n",
    "import scipy.stats\n",
    "import scipy.linalg\n",
    "\n",
    "import matplotlib.pyplot as plt\n",
    "\n",
    "from functools import reduce\n",
    "\n",
    "import pyqsp\n",
    "import pyqsp.angle_sequence\n",
    "import pyqsp.response\n",
    "\n",
    "from pyqsp.angle_sequence import QuantumSignalProcessingPhases\n",
    "\n",
    "import contextlib\n",
    "import io\n",
    "\n",
    "def quiet(func):\n",
    "    def quiet_func(*args, **kwargs):    \n",
    "        f = io.StringIO()\n",
    "        with contextlib.redirect_stdout(f):\n",
    "            res = func(*args, **kwargs)\n",
    "        return res\n",
    "    return quiet_func"
   ]
  },
  {
   "cell_type": "markdown",
   "id": "dbf6f370",
   "metadata": {},
   "source": [
    "# Introduction\n",
    "\n",
    "Quantum singular value transformation (QSVT) is a new framework developed in recent years that is now extensively used to understand and improve existing as well as construct new quantum algorithms. If you are willing to be bit dramatic, QSVT has been claimed to provide a grand unification of many different quantum algorithms. So, how does this work?\n",
    "\n",
    "## A high-level overview\n",
    "Constructing a quantum algorithm using QSVT consists the following main steps. Don't worry if this does not make sense at the moment, the goal of this post is to fill in the details and give examples.\n",
    "\n",
    "1. Reduce your problem of interest to transforming singular values of some matrix $A$.\n",
    "2. Find a unitary circuit $U$ that is a block-encoding of your matrix, i.e. in a suitable basis $$U=\\begin{pmatrix}A&*\\\\ *&*\\end{pmatrix} \\ .$$\n",
    "3. If the goal is to transform singular values $\\sigma_i$ of $A$ by some function $f(\\sigma_i)$, find an appropriate polynomial approximation $p(x)\\approx f(x)$.\n",
    "4. Using quantum signal processing construct a circuit $U_\\phi$ that involves as much applications of $U$ as the degree of $p(x)$ and block-encodes approximation the answer, i.e.\n",
    "$$U_\\phi=\\begin{pmatrix}p(A)&*\\\\*&*\\end{pmatrix}$$\n",
    "Here $p(A)$ has singular values $p(\\sigma_i)$ but we don't yet give its precise definition.\n",
    "\n",
    "Let's start with clarifying the first step, i.e. how to frame your quantum problem as a singular value transformation, by giving three examples.\n",
    "\n",
    "1. **Grover's search.** There is some marked state $|m\\rangle$ of $n$ qubits that wee need to find. In this case we can take $A$ to be $1\\times 1$ matrix containing a single matrix element $a=\\langle m|H^{\\otimes n}|0\\rangle$. If we can apply the step-function to it $x\\to \\theta(x-b)$, we will map an arbitrary amplitude $a>b$ to 1, and hence build the circuit that is guaranteed to take the initial state $|0\\rangle$ to the marked state $|m\\rangle$.\n",
    "1. **Quantum simulation.** Here given a Hamiltonian $H$ we seek to construct a unitary $e^{-iHt}$. This is literally the problem of the eigenvalue transformation, because $e^{-iHt}$ is by definition the matrix $H$ with eigenvalues $\\lambda_i$ mapped to $e^{-i\\lambda_i t}$. Up to technicalities, eigenvalues can be transformed in the same way as singular values.\n",
    "1. **Solving linear equations.** Given a matrix $A$ and a vector $b$ solve $Ax=b$ for $x$, i.e. compute $A^+b$ where $A^+$ is Moore-Penrose pseudo-inverse of $A$. But pseudo-inverse $A^+$ is just equal to the usual hermitian conjugate $A^\\dagger$ with reciprocal singular values $\\sigma_i\\to \\sigma_i^{-1}$.\n",
    "\n",
    "Many other applications of QSVT exist, but in this blog post I will focus on these ones. So hopefully step (1) is starting to make sense now. How do we perform step (2) then, how to find the block-encoding? To my understanding, this may be the most challenging step that has to be addressed case-by-case. I will give some intuition and examples of block-encodings below. Next, QSVT allows to directly perform only polynomial transformations, but most problems of practical interest require applying non-polynomial functions to singular values. This is why we need step (3), which is finding the right polynomial approximation. Interestingly, the degree of the approximating polynomial determines the complexity of the final quantum circuit, so this is an important step. Finally, after you found the polynomial transformation approximating your target function you use techniques of the quantum signal processing to prepare the corresponding quantum circuit. Generally, constructing the circuit for a given polynomial is quite under control, although there still may be issues with speed and numerical stability for large instances.\n",
    "\n",
    "## What I will and will not discuss\n",
    "\n",
    "..."
   ]
  },
  {
   "cell_type": "markdown",
   "id": "d9d969ce",
   "metadata": {},
   "source": [
    "# Quantum signal processing\n",
    "\n",
    "The origin and application of the quantum signal processing (QSP) are very interesting in their own right, but I won't review them here. Instead, I will view QSP as a rudimentary version of QSVT applied to two-level systems, and hence it is a great starting point.\n",
    "\n",
    "So, suppose you have a two-level system and can perform a simple diagonal transformation on it\n",
    "$$S(\\phi)=\\begin{pmatrix}e^{i\\phi}&0 \\\\ 0& e^{-i\\phi}\\end{pmatrix} \\ . \\label{S}$$\n",
    "Here $\\phi$ is an angle you can vary. You can also perform a fixed non-diagonal operation\n",
    "$$R(a)=\\begin{pmatrix}a&\\sqrt{1-a^2}\\\\\\sqrt{1-a^2} & -a\\end{pmatrix} \\ . \\label{R}$$\n",
    "Here $a\\in \\mathbb{R}$ is fixed.\n",
    "\n",
    "The most general quantum circuit you can build is by interleaving these two as follows\n",
    "\n",
    "$$U_\\phi =S(\\phi_0)\\prod_{i=1}^d R(a) S(\\phi_i) = S(\\phi_0)R(a) S(\\phi_1) R(a)\\dots S(\\phi_{d-1}) R(a) S(\\phi_d) \\label{QSP} \\ .$$\n",
    "\n",
    "The explicit form of $U_\\phi$ will be as follows\n",
    "$$U_\\phi=i^d\\begin{pmatrix} p(a) & i q(a)\\sqrt{1-a^2} \\\\ i q(a)^*\\sqrt{1-a^2} & -p(a)^*\\end{pmatrix} \\ . $$\n",
    "Importantly, here $p(a)$ and $q(a)$ are *polynomials*."
   ]
  },
  {
   "cell_type": "markdown",
   "id": "38419d68-951f-409d-a5ba-56cc519f62d2",
   "metadata": {},
   "source": [
    "# Various stuff"
   ]
  },
  {
   "cell_type": "markdown",
   "id": "0558e15e-2638-49c7-8786-e9eeab6bd0c7",
   "metadata": {},
   "source": [
    "- A word about svd -- completely general, nice applications to many thigs, e.g. pseudo-inverse"
   ]
  },
  {
   "cell_type": "markdown",
   "id": "e194c464",
   "metadata": {},
   "source": [
    "# Quantum signal processing\n",
    "\n",
    "Define the basic setup of quantum signal processing.\n",
    "- Implementing arbitrary polynomials subject to conditions.\n",
    "- Measure in $|\\pm\\rangle$ basis.\n",
    "- Automated way to find phases."
   ]
  },
  {
   "cell_type": "code",
   "execution_count": 4,
   "id": "9ed04d9d",
   "metadata": {},
   "outputs": [],
   "source": [
    "def R(a):\n",
    "    \"\"\"Singla operator in R-convention\"\"\"\n",
    "    \n",
    "    b = np.sqrt(1-a**2)\n",
    "    W = np.array([\n",
    "        [a, b],\n",
    "        [b, -a]])\n",
    "\n",
    "    return W\n",
    "\n",
    "def Sz(phi):\n",
    "    return np.diag([np.exp(1j*phi), np.exp(-1j*phi)])\n",
    "\n",
    "def angles_from_Wx_to_R(phis):\n",
    "    assert len(phis)>0, 'At least one angle must be provided.'\n",
    "    phis = \\\n",
    "    [phis[0]+(2*len(phis)-3)*np.pi/4] \\\n",
    "    + [phi-np.pi/2 for phi in phis[1:-1]] \\\n",
    "    + [phis[-1]-np.pi/4]\n",
    "    \n",
    "    return phis \n",
    "\n",
    "def apply_QSP(w, phis):\n",
    "    \"\"\"Computes S(phi_0) @ w @ s(phi_1) @ w ... @ S(phi_d-1) @ w @ S(phi_d).\"\"\"\n",
    "    \n",
    "    phis = angles_from_Wx_to_R(phis)\n",
    "    \n",
    "    res = Sz(phis[-1])\n",
    "    for phi in phis[:-1][::-1]:        \n",
    "        res = Sz(phi) @ w @ res\n",
    "    \n",
    "    return res"
   ]
  },
  {
   "cell_type": "markdown",
   "id": "4bb5d8dc",
   "metadata": {},
   "source": [
    "Exercise: implement polynomial by phases."
   ]
  },
  {
   "cell_type": "code",
   "execution_count": 5,
   "id": "c4fd497c",
   "metadata": {},
   "outputs": [
    {
     "data": {
      "image/png": "[encoded data removed]",
      "text/plain": [
       "<Figure size 432x288 with 1 Axes>"
      ]
     },
     "metadata": {
      "needs_background": "light"
     },
     "output_type": "display_data"
    }
   ],
   "source": [
    "# An excersize.\n",
    "\n",
    "def polynomial_value(coeffs, x):\n",
    "    \"\"\" Computes c[0]*x**0 + c[1]*x**1+...+c[n]*x**n. \"\"\"\n",
    "    x = np.array([x])\n",
    "    return (np.array(coeffs) * x**np.arange(len(coeffs))).sum()\n",
    "\n",
    "# Som arbitrary set of polynomial coefficiets.\n",
    "# Must define even or odd polynomial p(x) that satisfies p(x)<1 for -1<x<1. \n",
    "\n",
    "coeffs =  [0., -0.2, 0., 0.5, 0., -0.4]\n",
    "phis = pyqsp.angle_sequence.QuantumSignalProcessingPhases(coeffs, signal_operator='Wx')\n",
    "\n",
    "# Compute polynomial values in the range [-1, 1] directly\n",
    "x = np.linspace(-1, 1, 20)\n",
    "poly_values = [polynomial_value(coeffs, xi) for xi in x]\n",
    "\n",
    "# Compute matrix elements of the QSP sequence\n",
    "unitaries = [apply_QSP(R(xi), phis) for xi in x]\n",
    "matrix_elements = [np.real(u[0,0]) for u in unitaries]\n",
    "\n",
    "# Verify they agree.\n",
    "# assert np.allclose(poly_values, matrix_elements, atol=1e-5)\n",
    "plt.plot(x, poly_values);\n",
    "plt.plot(x, matrix_elements, '*');\n",
    "plt.title('Your polynomial implemented by QSP');"
   ]
  },
  {
   "cell_type": "markdown",
   "id": "96bc275c",
   "metadata": {},
   "source": [
    "# QSVT\n",
    "\n",
    "- Block embedding in the computational basis\n",
    "$$U=\\begin{pmatrix}A&\\cdot\\\\\\cdot&\\cdot\\end{pmatrix}$$\n",
    "- For a single-qubit embedding $U=|0\\rangle \\langle0|\\otimes A+\\dots$.\n",
    "- More generally, there is some basis change $B_L, B_R$ that leads to the standard block-encoding\n",
    "$$U=B_L\\begin{pmatrix}A&\\cdot\\\\\\cdot&\\cdot\\end{pmatrix}B_R$$\n",
    "With any such basis we associated projectors $\\Pi_L=B_L\\left(|0\\rangle\\langle0|\\otimes \\mathbb{1} \\right)B_L^\\dagger $ which satisfy\n",
    "$$\\Pi_L U \\Pi_R = B_L\\begin{pmatrix}A&0\\\\0&0\\end{pmatrix}B_R$$\n",
    "- We need access to \n",
    "$$\\Pi_L(\\phi)=e^{(2\\Pi_L-\\mathbb{I})\\phi}=B_L \\begin{pmatrix}e^{i\\phi}&0\\\\ 0&e^{-i\\phi}\\end{pmatrix}B_L^\\dagger$$\n",
    "\n",
    "Then, the main statement of QSVT is the following. A bit awkwardly, it needs to be split in two cases. First consider when the polynomial is even (the number of phases is odd)\n",
    "\n",
    "$$U_{\\phi}=\\prod_{i=0}^{d/2-1}\\Pi_R(\\phi_{2i})U^\\dagger\\Pi_L(\\phi_{2i+1})U$$\n",
    "When the polynomial is odd (the number of phases even)\n",
    "\n",
    "$$U_{\\phi}=\\Pi_L(\\phi_{0})U\\prod_{i=1}^{(d-1)/2}\\Pi_R(\\phi_{2i-1})U^\\dagger\\Pi_L(\\phi_{2i})U$$"
   ]
  },
  {
   "cell_type": "code",
   "execution_count": 6,
   "id": "89e6b43f-4c95-479b-82ae-5bb00516f1d9",
   "metadata": {},
   "outputs": [],
   "source": [
    "def projector_rotation(P, phi):\n",
    "    n = len(P)\n",
    "    return np.eye(n)*np.cos(phi)-1j*(2*P-np.eye(n))*np.sin(phi)\n",
    "\n",
    "\n",
    "def apply_QSVT(U, PL, PR, phis):\n",
    "    \n",
    "    phi_last = phis[-1]\n",
    "    \n",
    "    if len(phis) % 2 == 1: # Even polynomial\n",
    "        phis_paired = phis[:-1]\n",
    "        phi_0 = None\n",
    "    else: # Odd polynomial\n",
    "        phis_paired = phis[1:-1]\n",
    "        phi_0 = phis[0]\n",
    "    \n",
    "    res = projector_rotation(PR, phi_last)\n",
    "    \n",
    "    for phi_R, phi_L in np.array(phis_paired).reshape(-1, 2)[::-1]:\n",
    "        res =  projector_rotation(PR, phi_R) @ U.conj().T @  projector_rotation(PL, phi_L) @ U @ res\n",
    "    \n",
    "    if phi_0 is not None:\n",
    "        res = projector_rotation(PL, phi_0) @ U @ res\n",
    "        \n",
    "    return res"
   ]
  },
  {
   "cell_type": "markdown",
   "id": "a52cb2d2",
   "metadata": {},
   "source": [
    "# Amplitude amplification\n",
    "\n",
    "Encompasses\n",
    "1. Grover's search.\n",
    "1. Oblivious amplitude amplification.\n",
    "1. Used in other quantum algorithms."
   ]
  },
  {
   "cell_type": "markdown",
   "id": "022f45e6-eaa4-4507-aaa3-04c6b86d7268",
   "metadata": {
    "tags": []
   },
   "source": [
    "## Test"
   ]
  },
  {
   "cell_type": "code",
   "execution_count": 7,
   "id": "4afb2d49-7030-4c00-8abf-f3796e8689a7",
   "metadata": {},
   "outputs": [
    {
     "data": {
      "image/png": "[encoded data removed]",
      "text/plain": [
       "<Figure size 432x288 with 1 Axes>"
      ]
     },
     "metadata": {
      "needs_background": "light"
     },
     "output_type": "display_data"
    }
   ],
   "source": [
    "P = np.diag([1, 0])\n",
    "\n",
    "\n",
    "coeffs =  [0, -0.2, 0., 0.5, 0., -0.4]\n",
    "phis = pyqsp.angle_sequence.QuantumSignalProcessingPhases(coeffs, signal_operator='Wx')\n",
    "phis = angles_from_Wx_to_R(phis)\n",
    "\n",
    "# Compute polynomial values in the range [-1, 1] directly\n",
    "x = np.linspace(-1, 1, 25)\n",
    "poly_values = [polynomial_value(coeffs, xi) for xi in x]\n",
    "\n",
    "unitaries =[apply_QSVT(R(xi), P, P, phis) for xi in x]\n",
    "matrix_elements = [np.real(u[0,0]) for u in unitaries]\n",
    "\n",
    "# Verify they agree.\n",
    "# assert np.allclose(poly_values, matrix_elements, atol=1e-5)\n",
    "plt.plot(x, poly_values);\n",
    "plt.plot(x, matrix_elements, '*');\n",
    "plt.title('Your polynomial implemented by QSP');"
   ]
  },
  {
   "cell_type": "markdown",
   "id": "95e0b18d-b86b-45f4-af2e-3728258f9837",
   "metadata": {},
   "source": [
    "## Poly test"
   ]
  },
  {
   "cell_type": "code",
   "execution_count": 8,
   "id": "40335bf2-ce92-452c-8773-d469febfbce7",
   "metadata": {},
   "outputs": [],
   "source": [
    "target_function = pyqsp.poly.PolySign()\n",
    "\n",
    "coeffs_list = []\n",
    "vals = []\n",
    "for N in range(1, 100)[::1]:\n",
    "    degree = np.ceil(np.sqrt(N))\n",
    "    if degree % 2 == 0:\n",
    "        degree += 1\n",
    "        \n",
    "    coeffs, scale = quiet(target_function.generate)(\n",
    "        degree, \n",
    "        delta=2*np.sqrt(N), \n",
    "        ensure_bounded=True, \n",
    "        return_scale=True);\n",
    "    \n",
    "    coeffs_list.append(coeffs)\n",
    "    vals.append(polynomial_value(coeffs, 1/np.sqrt(N)))"
   ]
  },
  {
   "cell_type": "markdown",
   "id": "e983c8e6-7119-4236-93ad-f419355f18b3",
   "metadata": {},
   "source": [
    "## Implementation"
   ]
  },
  {
   "cell_type": "code",
   "execution_count": 9,
   "id": "b9e2ca68",
   "metadata": {},
   "outputs": [],
   "source": [
    "np.random.seed(42)\n",
    "\n",
    "\n",
    "def projector_from_state(state):\n",
    "    return np.outer(state, state.conj())\n",
    "\n",
    "\n",
    "amplitudes = []\n",
    "for num_qubits in range(1, 11):\n",
    "    \n",
    "    N = 2**num_qubits\n",
    "    \n",
    "    # Define initial state |0> and the associated projector.\n",
    "    all_zero_state = np.zeros(N)\n",
    "    all_zero_state[0] = 1\n",
    "    PR = projector_from_state(all_zero_state)\n",
    "\n",
    "    # Define a random marked state. It will only be accessed via the corresponding projector.\n",
    "    marked_state = np.zeros(N)\n",
    "    marked_state[np.random.randint(0, N)] = 1\n",
    "    PL = projector_from_state(marked_state)\n",
    "\n",
    "    # Signal operator is the n-th tensor power of the Hadamard gate.\n",
    "    H = np.array([[1, 1], [1, -1]])/np.sqrt(2)\n",
    "    U = reduce(np.kron, [H]*num_qubits)\n",
    "\n",
    "    \n",
    "    target_function = pyqsp.poly.PolySign()\n",
    "    \n",
    "    degree = np.ceil(N**0.5)\n",
    "    if degree % 2 == 0:\n",
    "        degree += 1\n",
    "    \n",
    "    delta = N**0.5\n",
    "    coeffs, scale =  quiet(target_function.generate)(degree, delta=delta, return_scale=True)\n",
    "\n",
    "    phis = pyqsp.angle_sequence.QuantumSignalProcessingPhases(coeffs, signal_operator='Wx')\n",
    "    phis = angles_from_Wx_to_R(phis)\n",
    "\n",
    "    U_phi = apply_QSVT(U, PL, PR, phis)\n",
    "    amplitude = np.max(np.abs(np.real(PL @ U_phi @ PR)))\n",
    "    \n",
    "    amplitudes.append(amplitude)"
   ]
  },
  {
   "cell_type": "code",
   "execution_count": 10,
   "id": "4a48f2ec-851d-4f48-89a2-6c6ff3f00352",
   "metadata": {
    "collapsed": true,
    "jupyter": {
     "outputs_hidden": true
    },
    "tags": []
   },
   "outputs": [
    {
     "data": {
      "text/plain": [
       "[<matplotlib.lines.Line2D at 0x7fa9230de400>]"
      ]
     },
     "execution_count": 10,
     "metadata": {},
     "output_type": "execute_result"
    },
    {
     "data": {
      "image/png": "[encoded data removed]",
      "text/plain": [
       "<Figure size 432x288 with 1 Axes>"
      ]
     },
     "metadata": {
      "needs_background": "light"
     },
     "output_type": "display_data"
    }
   ],
   "source": [
    "plt.plot(amplitudes, '*')"
   ]
  },
  {
   "cell_type": "markdown",
   "id": "ccd51ea4",
   "metadata": {},
   "source": [
    "# Hamiltonian simulation\n",
    "\n",
    "We are given three things\n",
    "\n",
    "1. Block embedding of a Hamiltonian $H$, i.e. $U$ s.t. $H=\\left(\\langle 0|\\otimes I \\right)U\\left(|0\\rangle\\otimes I\\right)$.\n",
    "2. Projectors $\\Pi(\\phi)$.\n",
    "3. ??\n",
    "\n",
    "\n",
    "## Block encodings\n",
    "\n",
    "Singular value $\\sigma$ are positive square roots of eigenvalues $M^\\dagger M\\ge0$.\n",
    "\n",
    "To block encode some matrix $M$ we need $||M||\\le1$ where $||\\cdot||$ is the operator norm or, equivalently, the largest singular value."
   ]
  },
  {
   "cell_type": "code",
   "execution_count": 146,
   "id": "7bac2757",
   "metadata": {
    "tags": []
   },
   "outputs": [],
   "source": [
    "class BlockEncoding:\n",
    "    \n",
    "    def __init__(self, M):\n",
    "        \n",
    "        self.num_rows = M.shape[0]\n",
    "        self.num_cols = M.shape[1]\n",
    "        self.dim = 2*self.block_dimension(max(self.num_cols, self.num_rows))\n",
    "        \n",
    "        self.diagonal_block = self.pad_matrix(M, self.dim//2)\n",
    "        \n",
    "        U, S, WH = np.linalg.svd(self.diagonal_block)\n",
    "        \n",
    "        self.U = U\n",
    "        self.S = S\n",
    "        self.WH = WH\n",
    "        \n",
    "        self.off_diagonal_block = self.make_off_diagonal_block(self.U, self.S, self.WH)\n",
    "        \n",
    "        self.unitary = self.unitary_from_blocks(\n",
    "            self.diagonal_block, \n",
    "            self.off_diagonal_block)\n",
    "        \n",
    "        self.projector = np.kron(np.diag([1, 0]), np.eye(self.dim//2))\n",
    " \n",
    "    @staticmethod\n",
    "    def block_dimension(n):\n",
    "        \"\"\"Finds the minimum number of qubits to block encode a square matrix of dimension n\"\"\"\n",
    "        return int(2**np.ceil(np.log2(n)))\n",
    "        \n",
    "    @staticmethod\n",
    "    def pad_matrix(M, dim):\n",
    "        \"\"\"Pads a matrix with zeros make to make it into a d x d matrix..\"\"\"\n",
    "        \n",
    "        S = np.zeros((dim, dim), dtype=np.complex64)\n",
    "        n_rows, n_cols = M.shape\n",
    "        S[:n_rows,:n_cols] = M\n",
    "        return S\n",
    "    \n",
    "    @staticmethod\n",
    "    def make_off_diagonal_block(u, s, wh):\n",
    "        assert np.all(s<=1), f'All singular values {s} must be less than 1.'\n",
    "        return u @ np.diag(np.sqrt(1-s**2)) @ wh\n",
    "    \n",
    "    @staticmethod\n",
    "    def unitary_from_blocks(A, B):\n",
    "        n = A.shape[0]\n",
    "        U = np.zeros((2*n, 2*n), dtype=np.complex64)\n",
    "        U[:n, :n] = A\n",
    "        U[:n,n:2*n] = B\n",
    "        U[n:2*n, :n] = B\n",
    "        U[n:2*n, n:2*n] = -A\n",
    "        \n",
    "        assert np.allclose(U @ U.conj().T, np.eye(2*n), atol=1e-5), 'Ops, block encoding is not unitary.'\n",
    "        return U"
   ]
  },
  {
   "cell_type": "markdown",
   "id": "bf787948-319b-450f-83d9-2ab0d6f7e296",
   "metadata": {},
   "source": [
    "## Implementation"
   ]
  },
  {
   "cell_type": "markdown",
   "id": "cf360075-d25a-4409-a472-9e5356a36aee",
   "metadata": {},
   "source": [
    "- Success probability depends on the details of block encoding. \n",
    "- We assume $0\\le spec(H)\\le 1$.\n",
    "- In our case we build bloc-encoding of $\\frac12 e^{-i H t}$ and the algorithm successed with $\\frac14$ chance.\n",
    "- $C(e^{i\\phi}U)=C(U)\\cdot S\\otimes I$\n",
    "\n",
    "\n"
   ]
  },
  {
   "cell_type": "markdown",
   "id": "cd2bf22c-9443-430c-8fde-dfd265b1c595",
   "metadata": {},
   "source": [
    "Firts let's build the polynomials and angles sequences."
   ]
  },
  {
   "cell_type": "code",
   "execution_count": 151,
   "id": "8155d573-7387-4215-ba2a-339966b5f2e4",
   "metadata": {},
   "outputs": [],
   "source": [
    "seed = 42\n",
    "np.random.seed(seed)\n",
    "\n",
    "num_qubits = 6\n",
    "N = 2**num_qubits\n",
    "\n",
    "V = scipy.stats.unitary_group.rvs(N, random_state=seed)\n",
    "D = np.random.uniform(low=0, high=1, size=(N,))\n",
    "\n",
    "H = V*D @ V.conj().T\n",
    "\n",
    "block_encoding = BlockEncoding(H)\n",
    "U = block_encoding.unitary\n",
    "P = block_encoding.projector"
   ]
  },
  {
   "cell_type": "code",
   "execution_count": 152,
   "id": "cc7e5734-0d42-41e3-b200-7c986b8304c7",
   "metadata": {},
   "outputs": [],
   "source": [
    "costx = pyqsp.poly.PolyCosineTX()\n",
    "sintx = pyqsp.poly.PolySineTX()\n",
    "\n",
    "t = np.arange(1, 10)\n",
    "epsilon = 0.01\n",
    "\n",
    "norms = []\n",
    "degrees = []\n",
    "for ti in t:\n",
    "\n",
    "    U_phi = []\n",
    "    degree = 0\n",
    "    \n",
    "    for target_function in [costx, sintx]:\n",
    "        coeffs = quiet(target_function.generate)(tau=ti, epsilon=epsilon)\n",
    "        phis = pyqsp.angle_sequence.QuantumSignalProcessingPhases(coeffs, signal_operator='Wx')\n",
    "        phis = angles_from_Wx_to_R(phis)\n",
    "        degree += len(phis)-1\n",
    "\n",
    "        U_phi.append(apply_QSVT(U, P, P, phis))\n",
    "    \n",
    "    degrees.append(degree)\n",
    "    \n",
    "    U_phi_cos, U_phi_sin = U_phi\n",
    "    H_cos = U_phi_cos[:N, :N]+U_phi_cos[:N, :N].conj().T\n",
    "    H_sin = U_phi_sin[:N, :N]+U_phi_sin[:N, :N].conj().T\n",
    "    H_transformed = H_cos -1j*H_sin\n",
    "    \n",
    "    norm = np.linalg.norm(H_transformed-scipy.linalg.expm(-1j*H*ti))\n",
    "    norms.append(norm)"
   ]
  },
  {
   "cell_type": "code",
   "execution_count": 153,
   "id": "3a2b280b-4617-475d-8f1a-fda6d1e59edd",
   "metadata": {},
   "outputs": [
    {
     "data": {
      "image/png": "[encoded data removed]",
      "text/plain": [
       "<Figure size 432x288 with 1 Axes>"
      ]
     },
     "metadata": {
      "needs_background": "light"
     },
     "output_type": "display_data"
    }
   ],
   "source": [
    "plt.plot(t, norms)\n",
    "plt.axhline(epsilon, color='red', linestyle='--', label='error threshold')\n",
    "plt.plot(t, degrees, '*')\n",
    "plt.yscale('log')"
   ]
  },
  {
   "cell_type": "markdown",
   "id": "d9eaa423-faa5-4f81-81f0-41e129f53207",
   "metadata": {},
   "source": [
    "# Solving linear systems"
   ]
  },
  {
   "cell_type": "markdown",
   "id": "30f250a5-8859-4dc9-84ba-f7c1a775d26c",
   "metadata": {},
   "source": [
    "- Given a linear system $Ax=b$ compute $x=A^+b$.\n",
    "- $A^+$ is pseudo-inverse. If $A=\\sum_{\\sigma_i\\neq 0} \\sigma_i |v_i\\rangle\\langle w_i|$ then $A^+=\\sum_{\\sigma_i\\neq 0} \\sigma_i^{-1} |w_i\\rangle\\langle v_i|$."
   ]
  },
  {
   "cell_type": "markdown",
   "id": "ed67969c-b21f-47e5-a17a-0e50598d2d06",
   "metadata": {},
   "source": [
    "## Implementation"
   ]
  },
  {
   "cell_type": "code",
   "execution_count": 300,
   "id": "e1aff369-a58b-408b-b300-a5e4f99b5d6c",
   "metadata": {},
   "outputs": [],
   "source": [
    "seed = 1\n",
    "np.random.seed(seed)\n",
    "\n",
    "num_qubits = 3\n",
    "N = 2**num_qubits\n",
    "kappa = 3\n",
    "\n",
    "b = np.random.uniform(size=(N,))\n",
    "b = b/(np.sqrt((b**2).sum()))\n",
    "\n",
    "n, m = np.random.randint(N//2, N, size=2)\n",
    "V = scipy.stats.ortho_group.rvs(n, random_state=seed**2)\n",
    "W = scipy.stats.ortho_group.rvs(m, random_state=seed**3)\n",
    "\n",
    "singular_values = np.random.uniform(low=1/kappa, high=1, size=min(n, m))\n",
    "Sigma = np.zeros((n, m))\n",
    "Sigma[:min(n, m), :min(n, m)] = np.diag(singular_values)\n",
    "\n",
    "A = V @ Sigma @ W.conj().T\n",
    "\n",
    "block_encoding = BlockEncoding(A)\n",
    "U = block_encoding.unitary\n",
    "P = block_encoding.projector"
   ]
  },
  {
   "cell_type": "code",
   "execution_count": 301,
   "id": "e6c568b1-df76-4f74-8345-ad4c649f2925",
   "metadata": {
    "tags": []
   },
   "outputs": [
    {
     "name": "stdout",
     "output_type": "stream",
     "text": [
      "b=30, j0=14\n",
      "[PolyOneOverX] minimum [-3.5325637] is at [-0.20530335]: normalizing\n",
      "[PolyOneOverX] bounding to 0.5\n",
      "[pyqsp.PolyOneOverX] pcoefs=[ 0.00000000e+00  4.24568213e+00  0.00000000e+00 -6.14813187e+01\n",
      "  0.00000000e+00  5.70160728e+02  0.00000000e+00 -3.77110116e+03\n",
      "  0.00000000e+00  1.86774294e+04  0.00000000e+00 -7.07245446e+04\n",
      "  0.00000000e+00  2.06037512e+05  0.00000000e+00 -4.61025085e+05\n",
      "  0.00000000e+00  7.86778785e+05  0.00000000e+00 -1.01130011e+06\n",
      "  0.00000000e+00  9.59305607e+05  0.00000000e+00 -6.49556764e+05\n",
      "  0.00000000e+00  2.96436030e+05  0.00000000e+00 -8.15921088e+04\n",
      "  0.00000000e+00  1.02215704e+04]\n"
     ]
    }
   ],
   "source": [
    "epsilon = 0.1\n",
    "\n",
    "target_function = pyqsp.poly.PolyOneOverX()\n",
    "coeffs, scale = target_function.generate(kappa=3, epsilon=epsilon, ensure_bounded=True, return_scale=True)\n",
    "\n",
    "phis = pyqsp.angle_sequence.QuantumSignalProcessingPhases(coeffs, signal_operator='Wx')\n",
    "phis = angles_from_Wx_to_R(phis)\n",
    "\n",
    "U_phi = apply_QSVT(U, P, P, phis)"
   ]
  },
  {
   "cell_type": "code",
   "execution_count": 257,
   "id": "86a8abf0-53e3-4f57-9ab3-e06ecb6117e7",
   "metadata": {
    "collapsed": true,
    "jupyter": {
     "outputs_hidden": true,
     "source_hidden": true
    },
    "tags": []
   },
   "outputs": [
    {
     "data": {
      "text/plain": [
       "array([0.00000000e+00, 0.00000000e+00, 3.84951538e-14, 1.54056732e-01,\n",
       "       1.79116368e-01, 2.04367253e-01, 2.30939100e-01, 3.01179168e-01])"
      ]
     },
     "execution_count": 257,
     "metadata": {},
     "output_type": "execute_result"
    }
   ],
   "source": [
    "Aplus = np.linalg.pinv(A)\n",
    "_, s_, _ = np.linalg.svd(Aplus)\n",
    "np.sort(s)"
   ]
  },
  {
   "cell_type": "code",
   "execution_count": 364,
   "id": "f8ac5369-4204-4038-8fcf-d73496b5fac2",
   "metadata": {
    "tags": []
   },
   "outputs": [],
   "source": [
    "seed = 1\n",
    "np.random.seed(seed)\n",
    "\n",
    "num_qubits = 6\n",
    "N = 2**num_qubits\n",
    "epsilon = 0.2\n",
    "\n",
    "target_function = pyqsp.poly.PolyOneOverX()\n",
    "norms = []\n",
    "kappas = np.linspace(2, 4, 10)\n",
    "alphas = []\n",
    "degrees = []\n",
    "\n",
    "for kappa in kappas:\n",
    "\n",
    "    n, m = np.random.randint(N//2, N, size=2)\n",
    "    V = scipy.stats.ortho_group.rvs(n, random_state=seed**2)\n",
    "    W = scipy.stats.ortho_group.rvs(m, random_state=seed**3)\n",
    "\n",
    "    singular_values = np.random.uniform(low=1/kappa, high=1, size=min(n, m))\n",
    "    Sigma = np.zeros((n, m))\n",
    "    Sigma[:min(n, m), :min(n, m)] = np.diag(singular_values)\n",
    "\n",
    "    A = V @ Sigma @ W.conj().T\n",
    "\n",
    "    block_encoding = BlockEncoding(A)\n",
    "    U = block_encoding.unitary\n",
    "    P = block_encoding.projector\n",
    "    \n",
    "\n",
    "    coeffs, scale = quiet(target_function.generate)(\n",
    "        kappa=kappa, \n",
    "        epsilon=epsilon, \n",
    "        ensure_bounded=True, \n",
    "        return_scale=True)\n",
    "    \n",
    "    phis = pyqsp.angle_sequence.QuantumSignalProcessingPhases(coeffs, signal_operator='Wx')\n",
    "    phis = angles_from_Wx_to_R(phis)\n",
    "    \n",
    "    degrees.append(len(coeffs)-1)\n",
    "    \n",
    "    U_phi = apply_QSVT(U, P, P, phis)\n",
    "    \n",
    "    exact_pseudo_inverse = np.linalg.pinv(A)\n",
    "    our_pseudo_inverse = 2*kappa*np.real(U_phi.conj().T)[:m, :n] \n",
    "    \n",
    "    norm = np.linalg.norm(our_pseudo_inverse-exact_pseudo_inverse, ord=2)\n",
    "    norms.append(norm)"
   ]
  },
  {
   "cell_type": "code",
   "execution_count": 365,
   "id": "763943e9-b5c7-470c-8289-8ca34fe4e14f",
   "metadata": {
    "tags": []
   },
   "outputs": [
    {
     "data": {
      "text/plain": [
       "[<matplotlib.lines.Line2D at 0x7fa917f74850>]"
      ]
     },
     "execution_count": 365,
     "metadata": {},
     "output_type": "execute_result"
    },
    {
     "data": {
      "image/png": "[encoded data removed]",
      "text/plain": [
       "<Figure size 432x288 with 2 Axes>"
      ]
     },
     "metadata": {
      "needs_background": "light"
     },
     "output_type": "display_data"
    }
   ],
   "source": [
    "plt.subplot(1, 2, 1)\n",
    "plt.plot(kappas, norms)\n",
    "plt.axhline(epsilon)\n",
    "plt.subplot(1, 2, 2)\n",
    "plt.plot(kappas, degrees)"
   ]
  },
  {
   "cell_type": "markdown",
   "id": "3e3f21de-4aaa-449f-934b-6069984c9051",
   "metadata": {},
   "source": [
    "# Chebyshev polynomials"
   ]
  },
  {
   "cell_type": "code",
   "execution_count": 376,
   "id": "d7720ca7-cd63-4b74-a429-d8c438068628",
   "metadata": {},
   "outputs": [
    {
     "data": {
      "image/png": "[encoded data removed]",
      "text/plain": [
       "<Figure size 432x288 with 2 Axes>"
      ]
     },
     "metadata": {
      "needs_background": "light"
     },
     "output_type": "display_data"
    }
   ],
   "source": [
    "plt.subplot(1, 2, 1)\n",
    "x = np.linspace(-1, 1, 100)\n",
    "for n in range(5):\n",
    "    plt.plot(x, plt.np.polynomial.Chebyshev.basis(n)(x), label=f'$T_n$={n}')\n",
    "plt.legend();\n",
    "plt.subplot(1, 2, 2)\n",
    "x = np.linspace(-2, 2, 100)\n",
    "for n in range(5):\n",
    "    plt.plot(x, plt.np.polynomial.Chebyshev.basis(n)(x), label=f'$T_n$={n}')\n",
    "plt.legend();\n"
   ]
  },
  {
   "cell_type": "code",
   "execution_count": null,
   "id": "be680243-c1d9-4ae4-b719-7e5706214059",
   "metadata": {},
   "outputs": [],
   "source": []
  }
 ],
 "metadata": {
  "kernelspec": {
   "display_name": "Python 3",
   "language": "python",
   "name": "python3"
  },
  "language_info": {
   "codemirror_mode": {
    "name": "ipython",
    "version": 3
   },
   "file_extension": ".py",
   "mimetype": "text/x-python",
   "name": "python",
   "nbconvert_exporter": "python",
   "pygments_lexer": "ipython3",
   "version": "3.8.10"
  },
  "widgets": {
   "application/vnd.jupyter.widget-state+json": {
    "state": {},
    "version_major": 2,
    "version_minor": 0
   }
  }
 },
 "nbformat": 4,
 "nbformat_minor": 5
}
