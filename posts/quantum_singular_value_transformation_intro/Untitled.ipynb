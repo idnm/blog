{
 "cells": [
  {
   "cell_type": "code",
   "execution_count": null,
   "id": "7ce4357b",
   "metadata": {},
   "outputs": [],
   "source": [
    "---\n",
    "title: \"Introduction to Quantum Singular Value Transformation\"\n",
    "description: \"Or grand unification of quantum algorithms, if you feel a bit grandiose.\"\n",
    "aliases:\n",
    "  - quantum_singular_value_transformation_intro.html\n",
    "bibliography: references.bib\n",
    "csl: physical-review-letters.csl\n",
    "toc: true\n",
    "image: what_to_use_qc_for.svg\n",
    "date: '2023-05-15'\n",
    "\n",
    "format:\n",
    "  html:\n",
    "    html-math-method: mathjax\n",
    "    include-in-header:\n",
    "      - text: |\n",
    "          <script>\n",
    "          window.MathJax = {\n",
    "            tex: {\n",
    "              tags: 'ams'\n",
    "            }\n",
    "          };\n",
    "          </script>\n",
    "---"
   ]
  },
  {
   "cell_type": "code",
   "execution_count": 1,
   "id": "5a9613f5",
   "metadata": {},
   "outputs": [],
   "source": [
    "import numpy as np"
   ]
  },
  {
   "cell_type": "markdown",
   "id": "ccd51ea4",
   "metadata": {},
   "source": [
    "# Hamiltonian simulation\n",
    "\n",
    "We are given three things\n",
    "\n",
    "1. Block embedding of a Hamiltonian $H$, i.e. $U$ s.t. $H=\\left(\\langle 0|\\otimes I \\right)U\\left(|0\\rangle\\otimes I\\right)$.\n",
    "2. Projectors $\\Pi(\\phi)$.\n",
    "3. ??\n",
    "\n",
    "\n",
    "## Block encodings\n",
    "\n",
    "Singular value $\\sigma$ are positive square roots of eigenvalues $M^\\dagger M\\ge0$.\n",
    "\n",
    "To block encode some matrix $M$ we need $||M||\\le1$ where $||.||$ is the operator norm or, equivalently, the largest singular value."
   ]
  },
  {
   "cell_type": "code",
   "execution_count": null,
   "id": "f27bc642",
   "metadata": {},
   "outputs": [],
   "source": [
    "numpy"
   ]
  },
  {
   "cell_type": "code",
   "execution_count": 52,
   "id": "7bac2757",
   "metadata": {},
   "outputs": [],
   "source": [
    "class BlockEncoding:\n",
    "    \n",
    "    def __init__(self, M):\n",
    "        \n",
    "        self.num_rows = M.shape[0]\n",
    "        self.num_cols = M.shape[1]\n",
    "        self.dim = 2*max(self.num_rows, self.num_cols)\n",
    "        \n",
    "        self.diagonal_block = self.pad_matrix_to_square(M)\n",
    "        \n",
    "        U, S, WH = np.linalg.svd(self.diagonal_block)\n",
    "        \n",
    "        self.U = U\n",
    "        self.S = S\n",
    "        self.WH = WH\n",
    "        \n",
    "        self.off_diagonal_block = self.make_off_diagonal_block(self.U, self.S, self.WH)\n",
    "        \n",
    "        self.unitary = self.unitary_from_blocks(\n",
    "            self.diagonal_block, \n",
    "            self.off_diagonal_block)\n",
    "                    \n",
    "    @staticmethod\n",
    "    def pad_matrix_to_square(M):\n",
    "        \"\"\"Pads a matrix with zeros to make it square.\"\"\"\n",
    "\n",
    "        n_rows, n_cols = M.shape\n",
    "        n_max = max(n_rows, n_cols)\n",
    "        S = np.zeros((n_max, n_max))\n",
    "        S[:n_rows,:n_cols] = M\n",
    "        return S\n",
    "    \n",
    "    @staticmethod\n",
    "    def make_off_diagonal_block(u, s, wh):\n",
    "        assert np.all(s<=1), f'All singular values {s} must be less than 1.'\n",
    "        return u @ np.diag(np.sqrt(1-s**2)) @ wh\n",
    "    \n",
    "    @staticmethod\n",
    "    def unitary_from_blocks(A, B):\n",
    "        n = A.shape[0]\n",
    "        U = np.zeros((2*n, 2*n))\n",
    "        U[:n, :n] = A\n",
    "        U[:n,n:2*n] = B\n",
    "        U[n:2*n, :n] = B\n",
    "        U[n:2*n, n:2*n] = -A\n",
    "        \n",
    "        assert np.allclose(U @ U.conj().T, np.eye(2*n)), 'Ops, block encoding is not unitary.'\n",
    "        return U"
   ]
  }
 ],
 "metadata": {
  "kernelspec": {
   "display_name": "slow_waves_python38",
   "language": "python",
   "name": "slow_waves_venv"
  },
  "language_info": {
   "codemirror_mode": {
    "name": "ipython",
    "version": 3
   },
   "file_extension": ".py",
   "mimetype": "text/x-python",
   "name": "python",
   "nbconvert_exporter": "python",
   "pygments_lexer": "ipython3",
   "version": "3.8.10"
  }
 },
 "nbformat": 4,
 "nbformat_minor": 5
}
