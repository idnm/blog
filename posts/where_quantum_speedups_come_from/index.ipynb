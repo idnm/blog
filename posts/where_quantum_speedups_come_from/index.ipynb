{
 "cells": [
  {
   "cell_type": "raw",
   "id": "ef150114",
   "metadata": {},
   "source": [
    "---\n",
    "title: \"Where do quantum speedups come from?\"\n",
    "description: \"What makes quantum computers powerful? Explained as simply as possible, but no simpler.\"\n",
    "aliases:\n",
    "  - where_quantum_speedups_come_from.html\n",
    "bibliography: references.bib\n",
    "csl: physical-review-letters.csl\n",
    "toc: true\n",
    "categories:\n",
    "- quantum concepts\n",
    "- paper review\n",
    "image: what_to_use_qc_for.svg\n",
    "date: '2023-07-18'\n",
    "\n",
    "format:\n",
    "  html:\n",
    "    html-math-method: mathjax\n",
    "    include-in-header:\n",
    "      - text: |\n",
    "          <script>\n",
    "          window.MathJax = {\n",
    "            tex: {\n",
    "              tags: 'ams'\n",
    "            }\n",
    "          };\n",
    "          </script>\n",
    "---"
   ]
  },
  {
   "cell_type": "markdown",
   "id": "8df279f5-bd69-4961-9d57-31782047a6e4",
   "metadata": {},
   "source": [
    "1. A lot of confusion about the source of quantum advantage.\n",
    "3. Usual suspects\n",
    "    1. Large Hilbert space\n",
    "    2. Entanglement\n",
    "    3. Parallelism\n",
    "    4. Superposition\n",
    "4. Simple but accurate explanation hard to come by.\n",
    "5. Many simplistic explanations fail because they apply to probabilistic computing as well\n",
    "   1. Large space dimension for probabilities\n",
    "   2. No interference\n",
    "   3. Stochastic matrices can be simulated? Always increase entropy\n",
    "   4. Quasi-probability distr, Wigner functions\n",
    "7. And then there are classical waves.\n",
    "   1. But no exponential modes\n",
    "8. Entanglement is curios, but not crucial\n",
    "   1. Entanglement ensures exploring Hilbert space\n",
    "   2. Stabilizer circuits can be simulated\n",
    "   3. Quantum correlations are not directly related to computational advantage\n",
    "4. Algorithms vs quantum circuits.\n",
    "10. Post a bit different, try to give as simple explanation as possible.\n",
    "11. Couldn't do it, but technical parts separated.\n",
    "12. Takeaway.\n",
    "    - Dimension of the Hilbert space+superposition given a polynomial amount of qubits\n",
    "13. The answer not completely satisfactory, the subject is subtle."
   ]
  },
  {
   "cell_type": "markdown",
   "id": "b8b6cccc-ab1e-4b03-92a3-1f87019acd0c",
   "metadata": {},
   "source": [
    "# Absurdly short intro to classical computing\n",
    "- Classical computers manipulate states of bits"
   ]
  },
  {
   "cell_type": "markdown",
   "id": "2c3db34e-739f-4a84-bd07-58f23a31e149",
   "metadata": {},
   "source": [
    "# Super short intro to quantum computing\n",
    "- Physics/historical way is not necessary\n",
    "- Quantum physics is a generalization of probability\n",
    "- Quantum states are like probability distributions\n",
    "- Quantum bit -- $(\\alpha_0, \\alpha_1)$\n",
    "- Born rule\n",
    "- Space dimension of $n$ qubits is $2^n$\n",
    "- Quantum programs manipulate quantum states\n",
    "- Act as unitary matrices\n",
    "- Produce probability distributions\n",
    "- End with a measurement\n",
    "- Quantum circuit is a convenient model\n",
    "- Each gate is a rule for updating amplitudes"
   ]
  },
  {
   "cell_type": "markdown",
   "id": "40a808a4-7936-4875-957a-94eab37418ca",
   "metadata": {},
   "source": [
    "# Classical probabilistic processes"
   ]
  },
  {
   "cell_type": "markdown",
   "id": "5c1e1adc-c077-4ecf-ae64-5889f5107673",
   "metadata": {},
   "source": [
    "- State space is also huge, of the same order\n",
    "- "
   ]
  },
  {
   "cell_type": "markdown",
   "id": "7f1f77d3-8356-4489-84f0-a254a8725b30",
   "metadata": {},
   "source": [
    "# Quantum speed up suspects"
   ]
  },
  {
   "cell_type": "markdown",
   "id": "882ef6ef-f654-456c-8e34-2e5740859376",
   "metadata": {},
   "source": [
    "## Humongous Hilbert space\n",
    "- Necessary, as we could state-vector simulate everything otherwise. Not sufficient. Some things can be simulated anyway. Applies to probabilistic computing as well."
   ]
  }
 ],
 "metadata": {
  "kernelspec": {
   "display_name": "slow_waves_python38",
   "language": "python",
   "name": "slow_waves_venv"
  },
  "language_info": {
   "codemirror_mode": {
    "name": "ipython",
    "version": 3
   },
   "file_extension": ".py",
   "mimetype": "text/x-python",
   "name": "python",
   "nbconvert_exporter": "python",
   "pygments_lexer": "ipython3",
   "version": "3.8.10"
  },
  "widgets": {
   "application/vnd.jupyter.widget-state+json": {
    "state": {},
    "version_major": 2,
    "version_minor": 0
   }
  }
 },
 "nbformat": 4,
 "nbformat_minor": 5
}
