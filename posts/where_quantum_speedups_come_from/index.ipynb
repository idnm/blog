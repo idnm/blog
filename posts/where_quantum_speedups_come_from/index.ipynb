{
 "cells": [
  {
   "cell_type": "raw",
   "id": "ef150114",
   "metadata": {},
   "source": [
    "---\n",
    "title: \"Where do quantum speedups come from?\"\n",
    "description: \"What makes quantum computers powerful? Explained as simply as possible, but no simpler.\"\n",
    "aliases:\n",
    "  - where_quantum_speedups_come_from.html\n",
    "bibliography: references.bib\n",
    "csl: physical-review-letters.csl\n",
    "toc: true\n",
    "categories:\n",
    "- quantum concepts\n",
    "- paper review\n",
    "image: what_to_use_qc_for.svg\n",
    "date: '2023-07-18'\n",
    "\n",
    "format:\n",
    "  html:\n",
    "    html-math-method: mathjax\n",
    "    include-in-header:\n",
    "      - text: |\n",
    "          <script>\n",
    "          window.MathJax = {\n",
    "            tex: {\n",
    "              tags: 'ams'\n",
    "            }\n",
    "          };\n",
    "          </script>\n",
    "---"
   ]
  },
  {
   "cell_type": "markdown",
   "id": "dbb3ed43",
   "metadata": {
    "vscode": {
     "languageId": "raw"
    }
   },
   "source": [
    "\n",
    "My aim is to give the crux of why quantum computers can be more powerful than classical. To explain it `as simple as possible but no simpler`. \n",
    "There are two points to address.\n",
    "\n",
    "1. Why a classical computer can not efficiently reproduce. i.e. *simulate*, any quantum computation?\n",
    "2. Why some of these computations solve useful problems?\n",
    "\n",
    "You really need both. \n",
    "\n",
    "For instance, the famous Google's quantum supremacy experiment is first without the second. It uses a quantum computer to sample from a certain probability distribution. A classical computer can not do that efficiently (with some reservations), but no practical applications of this random sampling are known. \n",
    "\n",
    "On the other hand, simply coming up with a quantum algorithm that does solve some useful problem is not sufficient. It may well be that this algorithm *can* be efficiently simulated classically (or that a different classical algorithm solving the same problem exists).\n",
    "\n",
    "My main focus will be to explain the first property, but I'll also briefly touch on the second (by no means less important)."
   ]
  },
  {
   "cell_type": "markdown",
   "id": "a9a57e3e-9e85-4e5d-913f-3e27115b58ef",
   "metadata": {},
   "source": [
    "# Introduction\n",
    "\n",
    "## Why can quantum computers be powerful?\n",
    "\n",
    "So there are quantum computers. At least there will be, we believe. And the reason to build them is an expectation that they will solve some problems intractable for the classical computers. It is a new way to process information, a new way to do computation.\n",
    "\n",
    "However, it is surprisingly difficult to pinpoint the exact mechanism underlying the capabilities of a quantum computer. Most of the simplistic explanations, referencing some unusual property of quantum systems such as entanglement, superposition etc, are incomplete at best. It is hard to compare classical and quantum head-to-head, because of the very different language used to describe them.\n",
    "\n",
    "In this post, I will try to make a fair comparison and zoom in on the essential differences. As an experiment, I will try to cover the topic in a way accessible for people outside the field, striving to provide an explanation that is \"as simple as possible, but no simpler\". The discussion still won't be entirely non-technical, though, and use some basic probability and linear algebra."
   ]
  },
  {
   "cell_type": "markdown",
   "id": "349c478b",
   "metadata": {},
   "source": [
    "So, why can't an arbitrary quantum computation be efficiently simulated classically? And what does that even mean?\n",
    "\n",
    "## Qubits and p-bits\n",
    "\n",
    "A classical bit can be either $0$ or $1$. Similarly, a *qubit* (quantum bit) can be $\\bf{0}$ or $\\bf{1}$. But crucially, a qubit can also be in any state of the form\n",
    "$$\\pmb{s}=a_0 \\pmb{0}+a_1 \\pmb{1} \\ .$$\n",
    "\n",
    "Mathematically, states $\\pmb{0}$ and $\\pmb{1}$ are *vectors*, and (almost) any linear combination of them is a valid state of a qubit. In quantum mechanics a linear combination is called a *superposition*. \n",
    "\n",
    "What does it mean for a qubit to be in state $\\pmb{s}$? It means that if you look at it, or *make a measurement* in quantum-mechanical jargon, you will see $\\pmb{0}$ with probability $p_0=|a_0|^2$ or $\\pmb{1}$ with probability $p_1=|a_1|^2$. \n",
    "\n",
    "From this point of view, a qubit in state $\\pmb{s}$ is indistinguishable from a *pbit* (probabilistic) bit that is in the state $0$ with probability $p_0$ and state $1$ with probability $p_1$.\n",
    "\n",
    "Comparison between p-bits and qubits is very natural, yet often overlooked. Compare qubits to normal determinisitc bits is more apples vs oranges, because the language used to describe them is so different. P-bits, instead, share many of the properties with qubits, such as an exponentially large state space.\n",
    "\n",
    "## Quantum mechanics is a theory of amplitudes\n",
    "\n",
    "What is the difference between a qubit and a p-bit? Numbers $a_0, a_1$ defining a state $\\pmb{s}$ are called *amplitudes*. They are similar to probabilities, yet can be *negative*. They can (and often are) be complex numbers, but the negative values to depart from classical computing.\n",
    "\n",
    "The fact that some quantity can be negative and it is the reason for quantum magic may sound a bit silly, but this is one of the ways to clearly state how quantum and classical differs. Eventually, it can be interpreted that quantum systems can be in ``several plcaes at the same time`` in a qualitatevly different way, compared with probabilistic classical systems.\n",
    "\n",
    "## The Hadamard gate\n",
    "\n",
    "Quantum processes transform quantum states. Importantly, they operate on *amplitudes*, not on probabilities. Trying to interpret a quantum as something that simply changes an underlying probability distribution does not work.\n",
    "\n",
    "Here is a quantum operation, known as the Hadamard gate.\n",
    "\n",
    "\\begin{align}\n",
    "\\pmb{+}=H\\circ \\pmb{0} = \\frac{1}{\\sqrt{2}}\\left(\\pmb{0}+\\pmb{1}\\right) \\ ,\\\\\n",
    "\\pmb{-}=H\\circ \\pmb{1} = \\frac{1}{\\sqrt{2}}\\left(\\pmb{0}-\\pmb{1}\\right) \\ .\n",
    "\\end{align}\n",
    "\n",
    "In words, it is a linear operation that takes $\\pmb{0}$ to sum $\\pmb{0}+\\pmb{1}$, and takes $\\pmb{1}$ to difference $\\pmb{0}-\\pmb{1}$. The factors $\\frac1{\\sqrt{2}}$ are needed to ensure that the total probability is 1. If you measure the state $|+\\rangle$ you get $|0\\rangle$ or $|1\\rangle$ with the same probability $\\frac12$. The same holds for $|-\\rangle$, i.e. states $|\\pm\\rangle$ are indistinguishable from this point of view. \n",
    "\n",
    "\n",
    "There is a simple classical analog to the Hadamard transformation -- a coin flip, which I will cal $C$! Indeed, independent of the initial state, a fair flip of a fair coin will produce a p-bit which is equally likely to be 0 and 1. Can you interpret the Hadamard transform in the same way? No, not really. If you apply the Hadamard transform twice, it will be very different from two coin flips.\n",
    "\n",
    "Indeed, applying $C$ the second time does nothing, and you are still maximally uncertain about the state of your bit. However, applying the Hadamard transform twice gives you back the original state! For instance\n",
    "\n",
    "$$H^2|0\\rangle=H|+\\rangle = \\frac{1}{\\sqrt{2}}\\left(H|0\\rangle+H|1\\rangle\\right)=\\frac{1}{2}\\left(|0\\rangle+|1\\rangle+|0\\rangle-|1\\rangle\\right)= |0\\rangle \\ .$$\n",
    "\n",
    "Similarly, $H^2 |1\\rangle=|1\\rangle$. \n",
    "\n",
    "This does not make sense if you try interpreting $H$ in purely probabilistic terms. Classically, if there is a probability to first go from A to B, and then there is a probability to go from B to C, there *must* be a probability to end up in C having started in A. This is because to get the probability $p(A\\to C)$ you sum intermediate *probabilities*, which can not be negative, so \n",
    "$$p(A\\to C)=p(A\\to B)p(B\\to C)+\\dots \\ge p(A\\to B)p(B\\to C) \\ . $$"
   ]
  },
  {
   "cell_type": "markdown",
   "id": "d13ca1cb",
   "metadata": {},
   "source": [
    "## But why can't we simulate the amplitudes\n",
    "\n",
    "One often hears that the state space of many qubits is exponentially large, and hence can not be simulated classically. While necessary, this is not sufficient. \n",
    "\n",
    "A state of $n$ qubits is described by $2^n$ (complex) numbers, each being an aplitude of a particular bit configuration. E.g. for three qubits there are 8 amplitudes\n",
    "\n",
    "$$|\\psi\\rangle = a_{000}|000\\rangle + a_{001}|001\\rangle+a_{010}|010\\rangle+a_{011}|011\\rangle+a_{100}|100\\rangle + a_{101}|101\\rangle+a_{110}|110\\rangle+a_{111}|111\\rangle$$\n",
    "\n",
    "However, the state space of probabilistic classical bits is exponentially large as well. There are $2^n$ possible configurations of $n$ classical bits, each having an associated probability. E.g. for three bits we need to specify $p_{000}$ trough $p_{111}$ to specify the probability distribution.\n",
    "\n",
    " Namely, if you have $n$ p-bits, to fully describe the state of the system you need to specify the probability of each configuration, such as $p_{1010001\\dots}$, and there are $2^n$ such probabilities (yes, there are only $2^n-1$ independent ones, as the total should be one, but don't be picky). Yet, we can efficiently simulate probabilistic processes. \n",
    "\n",
    "By a probabilistic process I mean a series of transformation steps, each of which can have randomness to it. Say at first we randomly flip the first bit. Then we reverse the value of the second bit, but only if first bit is 1. While this is a deterministic operation, it will make the state of the second qubit uncertain, because it is now conditioned on the state of the first randomly flipped bit. And so on. While this does not look like a code in python, it is a valid model of probabilistic computation, which looks similar to gate-based quantum computation. \n",
    "\n",
    "Compose enough of such simple steps, and the complexity of the resulting probability distribution can be high. I.e. the probabilities of any\n",
    "\n",
    "This is because we do not need to keep track of the exponential number of trajectories to get from the initial to the final state. We can simply sample individual trajectories. You should think of a probabilistic process as a sequence of probabilistic changes to the state of the system. For example, if step number 100 requires flipping the last bit, it gives rise to two new possibilities (one where the last bit is 0, and another where it is 1). But we can simply choose 0 or 1 for the last bit at random, and ignore the other option. Doing this for all steps making up the probabilistic process, we obtain a final sample. Repeating this procedure many time over, produces samples of the whole process.\n",
    "\n",
    "This works because the classical probability simply reflects our ignorance about the exact state. But in each realization of a random process there was a single actual state at each moment, and we can simulate its transformation step by step, as described above.\n",
    "\n",
    "\n",
    "This does *not* work for quantum processes. Here is an extreme yet practical example. Many quantum algorithms work in such a way, that by the end of the procedure, the bit string corresponding encoding the correct answer has probability close to 1. Running such an algorithm a bunch of times on a real quantum computer will result in the correct answer with very high probability.  \n",
    "\n",
    "We can sample a single trajectory and compute its *amplitude*, but this does not allow us to sample the from \n",
    "\n",
    "Let's be more precise. Say a probabilistic process (or computation) is a sequence of steps $S_1, S_2, \\dots S_k$. If we can *sample* from the output of each step $S_i$ provided an input state, we can simulate the whole process. For example, say $S_i$ consists in randomly flipping the second bit. Then, an initial state $s_0s_1s_2\\dots$ is transformed to $s_0 0 s_1\\dots$ or to $s_0 1 s_1\\dots$ with probability one half each. \n",
    "\n",
    "And say we can do the following, given an input state $s_i$ and a\n",
    "\n",
    "Why? Because we can sample individual trajectories. Say you started with state $s_0$ \n",
    "\n",
    " in the end, each realization probabilistic process is a particular sequence of states.\n",
    "\n",
    " in each realization of the probabilistic process \n",
    "Suppose a probabilistic process consists of a sequence of steps $S$, and for each process we know how to compute the probability of going from $s_i$ to $s_j$. \n"
   ]
  },
  {
   "cell_type": "markdown",
   "id": "07c1ba42-8a9e-446c-8175-f58dcc607b57",
   "metadata": {},
   "source": [
    "::: {.callout-note appearance=\"simple\"}\n",
    "\n",
    "Still, I could not resist supplementing the basic explanation with more technical stuff. Parts, encapsulated like this one, will contain more math and require some quantum background. They can be skipped without breaking the main argument, though.\n",
    ":::"
   ]
  },
  {
   "cell_type": "markdown",
   "id": "491e42b5-82f5-46ad-b117-7b1663496b1c",
   "metadata": {},
   "source": [
    "::: {.callout-caution collapse=true appearance=\"simple\"}\n",
    "\n",
    "And occasionally there will be something even more hardcore.\n",
    ":::"
   ]
  },
  {
   "cell_type": "markdown",
   "id": "7f37907e-2794-4661-b4c4-d841c0b02d76",
   "metadata": {},
   "source": [
    "## What does this mean, exactly?\n",
    "\n",
    "I will only consider algorithms that both take as input and return as output classical data. In principle, quantum computers can take and/or return quantum information (more on that later), but classical computers can't, so it does not make sense to compare them in this setting.\n",
    "\n",
    "It is important to stress that quantum computers are not entirely magical. In principle, anything that can be done by a quantum computer can also be done by a classical one. However, it may take prohibitively more time and/or memory. \n",
    "\n",
    "For instance, any process on a small enough quantum computer can be easily reproduced on a laptop. We call this a *simulation* (a classical simulation of a quantum computer, to be more precise). \n",
    "\n",
    "Generically, the amount of classical resources required to simulate a quantum process scales exponentially. So while the classical simulation is always possible in principle, it may not be *efficient*. It should be stressed, though, that there are many non-trivial types of quantum processes that *can* be simulated efficiently at scale. More on that later.\n",
    "\n",
    "To explain why a quantum computer can be more powerful than a classical, can mean addressing two questions.\n",
    "\n",
    "1. Why does the raw power of the quantum computer grow so fast? In other words, why *an arbitrary* quantum computation can not be simulated efficiently by a classical machine?\n",
    "2. Why some of the things that a quantum computer can do, but a classical can not simulate efficiently, are useful? What problems can be efficiently solved quantumly, but not classically?\n",
    "\n",
    "In this post, I will mostly focus on the first question, i.e. try to explain what sets a generic quantum computation apart from classical. The second question, which is by all means just as important, I will only touch briefly."
   ]
  },
  {
   "cell_type": "markdown",
   "id": "1b13a553-65e0-4913-95e5-5ba43479f27b",
   "metadata": {},
   "source": [
    "## The suspects\n",
    "\n",
    "Alright, what property of quantum mechanics is responsible for the potential power of quantum computation? Shouldn't it be easy to identify? Does it even make sense to ask this question, as the quantum mechanics is just so weird and spooky and a wave and a particle at the same time? Here are the usual suspects.\n",
    "\n",
    "1. Huge (exponentially large) dimension of the space where quantum states live.\n",
    "2. Quantum parallelism.\n",
    "3. Superposition.\n",
    "4. Entanglement.\n",
    "5. Contextuality.\n",
    "\n",
    "Don't worry if some concepts are unfamiliar, we will elaborate.\n",
    "\n",
    "You can probably add more. While all these things are necessary, neither is sufficient alone. And they are also come in a package, so it may not even be consistent to keep some and discard the others. However, If I had to choose, I'd probably say it's large state space + superposition, but this may be a matter of taste. "
   ]
  },
  {
   "cell_type": "markdown",
   "id": "142871b9-e23f-463b-944d-eee06681e73a",
   "metadata": {},
   "source": [
    "# What is quantum computing, anyway?\n",
    "\n",
    "## It's not really about the physics\n",
    "Well, quantum computing is a way of manipulating information made possible by the laws of quantum mechanics. One way to introduce it is to go through the history of the subject, starting somewhere around Bohr's atomic model and Einstein's photoelectric effect and going all the way to Standard Model of particle physics and quantum gravity. While understanding the confusion of the founding fathers is probably an invaluable experience, it is a risky and time-consuming endeavor. In fact, stripped of the historical context and philosophical paradoxes, quantum physics becomes nothing but a generalization of a probability theory. The fact that this mathematical model really underpins the Universe is remarkable, but we need not and will not care much about it's physical roots.\n",
    "\n",
    "## Quantum states\n",
    "Ok, let's start getting technical. Quantum computers manipulate quantum states. What are these? The simplest quantum system, known as a ***qubit*** (from ***qu***antum ***bit***), has two basic states $|0\\rangle$ and $|1\\rangle$. However, it can also be in ***superposition*** of these\n",
    "$$|\\psi\\rangle=a|0\\rangle+b|1\\rangle \\ .$$\n",
    "What does is mean for a qubit to be in this state? If you ask the qubit, i.e. make a ***measurement***, it will answer \"I'm $|0\\rangle$!\" with probability $|a|^2$ and \"I'm $|1\\rangle$!\") with probability $|b|^2$. Of course, we need to have $|a|^2+|b|^2=1$.\n",
    "\n",
    "In this respect, qubit in state $|\\psi\\rangle$ is like an unfair coin, which lands heads with probability $|a|^2$ and tails with probability $|b|^2$. Importantly, this probability distribution is not a property of the qubit itself, but \n",
    "\n",
    "\n",
    "Technically, $a$ and $b$ can be complex numbers, but for simplicity you can think they are just the usual real numbers. What is important, is that they can be negative.\n",
    "\n"
   ]
  },
  {
   "cell_type": "markdown",
   "id": "8df279f5-bd69-4961-9d57-31782047a6e4",
   "metadata": {},
   "source": [
    "1. A lot of confusion about the source of quantum advantage.\n",
    "3. Usual suspects\n",
    "    1. Large Hilbert space\n",
    "    2. Entanglement\n",
    "    3. Parallelism\n",
    "    4. Superposition\n",
    "4. Simple but accurate explanation hard to come by.\n",
    "5. Many simplistic explanations fail because they apply to probabilistic computing as well\n",
    "   1. Large space dimension for probabilities\n",
    "   2. No interference\n",
    "   3. Stochastic matrices can be simulated? Always increase entropy\n",
    "   4. Quasi-probability distr, Wigner functions\n",
    "7. And then there are classical waves.\n",
    "   1. But no exponential modes\n",
    "8. Entanglement is curios, but not crucial\n",
    "   1. Entanglement ensures exploring Hilbert space\n",
    "   2. Stabilizer circuits can be simulated\n",
    "   3. Quantum correlations are not directly related to computational advantage\n",
    "4. Algorithms vs quantum circuits.\n",
    "10. Post a bit different, try to give as simple explanation as possible.\n",
    "11. Couldn't do it, but technical parts separated.\n",
    "12. Takeaway.\n",
    "    - Dimension of the Hilbert space+superposition given a polynomial amount of qubits\n",
    "13. The answer not completely satisfactory, the subject is subtle.\n",
    "1. Mention quantum games!"
   ]
  },
  {
   "cell_type": "markdown",
   "id": "b8b6cccc-ab1e-4b03-92a3-1f87019acd0c",
   "metadata": {},
   "source": [
    "# Absurdly short intro to classical computing\n",
    "- Classical computers manipulate states of bits"
   ]
  },
  {
   "cell_type": "markdown",
   "id": "2c3db34e-739f-4a84-bd07-58f23a31e149",
   "metadata": {},
   "source": [
    "# Super short intro to quantum computing\n",
    "- Physics/historical way is not necessary\n",
    "- Quantum physics is a generalization of probability\n",
    "- Quantum states are like probability distributions\n",
    "- Quantum bit -- $(\\alpha_0, \\alpha_1)$\n",
    "- Born rule\n",
    "- Space dimension of $n$ qubits is $2^n$\n",
    "- Quantum programs manipulate quantum states\n",
    "- Act as unitary matrices\n",
    "- Produce probability distributions\n",
    "- End with a measurement\n",
    "- Quantum circuit is a convenient model\n",
    "- Each gate is a rule for updating amplitudes"
   ]
  },
  {
   "cell_type": "markdown",
   "id": "40a808a4-7936-4875-957a-94eab37418ca",
   "metadata": {},
   "source": [
    "# Classical probabilistic processes"
   ]
  },
  {
   "cell_type": "markdown",
   "id": "5c1e1adc-c077-4ecf-ae64-5889f5107673",
   "metadata": {},
   "source": [
    "- State space is also huge, of the same order\n",
    "- "
   ]
  },
  {
   "cell_type": "markdown",
   "id": "7f1f77d3-8356-4489-84f0-a254a8725b30",
   "metadata": {},
   "source": [
    "# Quantum speed up suspects"
   ]
  },
  {
   "cell_type": "markdown",
   "id": "882ef6ef-f654-456c-8e34-2e5740859376",
   "metadata": {},
   "source": [
    "## Humongous Hilbert space\n",
    "- Necessary, as we could state-vector simulate everything otherwise. Not sufficient. Some things can be simulated anyway. Applies to probabilistic computing as well."
   ]
  }
 ],
 "metadata": {
  "kernelspec": {
   "display_name": "Python 3",
   "language": "python",
   "name": "python3"
  },
  "language_info": {
   "codemirror_mode": {
    "name": "ipython",
    "version": 3
   },
   "file_extension": ".py",
   "mimetype": "text/x-python",
   "name": "python",
   "nbconvert_exporter": "python",
   "pygments_lexer": "ipython3",
   "version": "3.8.10"
  },
  "widgets": {
   "application/vnd.jupyter.widget-state+json": {
    "state": {},
    "version_major": 2,
    "version_minor": 0
   }
  }
 },
 "nbformat": 4,
 "nbformat_minor": 5
}
