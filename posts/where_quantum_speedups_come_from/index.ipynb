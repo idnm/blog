{
 "cells": [
  {
   "cell_type": "raw",
   "id": "ef150114",
   "metadata": {},
   "source": [
    "---\n",
    "title: \"Where do quantum speedups come from?\"\n",
    "description: \"What makes quantum computers powerful? Explained as simply as possible, but no simpler.\"\n",
    "aliases:\n",
    "  - where_quantum_speedups_come_from.html\n",
    "bibliography: references.bib\n",
    "csl: physical-review-letters.csl\n",
    "toc: true\n",
    "categories:\n",
    "- quantum concepts\n",
    "- paper review\n",
    "image: what_to_use_qc_for.svg\n",
    "date: '2023-07-18'\n",
    "\n",
    "format:\n",
    "  html:\n",
    "    html-math-method: mathjax\n",
    "    include-in-header:\n",
    "      - text: |\n",
    "          <script>\n",
    "          window.MathJax = {\n",
    "            tex: {\n",
    "              tags: 'ams'\n",
    "            }\n",
    "          };\n",
    "          </script>\n",
    "---"
   ]
  },
  {
   "cell_type": "markdown",
   "id": "a9a57e3e-9e85-4e5d-913f-3e27115b58ef",
   "metadata": {},
   "source": [
    "# Introduction\n",
    "\n",
    "## Why can quantum computers be powerful?\n",
    "\n",
    "If you're reading this, you probably heard of the that quantum computers are expected to solve some of the problems intractable for the classical ones. However, it is surprisingly difficult to pinpoint the exact mechanism. Most of the simplistic explanations, referencing some unusual property of quantum systems such as entanglement, superposition etc, are incomplete at best. It can also be hard to compare classical and quantum head-to-head, because of the very different language used to describe them.\n",
    "\n",
    "In this post, I will try to make a fair comparison and zoom in on the essential differences. As an experiment, I will try to cover the topic in a way accessible for people outside the field, striving to provide an explanation that is 'as simple as possible, but no simpler'. The discussion still won't be entirely non-technical, though, and use some basic probability and linear algebra."
   ]
  },
  {
   "cell_type": "markdown",
   "id": "07c1ba42-8a9e-446c-8175-f58dcc607b57",
   "metadata": {},
   "source": [
    "::: {.callout-note appearance=\"simple\"}\n",
    "\n",
    "Still, I could not resist supplementing the basic explanation with more technical stuff. Parts, encapsulated like this one, will contain more math and require some quantum background. They can be skipped without breaking the main argument, though.\n",
    ":::"
   ]
  },
  {
   "cell_type": "markdown",
   "id": "491e42b5-82f5-46ad-b117-7b1663496b1c",
   "metadata": {},
   "source": [
    "::: {.callout-caution collapse=true appearance=\"simple\"}\n",
    "\n",
    "And occasionally there will be something even more hardcore.\n",
    ":::"
   ]
  },
  {
   "cell_type": "markdown",
   "id": "7f37907e-2794-4661-b4c4-d841c0b02d76",
   "metadata": {},
   "source": [
    "## What does this mean, exactly?\n",
    "\n",
    "I will only consider algorithms that both take as input and return as output classical data. In principle, quantum computers can take and/or return quantum information (more on that later), but classical computers can't, so it does not make sense to compare them in this setting.\n",
    "\n",
    "It is important to stress that quantum computers are not entirely magical. In principle, anything that can be done by a quantum computer can also be done by classical. The caveat is, this may take significantly more time and/or memory. However, if the quantum computer is small enough, we can easily reproduce anything it can do with a standard laptop. We call this a ***simulation*** (a classical simulation of a quantum computer, to be more precise). However, generically, ever more resources are required as we scale the quantum computer. Roughly, we need to multiply the power of our classical simulator to account for an incremental improvement of the quantum (details to follow).\n",
    "\n",
    "The question of why quantum computers can be more powerful can mean two things.\n",
    "\n",
    "1. Why does this raw power of the quantum computer grow so fast? In other words, why can't we simulate anything that a quantum computer does with a classical machine of a similar size?\n",
    "2. Why some of the things that a quantum computer can do, but a classical can not simulate, are useful? Which problems can be efficiently solved quantumly, but not classically?\n",
    "\n",
    "Here I will mostly focus on the first question, i.e. try to explain what sets a generic quantum computation apart from classical. The second question, which is by all means just as important, I will only touch briefly.\n",
    "\n",
    "Sometimes (1) is referred to as quantum supremacy, and (2) as quantum advantage. I don't like this terminology much. I'd rather call (2) something like a useful quantum supremacy/advantage or a quantum speedup. Anyway, explaining how quantum computers can be useful is a topic for another discussion, this one is about how they are different."
   ]
  },
  {
   "cell_type": "markdown",
   "id": "1b13a553-65e0-4913-95e5-5ba43479f27b",
   "metadata": {},
   "source": [
    "## The suspects\n",
    "\n",
    "Alright, what property of quantum mechanics is responsible for the potential power of quantum computation? Shouldn't it be easy to identify? Does it even make sense to ask this question, as the quantum mechanics is just so weird and spooky and a wave and a particle at the same time? Here are the usual suspects.\n",
    "\n",
    "1. Huge (exponentially large) dimension of the space where quantum states live.\n",
    "2. Quantum parallelism.\n",
    "3. Superposition.\n",
    "4. Entanglement.\n",
    "5. Contextuality.\n",
    "\n",
    "Don't worry if some concepts are unfamiliar, we will elaborate.\n",
    "\n",
    "You can probably add more. While all these things are necessary, neither is sufficient alone. And they are also come in a package, so it may not even be consistent to keep some and discard the others. However, If I had to choose, I'd probably say it's large state space + superposition, but this may be a matter of taste. "
   ]
  },
  {
   "cell_type": "markdown",
   "id": "142871b9-e23f-463b-944d-eee06681e73a",
   "metadata": {},
   "source": [
    "# What is quantum computing, anyway?\n",
    "\n",
    "## It's not really about the physics\n",
    "Well, quantum computing is a way of manipulating information made possible by the laws of quantum mechanics. One way to introduce it is to go through the history of the subject, starting somewhere around Bohr's atomic model and Einstein's photoelectric effect and going all the way to Standard Model of particle physics and quantum gravity. While understanding the confusion of the founding fathers is probably an invaluable experience, it is a risky and time-consuming endeavor. In fact, stripped of the historical context and philosophical paradoxes, quantum physics becomes nothing but a generalization of a probability theory. The fact that this mathematical model really underpins the Universe is remarkable, but we need not and will not care much about it's physical roots.\n",
    "\n",
    "## Quantum states\n",
    "Ok, let's start getting technical. Quantum computers manipulate quantum states. What are these? The simplest quantum system, known as a ***qubit*** (from ***qu***antum ***bit***), has two basic states $|0\\rangle$ and $|1\\rangle$. However, it can also be in ***superposition*** of these\n",
    "$$|\\psi\\rangle=a|0\\rangle+b|1\\rangle \\ .$$\n",
    "What does is mean for a qubit to be in this state? If you ask the qubit, i.e. make a ***measurement***, it will answer \"I'm $|0\\rangle$!\" with probability $|a|^2$ and \"I'm $|1\\rangle$!\") with probability $|b|^2$. Of course, we need to have $|a|^2+|b|^2=1$.\n",
    "\n",
    "In this respect, qubit in state $|\\psi\\rangle$ is like an unfair coin, which lands heads with probability $|a|^2$ and tails with probability $|b|^2$. Importantly, this probability distribution is not a property of the qubit itself, but \n",
    "\n",
    "\n",
    "Technically, $a$ and $b$ can be complex numbers, but for simplicity you can think they are just the usual real numbers. What is important, is that they can be negative.\n",
    "\n"
   ]
  },
  {
   "cell_type": "markdown",
   "id": "8df279f5-bd69-4961-9d57-31782047a6e4",
   "metadata": {},
   "source": [
    "1. A lot of confusion about the source of quantum advantage.\n",
    "3. Usual suspects\n",
    "    1. Large Hilbert space\n",
    "    2. Entanglement\n",
    "    3. Parallelism\n",
    "    4. Superposition\n",
    "4. Simple but accurate explanation hard to come by.\n",
    "5. Many simplistic explanations fail because they apply to probabilistic computing as well\n",
    "   1. Large space dimension for probabilities\n",
    "   2. No interference\n",
    "   3. Stochastic matrices can be simulated? Always increase entropy\n",
    "   4. Quasi-probability distr, Wigner functions\n",
    "7. And then there are classical waves.\n",
    "   1. But no exponential modes\n",
    "8. Entanglement is curios, but not crucial\n",
    "   1. Entanglement ensures exploring Hilbert space\n",
    "   2. Stabilizer circuits can be simulated\n",
    "   3. Quantum correlations are not directly related to computational advantage\n",
    "4. Algorithms vs quantum circuits.\n",
    "10. Post a bit different, try to give as simple explanation as possible.\n",
    "11. Couldn't do it, but technical parts separated.\n",
    "12. Takeaway.\n",
    "    - Dimension of the Hilbert space+superposition given a polynomial amount of qubits\n",
    "13. The answer not completely satisfactory, the subject is subtle."
   ]
  },
  {
   "cell_type": "markdown",
   "id": "b8b6cccc-ab1e-4b03-92a3-1f87019acd0c",
   "metadata": {},
   "source": [
    "# Absurdly short intro to classical computing\n",
    "- Classical computers manipulate states of bits"
   ]
  },
  {
   "cell_type": "markdown",
   "id": "2c3db34e-739f-4a84-bd07-58f23a31e149",
   "metadata": {},
   "source": [
    "# Super short intro to quantum computing\n",
    "- Physics/historical way is not necessary\n",
    "- Quantum physics is a generalization of probability\n",
    "- Quantum states are like probability distributions\n",
    "- Quantum bit -- $(\\alpha_0, \\alpha_1)$\n",
    "- Born rule\n",
    "- Space dimension of $n$ qubits is $2^n$\n",
    "- Quantum programs manipulate quantum states\n",
    "- Act as unitary matrices\n",
    "- Produce probability distributions\n",
    "- End with a measurement\n",
    "- Quantum circuit is a convenient model\n",
    "- Each gate is a rule for updating amplitudes"
   ]
  },
  {
   "cell_type": "markdown",
   "id": "40a808a4-7936-4875-957a-94eab37418ca",
   "metadata": {},
   "source": [
    "# Classical probabilistic processes"
   ]
  },
  {
   "cell_type": "markdown",
   "id": "5c1e1adc-c077-4ecf-ae64-5889f5107673",
   "metadata": {},
   "source": [
    "- State space is also huge, of the same order\n",
    "- "
   ]
  },
  {
   "cell_type": "markdown",
   "id": "7f1f77d3-8356-4489-84f0-a254a8725b30",
   "metadata": {},
   "source": [
    "# Quantum speed up suspects"
   ]
  },
  {
   "cell_type": "markdown",
   "id": "882ef6ef-f654-456c-8e34-2e5740859376",
   "metadata": {},
   "source": [
    "## Humongous Hilbert space\n",
    "- Necessary, as we could state-vector simulate everything otherwise. Not sufficient. Some things can be simulated anyway. Applies to probabilistic computing as well."
   ]
  }
 ],
 "metadata": {
  "kernelspec": {
   "display_name": "Python 3",
   "language": "python",
   "name": "python3"
  },
  "language_info": {
   "codemirror_mode": {
    "name": "ipython",
    "version": 3
   },
   "file_extension": ".py",
   "mimetype": "text/x-python",
   "name": "python",
   "nbconvert_exporter": "python",
   "pygments_lexer": "ipython3",
   "version": "3.8.10"
  },
  "widgets": {
   "application/vnd.jupyter.widget-state+json": {
    "state": {},
    "version_major": 2,
    "version_minor": 0
   }
  }
 },
 "nbformat": 4,
 "nbformat_minor": 5
}
